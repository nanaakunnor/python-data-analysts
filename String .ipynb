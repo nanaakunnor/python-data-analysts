{
 "cells": [
  {
   "cell_type": "code",
   "execution_count": 1,
   "id": "590b84dc",
   "metadata": {},
   "outputs": [
    {
     "data": {
      "text/plain": [
       "'Hi, My name is Calvin'"
      ]
     },
     "execution_count": 1,
     "metadata": {},
     "output_type": "execute_result"
    }
   ],
   "source": [
    "'Hi, My name is Calvin'"
   ]
  },
  {
   "cell_type": "code",
   "execution_count": 2,
   "id": "3374cb35",
   "metadata": {},
   "outputs": [
    {
     "data": {
      "text/plain": [
       "'Hi, My name is Calvin'"
      ]
     },
     "execution_count": 2,
     "metadata": {},
     "output_type": "execute_result"
    }
   ],
   "source": [
    "\"Hi, My name is Calvin\""
   ]
  },
  {
   "cell_type": "code",
   "execution_count": 3,
   "id": "fc2a08b8",
   "metadata": {},
   "outputs": [
    {
     "data": {
      "text/plain": [
       "'Hi, My name is Calvin'"
      ]
     },
     "execution_count": 3,
     "metadata": {},
     "output_type": "execute_result"
    }
   ],
   "source": [
    "\"\"\"Hi, My name is Calvin\"\"\""
   ]
  },
  {
   "cell_type": "code",
   "execution_count": 4,
   "id": "3bbf1500",
   "metadata": {},
   "outputs": [
    {
     "ename": "SyntaxError",
     "evalue": "invalid syntax (Temp/ipykernel_18340/1630103139.py, line 1)",
     "output_type": "error",
     "traceback": [
      "\u001b[1;36m  File \u001b[1;32m\"C:\\Users\\KWADWO~1\\AppData\\Local\\Temp/ipykernel_18340/1630103139.py\"\u001b[1;36m, line \u001b[1;32m1\u001b[0m\n\u001b[1;33m    'I'm Calvin'\u001b[0m\n\u001b[1;37m       ^\u001b[0m\n\u001b[1;31mSyntaxError\u001b[0m\u001b[1;31m:\u001b[0m invalid syntax\n"
     ]
    }
   ],
   "source": [
    "'I'm Calvin'"
   ]
  },
  {
   "cell_type": "code",
   "execution_count": 5,
   "id": "20b77285",
   "metadata": {},
   "outputs": [
    {
     "data": {
      "text/plain": [
       "'He said \"I am Calvin\"'"
      ]
     },
     "execution_count": 5,
     "metadata": {},
     "output_type": "execute_result"
    }
   ],
   "source": [
    "'He said \"I am Calvin\"'"
   ]
  },
  {
   "cell_type": "code",
   "execution_count": 6,
   "id": "cc830c83",
   "metadata": {},
   "outputs": [
    {
     "data": {
      "text/plain": [
       "\"I'm Calvin\""
      ]
     },
     "execution_count": 6,
     "metadata": {},
     "output_type": "execute_result"
    }
   ],
   "source": [
    "'I\\'m Calvin'"
   ]
  },
  {
   "cell_type": "code",
   "execution_count": 7,
   "id": "7b8a51cd",
   "metadata": {},
   "outputs": [
    {
     "data": {
      "text/plain": [
       "'He said \"I am Calvin\"'"
      ]
     },
     "execution_count": 7,
     "metadata": {},
     "output_type": "execute_result"
    }
   ],
   "source": [
    "\"He said \\\"I am Calvin\\\"\""
   ]
  },
  {
   "cell_type": "code",
   "execution_count": 8,
   "id": "e175caa8",
   "metadata": {},
   "outputs": [
    {
     "ename": "SyntaxError",
     "evalue": "EOL while scanning string literal (Temp/ipykernel_18340/178667728.py, line 1)",
     "output_type": "error",
     "traceback": [
      "\u001b[1;36m  File \u001b[1;32m\"C:\\Users\\KWADWO~1\\AppData\\Local\\Temp/ipykernel_18340/178667728.py\"\u001b[1;36m, line \u001b[1;32m1\u001b[0m\n\u001b[1;33m    'This is a suuuuuuuper loooo--\u001b[0m\n\u001b[1;37m                                  ^\u001b[0m\n\u001b[1;31mSyntaxError\u001b[0m\u001b[1;31m:\u001b[0m EOL while scanning string literal\n"
     ]
    }
   ],
   "source": [
    "'This is a suuuuuuuper loooo--\n",
    "ooooooooooog string'"
   ]
  },
  {
   "cell_type": "code",
   "execution_count": 9,
   "id": "fb2ea64b",
   "metadata": {},
   "outputs": [
    {
     "ename": "SyntaxError",
     "evalue": "EOL while scanning string literal (Temp/ipykernel_18340/1708468474.py, line 1)",
     "output_type": "error",
     "traceback": [
      "\u001b[1;36m  File \u001b[1;32m\"C:\\Users\\KWADWO~1\\AppData\\Local\\Temp/ipykernel_18340/1708468474.py\"\u001b[1;36m, line \u001b[1;32m1\u001b[0m\n\u001b[1;33m    \"This is a suuuuuuuper loooo--\u001b[0m\n\u001b[1;37m                                  ^\u001b[0m\n\u001b[1;31mSyntaxError\u001b[0m\u001b[1;31m:\u001b[0m EOL while scanning string literal\n"
     ]
    }
   ],
   "source": [
    "\"This is a suuuuuuuper loooo--\n",
    "ooooooooooog string\""
   ]
  },
  {
   "cell_type": "code",
   "execution_count": 10,
   "id": "1041c0bf",
   "metadata": {},
   "outputs": [
    {
     "data": {
      "text/plain": [
       "' This is a suuuuuuper loooooo- \\n ooooooog string '"
      ]
     },
     "execution_count": 10,
     "metadata": {},
     "output_type": "execute_result"
    }
   ],
   "source": [
    "\"\"\" This is a suuuuuuper loooooo- \n",
    " ooooooog string \"\"\""
   ]
  },
  {
   "cell_type": "code",
   "execution_count": 11,
   "id": "b9775046",
   "metadata": {},
   "outputs": [],
   "source": [
    "super_long_string = \"\"\" This is a suuuuuuper loooooo- \n",
    " ooooooog string \"\"\""
   ]
  },
  {
   "cell_type": "code",
   "execution_count": 12,
   "id": "ffbe4342",
   "metadata": {},
   "outputs": [
    {
     "name": "stdout",
     "output_type": "stream",
     "text": [
      " This is a suuuuuuper loooooo- \n",
      " ooooooog string \n"
     ]
    }
   ],
   "source": [
    "print(super_long_string)"
   ]
  },
  {
   "cell_type": "code",
   "execution_count": 13,
   "id": "311c5344",
   "metadata": {},
   "outputs": [
    {
     "name": "stdout",
     "output_type": "stream",
     "text": [
      "Hi Hobbes! \n",
      " What's up\n"
     ]
    }
   ],
   "source": [
    "print(\"Hi Hobbes! \\n What's up\")"
   ]
  },
  {
   "cell_type": "code",
   "execution_count": null,
   "id": "bfc0afb9",
   "metadata": {},
   "outputs": [],
   "source": []
  }
 ],
 "metadata": {
  "kernelspec": {
   "display_name": "Python 3 (ipykernel)",
   "language": "python",
   "name": "python3"
  },
  "language_info": {
   "codemirror_mode": {
    "name": "ipython",
    "version": 3
   },
   "file_extension": ".py",
   "mimetype": "text/x-python",
   "name": "python",
   "nbconvert_exporter": "python",
   "pygments_lexer": "ipython3",
   "version": "3.9.7"
  }
 },
 "nbformat": 4,
 "nbformat_minor": 5
}
