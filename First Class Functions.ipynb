{
 "cells": [
  {
   "cell_type": "code",
   "execution_count": 1,
   "id": "a5f8b170",
   "metadata": {},
   "outputs": [],
   "source": [
    "def my_car(car):\n",
    "    print(\"My car is a\", car)"
   ]
  },
  {
   "cell_type": "code",
   "execution_count": 2,
   "id": "b7a28f70",
   "metadata": {},
   "outputs": [
    {
     "name": "stdout",
     "output_type": "stream",
     "text": [
      "My car is a Ford Endeavor\n"
     ]
    }
   ],
   "source": [
    "my_car(\"Ford Endeavor\")"
   ]
  },
  {
   "cell_type": "code",
   "execution_count": 3,
   "id": "f896584c",
   "metadata": {},
   "outputs": [
    {
     "data": {
      "text/plain": [
       "<function __main__.my_car(car)>"
      ]
     },
     "execution_count": 3,
     "metadata": {},
     "output_type": "execute_result"
    }
   ],
   "source": [
    "my_car"
   ]
  },
  {
   "cell_type": "code",
   "execution_count": 4,
   "id": "a9e816d5",
   "metadata": {},
   "outputs": [],
   "source": [
    "car_fn = my_car"
   ]
  },
  {
   "cell_type": "code",
   "execution_count": 5,
   "id": "4564736d",
   "metadata": {},
   "outputs": [
    {
     "name": "stdout",
     "output_type": "stream",
     "text": [
      "My car is a Porsche Panamera\n"
     ]
    }
   ],
   "source": [
    "car_fn(\"Porsche Panamera\")"
   ]
  },
  {
   "cell_type": "code",
   "execution_count": 6,
   "id": "d4d0a111",
   "metadata": {},
   "outputs": [],
   "source": [
    "maximum = max"
   ]
  },
  {
   "cell_type": "code",
   "execution_count": 7,
   "id": "b13b3845",
   "metadata": {},
   "outputs": [
    {
     "data": {
      "text/plain": [
       "9678"
      ]
     },
     "execution_count": 7,
     "metadata": {},
     "output_type": "execute_result"
    }
   ],
   "source": [
    "num_list = [56, 54, 8, 9678, 987, 7]\n",
    "\n",
    "maximum(num_list)"
   ]
  },
  {
   "cell_type": "code",
   "execution_count": 8,
   "id": "09b18935",
   "metadata": {},
   "outputs": [
    {
     "data": {
      "text/plain": [
       "True"
      ]
     },
     "execution_count": 8,
     "metadata": {},
     "output_type": "execute_result"
    }
   ],
   "source": [
    "maximum == max"
   ]
  },
  {
   "cell_type": "code",
   "execution_count": 9,
   "id": "11197df9",
   "metadata": {},
   "outputs": [],
   "source": [
    "def calculate_GST(price, type_of_item):\n",
    "    if type_of_item == 'Product':\n",
    "        return price * 1.05\n",
    "    elif type_of_item == 'Service':\n",
    "        return price * 1.18\n",
    "    \n",
    "    return price * 1.35"
   ]
  },
  {
   "cell_type": "code",
   "execution_count": 10,
   "id": "1de47e9b",
   "metadata": {},
   "outputs": [],
   "source": [
    "def calculate_VAT(price, type_of_item):\n",
    "    \n",
    "    return price * 1.2"
   ]
  },
  {
   "cell_type": "code",
   "execution_count": 11,
   "id": "e5b7db06",
   "metadata": {},
   "outputs": [],
   "source": [
    "type_of_tax = calculate_GST"
   ]
  },
  {
   "cell_type": "code",
   "execution_count": 12,
   "id": "7f903fb1",
   "metadata": {},
   "outputs": [
    {
     "data": {
      "text/plain": [
       "1050.0"
      ]
     },
     "execution_count": 12,
     "metadata": {},
     "output_type": "execute_result"
    }
   ],
   "source": [
    "type_of_tax(1000, \"Product\")"
   ]
  },
  {
   "cell_type": "code",
   "execution_count": 13,
   "id": "14d0af11",
   "metadata": {},
   "outputs": [
    {
     "data": {
      "text/plain": [
       "1180.0"
      ]
     },
     "execution_count": 13,
     "metadata": {},
     "output_type": "execute_result"
    }
   ],
   "source": [
    "type_of_tax(1000, \"Service\")"
   ]
  },
  {
   "cell_type": "code",
   "execution_count": 14,
   "id": "ef5aa43c",
   "metadata": {},
   "outputs": [],
   "source": [
    "type_of_tax = calculate_VAT"
   ]
  },
  {
   "cell_type": "code",
   "execution_count": 15,
   "id": "3b6287c4",
   "metadata": {},
   "outputs": [
    {
     "data": {
      "text/plain": [
       "1200.0"
      ]
     },
     "execution_count": 15,
     "metadata": {},
     "output_type": "execute_result"
    }
   ],
   "source": [
    "type_of_tax(1000, \"Service\")"
   ]
  },
  {
   "cell_type": "code",
   "execution_count": 16,
   "id": "679d751e",
   "metadata": {},
   "outputs": [],
   "source": [
    "def find_tax_calculator(type_of_tax):\n",
    "    \n",
    "    if type_of_tax == \"GST\":\n",
    "        return calculate_GST\n",
    "    \n",
    "    elif type_of_tax == \"VAT\":\n",
    "        return calculate_VAT"
   ]
  },
  {
   "cell_type": "code",
   "execution_count": 17,
   "id": "ab876605",
   "metadata": {},
   "outputs": [
    {
     "data": {
      "text/plain": [
       "<function __main__.calculate_GST(price, type_of_item)>"
      ]
     },
     "execution_count": 17,
     "metadata": {},
     "output_type": "execute_result"
    }
   ],
   "source": [
    "gst_fn = find_tax_calculator(\"GST\")\n",
    "\n",
    "gst_fn"
   ]
  },
  {
   "cell_type": "code",
   "execution_count": 18,
   "id": "b4666681",
   "metadata": {},
   "outputs": [],
   "source": [
    "vat_fn = find_tax_calculator(\"VAT\")"
   ]
  },
  {
   "cell_type": "code",
   "execution_count": 19,
   "id": "d227a0c1",
   "metadata": {},
   "outputs": [
    {
     "data": {
      "text/plain": [
       "1050.0"
      ]
     },
     "execution_count": 19,
     "metadata": {},
     "output_type": "execute_result"
    }
   ],
   "source": [
    "gst_fn(1000, \"Product\")"
   ]
  },
  {
   "cell_type": "code",
   "execution_count": 20,
   "id": "8c5222d8",
   "metadata": {},
   "outputs": [
    {
     "data": {
      "text/plain": [
       "1200.0"
      ]
     },
     "execution_count": 20,
     "metadata": {},
     "output_type": "execute_result"
    }
   ],
   "source": [
    "vat_fn(1000, \"Product\")"
   ]
  },
  {
   "cell_type": "code",
   "execution_count": 21,
   "id": "75d6ad3c",
   "metadata": {},
   "outputs": [],
   "source": [
    "def get_price_plus_taxes(price, type_of_item, tax_fn):\n",
    "    \n",
    "    return tax_fn(price, type_of_item)"
   ]
  },
  {
   "cell_type": "code",
   "execution_count": 22,
   "id": "c8a5a483",
   "metadata": {},
   "outputs": [
    {
     "data": {
      "text/plain": [
       "2100.0"
      ]
     },
     "execution_count": 22,
     "metadata": {},
     "output_type": "execute_result"
    }
   ],
   "source": [
    "get_price_plus_taxes(2000, \"Product\", tax_fn= calculate_GST)"
   ]
  },
  {
   "cell_type": "code",
   "execution_count": 23,
   "id": "7e13753e",
   "metadata": {},
   "outputs": [
    {
     "data": {
      "text/plain": [
       "2400.0"
      ]
     },
     "execution_count": 23,
     "metadata": {},
     "output_type": "execute_result"
    }
   ],
   "source": [
    "get_price_plus_taxes(2000, \"Product\", tax_fn=calculate_VAT)"
   ]
  },
  {
   "cell_type": "code",
   "execution_count": 24,
   "id": "310a3756",
   "metadata": {},
   "outputs": [],
   "source": [
    "brand = \"Volkswagon\"\n",
    "car = \" GTI\"\n",
    "\n",
    "full_car_name = lambda brand, car: brand + car"
   ]
  },
  {
   "cell_type": "code",
   "execution_count": 25,
   "id": "67ad3083",
   "metadata": {},
   "outputs": [
    {
     "data": {
      "text/plain": [
       "'Volkswagon GTI'"
      ]
     },
     "execution_count": 25,
     "metadata": {},
     "output_type": "execute_result"
    }
   ],
   "source": [
    "full_car_name(brand, car)"
   ]
  },
  {
   "cell_type": "code",
   "execution_count": 26,
   "id": "467e7881",
   "metadata": {},
   "outputs": [
    {
     "data": {
      "text/plain": [
       "<function __main__.<lambda>(brand, car)>"
      ]
     },
     "execution_count": 26,
     "metadata": {},
     "output_type": "execute_result"
    }
   ],
   "source": [
    "full_car_name"
   ]
  },
  {
   "cell_type": "code",
   "execution_count": 27,
   "id": "3d31adde",
   "metadata": {},
   "outputs": [],
   "source": [
    "days = [\"Monday\",\"Tuesday\",\"Wednesday\",\"Thursday\",\"Friday\",\"Saturday\",\"Sunday\"]"
   ]
  },
  {
   "cell_type": "code",
   "execution_count": 28,
   "id": "f3c39a11",
   "metadata": {},
   "outputs": [],
   "source": [
    "holidays = {\"Saturday\",\"Sunday\"}"
   ]
  },
  {
   "cell_type": "code",
   "execution_count": 30,
   "id": "58fd82d5",
   "metadata": {},
   "outputs": [
    {
     "data": {
      "text/plain": [
       "<filter at 0x1cc04613850>"
      ]
     },
     "execution_count": 30,
     "metadata": {},
     "output_type": "execute_result"
    }
   ],
   "source": [
    "filter (lambda day:day not in holidays, days)"
   ]
  },
  {
   "cell_type": "code",
   "execution_count": 31,
   "id": "275309b1",
   "metadata": {},
   "outputs": [],
   "source": [
    "weekdays_list = list(filter (lambda day:day not in holidays, days))"
   ]
  },
  {
   "cell_type": "code",
   "execution_count": 32,
   "id": "59ff45bd",
   "metadata": {},
   "outputs": [
    {
     "data": {
      "text/plain": [
       "['Monday', 'Tuesday', 'Wednesday', 'Thursday', 'Friday']"
      ]
     },
     "execution_count": 32,
     "metadata": {},
     "output_type": "execute_result"
    }
   ],
   "source": [
    "weekdays_list"
   ]
  },
  {
   "cell_type": "code",
   "execution_count": null,
   "id": "47510a70",
   "metadata": {},
   "outputs": [],
   "source": []
  }
 ],
 "metadata": {
  "kernelspec": {
   "display_name": "Python 3 (ipykernel)",
   "language": "python",
   "name": "python3"
  },
  "language_info": {
   "codemirror_mode": {
    "name": "ipython",
    "version": 3
   },
   "file_extension": ".py",
   "mimetype": "text/x-python",
   "name": "python",
   "nbconvert_exporter": "python",
   "pygments_lexer": "ipython3",
   "version": "3.9.7"
  }
 },
 "nbformat": 4,
 "nbformat_minor": 5
}
