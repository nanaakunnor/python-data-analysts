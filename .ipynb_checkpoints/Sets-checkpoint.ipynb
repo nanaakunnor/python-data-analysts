{
 "cells": [
  {
   "cell_type": "code",
   "execution_count": 1,
   "id": "1dc5b470",
   "metadata": {},
   "outputs": [],
   "source": [
    "universities_set = {\"Stanford\",\n",
    "                    \"Harvard\",\n",
    "                    \"Columbia\",\n",
    "                    \"MIT\",\n",
    "                    \"Yale\",\n",
    "                    \"Cornell\",\n",
    "                    \"Stanford\",\n",
    "                    \"MIT\"}"
   ]
  },
  {
   "cell_type": "code",
   "execution_count": 2,
   "id": "d74ff37a",
   "metadata": {},
   "outputs": [
    {
     "name": "stdout",
     "output_type": "stream",
     "text": [
      "{'Columbia', 'Cornell', 'MIT', 'Yale', 'Harvard', 'Stanford'}\n"
     ]
    }
   ],
   "source": [
    "print(universities_set)"
   ]
  },
  {
   "cell_type": "code",
   "execution_count": 3,
   "id": "0a8bada3",
   "metadata": {},
   "outputs": [],
   "source": [
    "empty_set = set()"
   ]
  },
  {
   "cell_type": "code",
   "execution_count": 4,
   "id": "4750f7ab",
   "metadata": {},
   "outputs": [
    {
     "data": {
      "text/plain": [
       "set()"
      ]
     },
     "execution_count": 4,
     "metadata": {},
     "output_type": "execute_result"
    }
   ],
   "source": [
    "empty_set"
   ]
  },
  {
   "cell_type": "code",
   "execution_count": 5,
   "id": "5c32ba7e",
   "metadata": {},
   "outputs": [
    {
     "data": {
      "text/plain": [
       "set"
      ]
     },
     "execution_count": 5,
     "metadata": {},
     "output_type": "execute_result"
    }
   ],
   "source": [
    "type(universities_set)"
   ]
  },
  {
   "cell_type": "code",
   "execution_count": 6,
   "id": "934fee9f",
   "metadata": {},
   "outputs": [
    {
     "data": {
      "text/plain": [
       "{3, 6.7804, False, 'Hello World'}"
      ]
     },
     "execution_count": 6,
     "metadata": {},
     "output_type": "execute_result"
    }
   ],
   "source": [
    "mixed_set = {\"Hello World\", 3, 6.7804, False}\n",
    "\n",
    "mixed_set"
   ]
  },
  {
   "cell_type": "code",
   "execution_count": 7,
   "id": "4f95b7a7",
   "metadata": {},
   "outputs": [
    {
     "ename": "TypeError",
     "evalue": "'set' object is not subscriptable",
     "output_type": "error",
     "traceback": [
      "\u001b[1;31m---------------------------------------------------------------------------\u001b[0m",
      "\u001b[1;31mTypeError\u001b[0m                                 Traceback (most recent call last)",
      "\u001b[1;32mC:\\Users\\KWADWO~1\\AppData\\Local\\Temp/ipykernel_11192/1134306947.py\u001b[0m in \u001b[0;36m<module>\u001b[1;34m\u001b[0m\n\u001b[1;32m----> 1\u001b[1;33m \u001b[0muniversities_set\u001b[0m\u001b[1;33m[\u001b[0m\u001b[1;36m3\u001b[0m\u001b[1;33m]\u001b[0m\u001b[1;33m\u001b[0m\u001b[1;33m\u001b[0m\u001b[0m\n\u001b[0m",
      "\u001b[1;31mTypeError\u001b[0m: 'set' object is not subscriptable"
     ]
    }
   ],
   "source": [
    "universities_set[3]"
   ]
  },
  {
   "cell_type": "code",
   "execution_count": 8,
   "id": "438efdc3",
   "metadata": {},
   "outputs": [
    {
     "data": {
      "text/plain": [
       "{'Columbia', 'Cornell', 'Harvard', 'MIT', 'Princeton', 'Stanford', 'Yale'}"
      ]
     },
     "execution_count": 8,
     "metadata": {},
     "output_type": "execute_result"
    }
   ],
   "source": [
    "universities_set.add(\"Princeton\")\n",
    "\n",
    "universities_set"
   ]
  },
  {
   "cell_type": "code",
   "execution_count": 9,
   "id": "861504b3",
   "metadata": {},
   "outputs": [
    {
     "data": {
      "text/plain": [
       "{'Columbia', 'Harvard', 'MIT', 'Princeton', 'Stanford', 'Yale'}"
      ]
     },
     "execution_count": 9,
     "metadata": {},
     "output_type": "execute_result"
    }
   ],
   "source": [
    "universities_set.discard(\"Cornell\")\n",
    "\n",
    "universities_set"
   ]
  },
  {
   "cell_type": "code",
   "execution_count": 10,
   "id": "33cf9361",
   "metadata": {},
   "outputs": [],
   "source": [
    "universities_set.discard(\"Cornell\")"
   ]
  },
  {
   "cell_type": "code",
   "execution_count": 11,
   "id": "d98847ab",
   "metadata": {},
   "outputs": [
    {
     "data": {
      "text/plain": [
       "{'Columbia', 'Harvard', 'MIT', 'Princeton', 'Stanford', 'Yale'}"
      ]
     },
     "execution_count": 11,
     "metadata": {},
     "output_type": "execute_result"
    }
   ],
   "source": [
    "universities_set"
   ]
  },
  {
   "cell_type": "code",
   "execution_count": 12,
   "id": "de874df2",
   "metadata": {},
   "outputs": [
    {
     "data": {
      "text/plain": [
       "{'Columbia', 'Harvard', 'MIT', 'Stanford', 'Yale'}"
      ]
     },
     "execution_count": 12,
     "metadata": {},
     "output_type": "execute_result"
    }
   ],
   "source": [
    "universities_set.remove(\"Princeton\")\n",
    "\n",
    "universities_set"
   ]
  },
  {
   "cell_type": "code",
   "execution_count": 13,
   "id": "0ab63d8d",
   "metadata": {},
   "outputs": [
    {
     "ename": "KeyError",
     "evalue": "'Princeton'",
     "output_type": "error",
     "traceback": [
      "\u001b[1;31m---------------------------------------------------------------------------\u001b[0m",
      "\u001b[1;31mKeyError\u001b[0m                                  Traceback (most recent call last)",
      "\u001b[1;32mC:\\Users\\KWADWO~1\\AppData\\Local\\Temp/ipykernel_11192/3101417470.py\u001b[0m in \u001b[0;36m<module>\u001b[1;34m\u001b[0m\n\u001b[1;32m----> 1\u001b[1;33m \u001b[0muniversities_set\u001b[0m\u001b[1;33m.\u001b[0m\u001b[0mremove\u001b[0m\u001b[1;33m(\u001b[0m\u001b[1;34m\"Princeton\"\u001b[0m\u001b[1;33m)\u001b[0m\u001b[1;33m\u001b[0m\u001b[1;33m\u001b[0m\u001b[0m\n\u001b[0m\u001b[0;32m      2\u001b[0m \u001b[1;33m\u001b[0m\u001b[0m\n\u001b[0;32m      3\u001b[0m \u001b[0muniversities_set\u001b[0m\u001b[1;33m\u001b[0m\u001b[1;33m\u001b[0m\u001b[0m\n",
      "\u001b[1;31mKeyError\u001b[0m: 'Princeton'"
     ]
    }
   ],
   "source": [
    "universities_set.remove(\"Princeton\")\n",
    "\n",
    "universities_set"
   ]
  },
  {
   "cell_type": "code",
   "execution_count": 14,
   "id": "8c2b9d64",
   "metadata": {},
   "outputs": [],
   "source": [
    "another_set = {\"Brown\", \"Georgetown\", \"Stanford\", \"MIT\"}"
   ]
  },
  {
   "cell_type": "code",
   "execution_count": 15,
   "id": "b474ca85",
   "metadata": {},
   "outputs": [
    {
     "data": {
      "text/plain": [
       "{'Brown', 'Columbia', 'Georgetown', 'Harvard', 'MIT', 'Stanford', 'Yale'}"
      ]
     },
     "execution_count": 15,
     "metadata": {},
     "output_type": "execute_result"
    }
   ],
   "source": [
    "universities_set.union(another_set)"
   ]
  },
  {
   "cell_type": "code",
   "execution_count": 16,
   "id": "f25d3f6f",
   "metadata": {},
   "outputs": [
    {
     "data": {
      "text/plain": [
       "{'MIT', 'Stanford'}"
      ]
     },
     "execution_count": 16,
     "metadata": {},
     "output_type": "execute_result"
    }
   ],
   "source": [
    "universities_set.intersection(another_set)"
   ]
  },
  {
   "cell_type": "code",
   "execution_count": 17,
   "id": "a9d6f276",
   "metadata": {},
   "outputs": [
    {
     "data": {
      "text/plain": [
       "{'Columbia', 'Harvard', 'Yale'}"
      ]
     },
     "execution_count": 17,
     "metadata": {},
     "output_type": "execute_result"
    }
   ],
   "source": [
    "universities_set.difference(another_set)"
   ]
  },
  {
   "cell_type": "code",
   "execution_count": null,
   "id": "9e904fba",
   "metadata": {},
   "outputs": [],
   "source": []
  }
 ],
 "metadata": {
  "kernelspec": {
   "display_name": "Python 3 (ipykernel)",
   "language": "python",
   "name": "python3"
  },
  "language_info": {
   "codemirror_mode": {
    "name": "ipython",
    "version": 3
   },
   "file_extension": ".py",
   "mimetype": "text/x-python",
   "name": "python",
   "nbconvert_exporter": "python",
   "pygments_lexer": "ipython3",
   "version": "3.9.7"
  }
 },
 "nbformat": 4,
 "nbformat_minor": 5
}
