{
 "cells": [
  {
   "cell_type": "code",
   "execution_count": 1,
   "id": "7a72a6cd",
   "metadata": {},
   "outputs": [
    {
     "name": "stdout",
     "output_type": "stream",
     "text": [
      "This condition evalutes to true\n"
     ]
    }
   ],
   "source": [
    "if True:\n",
    "    print(\"This condition evalutes to true\")"
   ]
  },
  {
   "cell_type": "code",
   "execution_count": 2,
   "id": "ffef86df",
   "metadata": {},
   "outputs": [],
   "source": [
    "if False:\n",
    "    print(\"This should not be executed, the condition is false\")"
   ]
  },
  {
   "cell_type": "code",
   "execution_count": 3,
   "id": "02242163",
   "metadata": {},
   "outputs": [
    {
     "data": {
      "text/plain": [
       "True"
      ]
     },
     "execution_count": 3,
     "metadata": {},
     "output_type": "execute_result"
    }
   ],
   "source": [
    "25 < 30"
   ]
  },
  {
   "cell_type": "code",
   "execution_count": 4,
   "id": "317dd4c4",
   "metadata": {},
   "outputs": [
    {
     "data": {
      "text/plain": [
       "False"
      ]
     },
     "execution_count": 4,
     "metadata": {},
     "output_type": "execute_result"
    }
   ],
   "source": [
    "25 > 30"
   ]
  },
  {
   "cell_type": "code",
   "execution_count": 5,
   "id": "1ce4f68a",
   "metadata": {},
   "outputs": [
    {
     "name": "stdout",
     "output_type": "stream",
     "text": [
      "25 is less than 30\n"
     ]
    }
   ],
   "source": [
    "if 25 < 30: \n",
    "    print(\"25 is less than 30\")"
   ]
  },
  {
   "cell_type": "code",
   "execution_count": 6,
   "id": "301d646a",
   "metadata": {},
   "outputs": [],
   "source": [
    "if 25 > 30:\n",
    "    print(\"Really? Is 25 greater than 30?\")"
   ]
  },
  {
   "cell_type": "code",
   "execution_count": 7,
   "id": "72b91cc1",
   "metadata": {},
   "outputs": [],
   "source": [
    "if 35 == 25:\n",
    "    print(\"35 and 25 are exactly the same value\")"
   ]
  },
  {
   "cell_type": "code",
   "execution_count": 8,
   "id": "cd1aabd9",
   "metadata": {},
   "outputs": [
    {
     "name": "stdout",
     "output_type": "stream",
     "text": [
      "35 and 25 are NOT exactly the same value\n"
     ]
    }
   ],
   "source": [
    "if not 35 == 25:\n",
    "    print(\"35 and 25 are NOT exactly the same value\")"
   ]
  },
  {
   "cell_type": "code",
   "execution_count": 9,
   "id": "eaa0e7a2",
   "metadata": {},
   "outputs": [
    {
     "ename": "SyntaxError",
     "evalue": "invalid syntax (Temp/ipykernel_19596/771417139.py, line 1)",
     "output_type": "error",
     "traceback": [
      "\u001b[1;36m  File \u001b[1;32m\"C:\\Users\\KWADWO~1\\AppData\\Local\\Temp/ipykernel_19596/771417139.py\"\u001b[1;36m, line \u001b[1;32m1\u001b[0m\n\u001b[1;33m    if 35 = 35:\u001b[0m\n\u001b[1;37m          ^\u001b[0m\n\u001b[1;31mSyntaxError\u001b[0m\u001b[1;31m:\u001b[0m invalid syntax\n"
     ]
    }
   ],
   "source": [
    "if 35 = 35:\n",
    "    print(\"Both values are the same\")"
   ]
  },
  {
   "cell_type": "code",
   "execution_count": 10,
   "id": "7c5f7ab8",
   "metadata": {},
   "outputs": [
    {
     "name": "stdout",
     "output_type": "stream",
     "text": [
      "The number is greater than zero: 225\n"
     ]
    }
   ],
   "source": [
    "num = 225\n",
    "\n",
    "if num > 0:\n",
    "    print(\"The number is greater than zero:\", num)"
   ]
  },
  {
   "cell_type": "code",
   "execution_count": 11,
   "id": "ef0ddb6d",
   "metadata": {},
   "outputs": [
    {
     "name": "stdout",
     "output_type": "stream",
     "text": [
      "The number is greater than zero: 225\n"
     ]
    }
   ],
   "source": [
    "if num:\n",
    "    print(\"The number is greater than zero:\", num)"
   ]
  },
  {
   "cell_type": "code",
   "execution_count": 12,
   "id": "b833865f",
   "metadata": {},
   "outputs": [
    {
     "name": "stdout",
     "output_type": "stream",
     "text": [
      "35 + 165 = 100 + 100 is correct!\n"
     ]
    }
   ],
   "source": [
    "if 35 + 165 == 100 + 100:\n",
    "    print(\"35 + 165 = 100 + 100 is correct!\")"
   ]
  },
  {
   "cell_type": "code",
   "execution_count": 13,
   "id": "f0dfc847",
   "metadata": {},
   "outputs": [
    {
     "ename": "IndentationError",
     "evalue": "expected an indented block (Temp/ipykernel_19596/1471454614.py, line 2)",
     "output_type": "error",
     "traceback": [
      "\u001b[1;36m  File \u001b[1;32m\"C:\\Users\\KWADWO~1\\AppData\\Local\\Temp/ipykernel_19596/1471454614.py\"\u001b[1;36m, line \u001b[1;32m2\u001b[0m\n\u001b[1;33m    print(\"55 >= 45\")\u001b[0m\n\u001b[1;37m    ^\u001b[0m\n\u001b[1;31mIndentationError\u001b[0m\u001b[1;31m:\u001b[0m expected an indented block\n"
     ]
    }
   ],
   "source": [
    "if 55 >= 45:\n",
    "print(\"55 >= 45\")"
   ]
  },
  {
   "cell_type": "code",
   "execution_count": 14,
   "id": "4f86eae5",
   "metadata": {},
   "outputs": [],
   "source": [
    "salary = 1000\n",
    "expenses = 770"
   ]
  },
  {
   "cell_type": "code",
   "execution_count": 15,
   "id": "eac99d9f",
   "metadata": {},
   "outputs": [],
   "source": [
    "living_within_means = False\n",
    "\n",
    "if salary - expenses > 0:\n",
    "    living_within_means = True"
   ]
  },
  {
   "cell_type": "code",
   "execution_count": 16,
   "id": "2760d7f2",
   "metadata": {},
   "outputs": [
    {
     "name": "stdout",
     "output_type": "stream",
     "text": [
      "Am I living within my means? True\n"
     ]
    }
   ],
   "source": [
    "print(\"Am I living within my means?\", living_within_means)"
   ]
  },
  {
   "cell_type": "code",
   "execution_count": 17,
   "id": "d2ffdb3b",
   "metadata": {},
   "outputs": [
    {
     "name": "stdout",
     "output_type": "stream",
     "text": [
      "100 > 50 > 10\n"
     ]
    }
   ],
   "source": [
    "if 100 > 50 > 10:\n",
    "    print(\"100 > 50 > 10\")"
   ]
  },
  {
   "cell_type": "code",
   "execution_count": 18,
   "id": "7b1333e7",
   "metadata": {},
   "outputs": [
    {
     "name": "stdout",
     "output_type": "stream",
     "text": [
      "I'm glad you're saving but perhaps your expenses could be reduced?\n"
     ]
    }
   ],
   "source": [
    "salary = 1000\n",
    "expenses = 770\n",
    "\n",
    "living_within_means = salary - expenses > 0\n",
    "\n",
    "if living_within_means and expenses > 500:\n",
    "    print(\"I'm glad you're saving but perhaps your expenses could be reduced?\")"
   ]
  },
  {
   "cell_type": "code",
   "execution_count": 19,
   "id": "59328d02",
   "metadata": {},
   "outputs": [
    {
     "name": "stdout",
     "output_type": "stream",
     "text": [
      "I'm glad you're saving but perhaps your expenses could be lower?\n"
     ]
    }
   ],
   "source": [
    "salary = 1000\n",
    "expenses = 770\n",
    "\n",
    "living_within_means = salary - expenses > 0\n",
    "\n",
    "if living_within_means and expenses > 500:\n",
    "    print(\"I'm glad you're saving but perhaps your expenses could be lower?\")"
   ]
  },
  {
   "cell_type": "code",
   "execution_count": 20,
   "id": "58316645",
   "metadata": {},
   "outputs": [
    {
     "name": "stdout",
     "output_type": "stream",
     "text": [
      "This is printed because 2 is definitely less than 5\n"
     ]
    }
   ],
   "source": [
    "if 2 <= 5 or 7 >= 8:\n",
    "   print(\"This is printed because 2 is definitely less than 5\") "
   ]
  },
  {
   "cell_type": "code",
   "execution_count": 22,
   "id": "7a05bc77",
   "metadata": {},
   "outputs": [
    {
     "name": "stdout",
     "output_type": "stream",
     "text": [
      "Savings for the month:  230\n"
     ]
    }
   ],
   "source": [
    "salary = 1000 \n",
    "expenses = 770\n",
    "\n",
    "savings = 0\n",
    "\n",
    "if salary > expenses: \n",
    "    savings = salary - expenses\n",
    "    print(\"Savings for the month: \", savings)"
   ]
  },
  {
   "cell_type": "code",
   "execution_count": 23,
   "id": "0ea4eb7f",
   "metadata": {},
   "outputs": [
    {
     "name": "stdout",
     "output_type": "stream",
     "text": [
      "Savings for the month:  230\n"
     ]
    }
   ],
   "source": [
    "salary = 1000\n",
    "expenses  = 770\n",
    "\n",
    "if salary > expenses:\n",
    "    print(\"Savings for the month: \", salary - expenses)\n",
    "else:\n",
    "    print(\"Loans to tide you over: \", expenses - savings)"
   ]
  },
  {
   "cell_type": "code",
   "execution_count": 26,
   "id": "56085197",
   "metadata": {},
   "outputs": [
    {
     "name": "stdout",
     "output_type": "stream",
     "text": [
      "Loans to tide you over:  100\n"
     ]
    }
   ],
   "source": [
    "salary = 1000\n",
    "expenses  = 1100\n",
    "\n",
    "if salary > expenses:\n",
    "    print(\"Savings for the month: \", salary - expenses)\n",
    "else:\n",
    "    print(\"Loans to tide you over: \", expenses - salary)"
   ]
  },
  {
   "cell_type": "code",
   "execution_count": 27,
   "id": "93ad94eb",
   "metadata": {},
   "outputs": [
    {
     "name": "stdout",
     "output_type": "stream",
     "text": [
      "The smallest value in this list is negative\n"
     ]
    }
   ],
   "source": [
    "some_list = [3, 5, 1, 9, -10, 100, 22, 21, -1]\n",
    "\n",
    "if min(some_list) < 0:\n",
    "    print(\"The smallest value in this list is negative\")\n",
    "else:\n",
    "    print(\"The smallest value in this list is positive\")"
   ]
  },
  {
   "cell_type": "code",
   "execution_count": 28,
   "id": "818dd55a",
   "metadata": {},
   "outputs": [
    {
     "name": "stdout",
     "output_type": "stream",
     "text": [
      "Saving for the month:  230\n",
      "Savings:  230 Loans:  0\n"
     ]
    }
   ],
   "source": [
    "salary = 1000\n",
    "expenses = 770\n",
    "\n",
    "savings = 0\n",
    "loans = 0\n",
    "\n",
    "if salary > expenses:\n",
    "    savings = salary - expenses\n",
    "    print(\"Saving for the month: \", savings)\n",
    "else:\n",
    "    loans = abs(salary - expenses)\n",
    "    print(\"Loans taken: \", loans)\n",
    "    \n",
    "print(\"Savings: \", savings, \"Loans: \", loans)"
   ]
  },
  {
   "cell_type": "code",
   "execution_count": 29,
   "id": "5edec992",
   "metadata": {},
   "outputs": [],
   "source": [
    "classic_cars = [\"Pierce Arrow\", \"Oldsmobile\", \"Mustang\"]\n",
    "\n",
    "sports_cars = [\"Agera\", \"Regera\", \"Chiron\", \"Veyron\"]\n",
    "\n",
    "planes = [\"A380\", \"747\", \"A370\"]"
   ]
  },
  {
   "cell_type": "code",
   "execution_count": 30,
   "id": "163a087b",
   "metadata": {},
   "outputs": [
    {
     "name": "stdout",
     "output_type": "stream",
     "text": [
      "That isn't a very long list of classic cars\n"
     ]
    }
   ],
   "source": [
    "if len(classic_cars) < 5:\n",
    "    print(\"That isn't a very long list of classic cars\")"
   ]
  },
  {
   "cell_type": "code",
   "execution_count": 31,
   "id": "c2558407",
   "metadata": {},
   "outputs": [
    {
     "name": "stdout",
     "output_type": "stream",
     "text": [
      "Your type of transportation is a sports car\n"
     ]
    }
   ],
   "source": [
    "transportation = \"Chiron\"\n",
    "if transportation in classic_cars:\n",
    "    print(\"Your type of transportation is a classic car\")\n",
    "    \n",
    "if transportation in sports_cars:\n",
    "    print(\"Your type of transportation is a sports car\")\n",
    "    \n",
    "if transportation in planes:\n",
    "    print(\"Your type of trasportation is a plane\")\n",
    "    "
   ]
  },
  {
   "cell_type": "code",
   "execution_count": 32,
   "id": "244b33aa",
   "metadata": {},
   "outputs": [],
   "source": [
    "luxury_cars_and_their_horsepowers = {\"Phantom\" : 414,\n",
    "                                     \"Cullinan\" : 420,\n",
    "                                     \"Wraith\" : 465,\n",
    "                                     \"Ghost\" : 420,\n",
    "                                     \"Dawn\" : 420}"
   ]
  },
  {
   "cell_type": "code",
   "execution_count": 33,
   "id": "8c3ff260",
   "metadata": {},
   "outputs": [
    {
     "name": "stdout",
     "output_type": "stream",
     "text": [
      "The Phantom is in the luxury_cars_and_their_horsepowers\n"
     ]
    }
   ],
   "source": [
    "if \"Phantom\" in luxury_cars_and_their_horsepowers:\n",
    "    print(\"The Phantom is in the luxury_cars_and_their_horsepowers\")"
   ]
  },
  {
   "cell_type": "code",
   "execution_count": 34,
   "id": "9b7a5e2b",
   "metadata": {},
   "outputs": [
    {
     "name": "stdout",
     "output_type": "stream",
     "text": [
      "The Maybach is not in luxury_cars_and_their_horsepowers\n"
     ]
    }
   ],
   "source": [
    "if \"Maybach\" not in luxury_cars_and_their_horsepowers:\n",
    "    print(\"The Maybach is not in luxury_cars_and_their_horsepowers\")"
   ]
  },
  {
   "cell_type": "code",
   "execution_count": 35,
   "id": "e54b4731",
   "metadata": {},
   "outputs": [],
   "source": [
    "camera_brands = {\"Canon\",\n",
    "                 \"Nikon\",\n",
    "                 \"Sony\",\n",
    "                 \"Panasonic\",\n",
    "                 \"Pentax\",\n",
    "                 \"Olympus\"}"
   ]
  },
  {
   "cell_type": "code",
   "execution_count": 36,
   "id": "2dbe278d",
   "metadata": {},
   "outputs": [
    {
     "data": {
      "text/plain": [
       "{'Canon', 'Nikon', 'Olympus', 'Panasonic', 'Pentax', 'Sony'}"
      ]
     },
     "execution_count": 36,
     "metadata": {},
     "output_type": "execute_result"
    }
   ],
   "source": [
    "camera_brands"
   ]
  },
  {
   "cell_type": "code",
   "execution_count": 37,
   "id": "002117df",
   "metadata": {},
   "outputs": [
    {
     "name": "stdout",
     "output_type": "stream",
     "text": [
      "What camera brand do you like? \n",
      "Cann\n",
      "Uh... Just wait, I'll add that to my set\n",
      "Camera brands:  {'Canon', 'Panasonic', 'Sony', 'Pentax', 'Cann', 'Nikon', 'Olympus'}\n"
     ]
    }
   ],
   "source": [
    "camera_input = input(\"What camera brand do you like? \\n\")\n",
    "\n",
    "if camera_input in camera_brands:\n",
    "    print(\"Great, That camera brand is in the set already\")\n",
    "else:\n",
    "    print(\"Uh... Just wait, I'll add that to my set\")\n",
    "    camera_brands.add(camera_input)\n",
    "\n",
    "print(\"Camera brands: \", camera_brands)"
   ]
  },
  {
   "cell_type": "code",
   "execution_count": 38,
   "id": "3bea68cf",
   "metadata": {},
   "outputs": [
    {
     "name": "stdout",
     "output_type": "stream",
     "text": [
      "You did great at math! 90\n"
     ]
    }
   ],
   "source": [
    "math_score = 90\n",
    "\n",
    "if math_score < 20:\n",
    "    print(\"I'm afraid that is not a great score\", math_score)\n",
    "    \n",
    "elif math_score < 50:\n",
    "    print(\"Oh you can definitely do better than this\", math_score)\n",
    "    \n",
    "elif math_score < 80:\n",
    "    print(\"Ahh you're close to the highest grade you can get\", math_score)\n",
    "\n",
    "elif math_score < 100:\n",
    "    print(\"You did great at math!\", math_score)"
   ]
  },
  {
   "cell_type": "code",
   "execution_count": 39,
   "id": "b4f14572",
   "metadata": {},
   "outputs": [
    {
     "name": "stdout",
     "output_type": "stream",
     "text": [
      "You did great at math! 90\n"
     ]
    }
   ],
   "source": [
    "## TODO: Run with 90, 20\n",
    "math_score = 90\n",
    "\n",
    "if math_score < 100:\n",
    "    print(\"You did great at math!\", math_score)   \n",
    "\n",
    "elif math_score < 80:\n",
    "    print(\"Ahh you're close to the highest grade you can get\", math_score)\n",
    "\n",
    "elif math_score < 50:\n",
    "    print(\"Oh you can definitely do better than this\", math_score)\n",
    "\n",
    "elif math_score < 20:\n",
    "    print(\"I'm afraid that is not a great score\", math_score)"
   ]
  },
  {
   "cell_type": "code",
   "execution_count": 40,
   "id": "9263fd59",
   "metadata": {},
   "outputs": [
    {
     "name": "stdout",
     "output_type": "stream",
     "text": [
      "Which book do you like ? \n",
      "Harry Potter\n",
      "I love it!\n"
     ]
    }
   ],
   "source": [
    "## TODO: Run with \"Geronimo Stilton\", \"Harry Potter\" and \"Timmy Failure\"\n",
    "\n",
    "book_input = input(\"Which book do you like ? \\n\")\n",
    "\n",
    "if book_input == \"Geronimo Stilton\":\n",
    "    print(\"I like it too!\")\n",
    "    \n",
    "elif book_input == \"Dairy of a Wimpy Kid\":\n",
    "    print(\"It's one of my favorites!\")\n",
    "    \n",
    "elif book_input == \"Harry Potter\":\n",
    "    print(\"I love it!\")\n",
    "    \n",
    "else:\n",
    "    print(\"I guess that isn't too bad either\")"
   ]
  },
  {
   "cell_type": "code",
   "execution_count": null,
   "id": "925d4d79",
   "metadata": {},
   "outputs": [],
   "source": []
  }
 ],
 "metadata": {
  "kernelspec": {
   "display_name": "Python 3 (ipykernel)",
   "language": "python",
   "name": "python3"
  },
  "language_info": {
   "codemirror_mode": {
    "name": "ipython",
    "version": 3
   },
   "file_extension": ".py",
   "mimetype": "text/x-python",
   "name": "python",
   "nbconvert_exporter": "python",
   "pygments_lexer": "ipython3",
   "version": "3.9.7"
  }
 },
 "nbformat": 4,
 "nbformat_minor": 5
}
