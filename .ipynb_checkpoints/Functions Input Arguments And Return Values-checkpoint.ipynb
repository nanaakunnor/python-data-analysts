{
 "cells": [
  {
   "cell_type": "code",
   "execution_count": 1,
   "id": "d0f9e644",
   "metadata": {},
   "outputs": [
    {
     "name": "stdout",
     "output_type": "stream",
     "text": [
      "Hello!\n"
     ]
    }
   ],
   "source": [
    "print(\"Hello!\")"
   ]
  },
  {
   "cell_type": "code",
   "execution_count": 2,
   "id": "05114798",
   "metadata": {},
   "outputs": [
    {
     "data": {
      "text/plain": [
       "5"
      ]
     },
     "execution_count": 2,
     "metadata": {},
     "output_type": "execute_result"
    }
   ],
   "source": [
    "len(\"Hello\")"
   ]
  },
  {
   "cell_type": "code",
   "execution_count": 3,
   "id": "087f26c0",
   "metadata": {},
   "outputs": [
    {
     "data": {
      "text/plain": [
       "20"
      ]
     },
     "execution_count": 3,
     "metadata": {},
     "output_type": "execute_result"
    }
   ],
   "source": [
    "num_list = [2, 4, 6, 8]\n",
    "\n",
    "sum(num_list)"
   ]
  },
  {
   "cell_type": "code",
   "execution_count": 4,
   "id": "8135287c",
   "metadata": {},
   "outputs": [
    {
     "data": {
      "text/plain": [
       "10"
      ]
     },
     "execution_count": 4,
     "metadata": {},
     "output_type": "execute_result"
    }
   ],
   "source": [
    "abs(-10)"
   ]
  },
  {
   "cell_type": "code",
   "execution_count": 5,
   "id": "5c1a5410",
   "metadata": {},
   "outputs": [],
   "source": [
    "def do_something():\n",
    "    pass"
   ]
  },
  {
   "cell_type": "code",
   "execution_count": 6,
   "id": "f744cf91",
   "metadata": {},
   "outputs": [],
   "source": [
    "do_something()"
   ]
  },
  {
   "cell_type": "code",
   "execution_count": 7,
   "id": "6f47b0d8",
   "metadata": {},
   "outputs": [],
   "source": [
    "def greet():\n",
    "    print(\"Good morning to you!\")"
   ]
  },
  {
   "cell_type": "code",
   "execution_count": 8,
   "id": "45a43102",
   "metadata": {},
   "outputs": [
    {
     "name": "stdout",
     "output_type": "stream",
     "text": [
      "Good morning to you!\n"
     ]
    }
   ],
   "source": [
    "greet()"
   ]
  },
  {
   "cell_type": "code",
   "execution_count": 9,
   "id": "db6bded1",
   "metadata": {},
   "outputs": [
    {
     "ename": "NameError",
     "evalue": "name 'say_hello' is not defined",
     "output_type": "error",
     "traceback": [
      "\u001b[1;31m---------------------------------------------------------------------------\u001b[0m",
      "\u001b[1;31mNameError\u001b[0m                                 Traceback (most recent call last)",
      "\u001b[1;32mC:\\Users\\KWADWO~1\\AppData\\Local\\Temp/ipykernel_17712/2814888808.py\u001b[0m in \u001b[0;36m<module>\u001b[1;34m\u001b[0m\n\u001b[1;32m----> 1\u001b[1;33m \u001b[0msay_hello\u001b[0m\u001b[1;33m(\u001b[0m\u001b[1;33m)\u001b[0m\u001b[1;33m\u001b[0m\u001b[1;33m\u001b[0m\u001b[0m\n\u001b[0m",
      "\u001b[1;31mNameError\u001b[0m: name 'say_hello' is not defined"
     ]
    }
   ],
   "source": [
    "say_hello()"
   ]
  },
  {
   "cell_type": "code",
   "execution_count": 10,
   "id": "a7375ab5",
   "metadata": {},
   "outputs": [],
   "source": [
    "def say_hello():\n",
    "    print(\"Hello there\")"
   ]
  },
  {
   "cell_type": "code",
   "execution_count": 11,
   "id": "5db2f419",
   "metadata": {},
   "outputs": [
    {
     "name": "stdout",
     "output_type": "stream",
     "text": [
      "Hello there\n"
     ]
    }
   ],
   "source": [
    "say_hello()"
   ]
  },
  {
   "cell_type": "code",
   "execution_count": 12,
   "id": "65650281",
   "metadata": {},
   "outputs": [
    {
     "ename": "NameError",
     "evalue": "name 'asd' is not defined",
     "output_type": "error",
     "traceback": [
      "\u001b[1;31m---------------------------------------------------------------------------\u001b[0m",
      "\u001b[1;31mNameError\u001b[0m                                 Traceback (most recent call last)",
      "\u001b[1;32mC:\\Users\\KWADWO~1\\AppData\\Local\\Temp/ipykernel_17712/673431956.py\u001b[0m in \u001b[0;36m<module>\u001b[1;34m\u001b[0m\n\u001b[1;32m----> 1\u001b[1;33m \u001b[0mprint\u001b[0m\u001b[1;33m(\u001b[0m\u001b[0masd\u001b[0m\u001b[1;33m)\u001b[0m\u001b[1;33m\u001b[0m\u001b[1;33m\u001b[0m\u001b[0m\n\u001b[0m",
      "\u001b[1;31mNameError\u001b[0m: name 'asd' is not defined"
     ]
    }
   ],
   "source": [
    "print(asd)"
   ]
  },
  {
   "cell_type": "code",
   "execution_count": 13,
   "id": "6a162f00",
   "metadata": {},
   "outputs": [],
   "source": [
    "def causes_error():\n",
    "    \n",
    "    print(asd)"
   ]
  },
  {
   "cell_type": "code",
   "execution_count": 14,
   "id": "06a70abf",
   "metadata": {},
   "outputs": [
    {
     "ename": "NameError",
     "evalue": "name 'asd' is not defined",
     "output_type": "error",
     "traceback": [
      "\u001b[1;31m---------------------------------------------------------------------------\u001b[0m",
      "\u001b[1;31mNameError\u001b[0m                                 Traceback (most recent call last)",
      "\u001b[1;32mC:\\Users\\KWADWO~1\\AppData\\Local\\Temp/ipykernel_17712/2664050710.py\u001b[0m in \u001b[0;36m<module>\u001b[1;34m\u001b[0m\n\u001b[1;32m----> 1\u001b[1;33m \u001b[0mcauses_error\u001b[0m\u001b[1;33m(\u001b[0m\u001b[1;33m)\u001b[0m\u001b[1;33m\u001b[0m\u001b[1;33m\u001b[0m\u001b[0m\n\u001b[0m",
      "\u001b[1;32mC:\\Users\\KWADWO~1\\AppData\\Local\\Temp/ipykernel_17712/3360394475.py\u001b[0m in \u001b[0;36mcauses_error\u001b[1;34m()\u001b[0m\n\u001b[0;32m      1\u001b[0m \u001b[1;32mdef\u001b[0m \u001b[0mcauses_error\u001b[0m\u001b[1;33m(\u001b[0m\u001b[1;33m)\u001b[0m\u001b[1;33m:\u001b[0m\u001b[1;33m\u001b[0m\u001b[1;33m\u001b[0m\u001b[0m\n\u001b[0;32m      2\u001b[0m \u001b[1;33m\u001b[0m\u001b[0m\n\u001b[1;32m----> 3\u001b[1;33m     \u001b[0mprint\u001b[0m\u001b[1;33m(\u001b[0m\u001b[0masd\u001b[0m\u001b[1;33m)\u001b[0m\u001b[1;33m\u001b[0m\u001b[1;33m\u001b[0m\u001b[0m\n\u001b[0m",
      "\u001b[1;31mNameError\u001b[0m: name 'asd' is not defined"
     ]
    }
   ],
   "source": [
    "causes_error()"
   ]
  },
  {
   "cell_type": "code",
   "execution_count": 15,
   "id": "4a4cdf71",
   "metadata": {},
   "outputs": [],
   "source": [
    "asd = \"Some stuff here\""
   ]
  },
  {
   "cell_type": "code",
   "execution_count": 16,
   "id": "c191505b",
   "metadata": {},
   "outputs": [
    {
     "name": "stdout",
     "output_type": "stream",
     "text": [
      "Some stuff here\n"
     ]
    }
   ],
   "source": [
    "causes_error()"
   ]
  },
  {
   "cell_type": "code",
   "execution_count": 17,
   "id": "8ec1859b",
   "metadata": {},
   "outputs": [],
   "source": [
    "def calculate_sum():\n",
    "    \n",
    "    print(\"Sum of 2, 3, 4, is\", 2 + 3 + 4)"
   ]
  },
  {
   "cell_type": "code",
   "execution_count": 18,
   "id": "77c5c19b",
   "metadata": {},
   "outputs": [
    {
     "name": "stdout",
     "output_type": "stream",
     "text": [
      "Sum of 2, 3, 4, is 9\n"
     ]
    }
   ],
   "source": [
    "calculate_sum()"
   ]
  },
  {
   "cell_type": "code",
   "execution_count": 19,
   "id": "0f9e25e2",
   "metadata": {},
   "outputs": [],
   "source": [
    "a = 2\n",
    "b = 3\n",
    "c = 4\n",
    "\n",
    "def calculate_sum():\n",
    "    result = a + b + c\n",
    "    \n",
    "    print(\"Sum of a, b, c is\", result)\n",
    "    \n",
    "    if result < 10:\n",
    "        print(\"This sum is less than 10!\")"
   ]
  },
  {
   "cell_type": "code",
   "execution_count": 20,
   "id": "a2f0f2e4",
   "metadata": {},
   "outputs": [
    {
     "name": "stdout",
     "output_type": "stream",
     "text": [
      "Sum of a, b, c is 9\n",
      "This sum is less than 10!\n"
     ]
    }
   ],
   "source": [
    "calculate_sum()"
   ]
  },
  {
   "cell_type": "code",
   "execution_count": 21,
   "id": "6e5ac803",
   "metadata": {},
   "outputs": [],
   "source": [
    "a = 1 "
   ]
  },
  {
   "cell_type": "code",
   "execution_count": 22,
   "id": "ff5dc325",
   "metadata": {},
   "outputs": [
    {
     "name": "stdout",
     "output_type": "stream",
     "text": [
      "Sum of a, b, c is 8\n",
      "This sum is less than 10!\n"
     ]
    }
   ],
   "source": [
    "calculate_sum()"
   ]
  },
  {
   "cell_type": "code",
   "execution_count": 23,
   "id": "2493179a",
   "metadata": {},
   "outputs": [
    {
     "name": "stdout",
     "output_type": "stream",
     "text": [
      "Sum of a, b, c is 105\n"
     ]
    }
   ],
   "source": [
    "b = 100\n",
    "\n",
    "calculate_sum()"
   ]
  },
  {
   "cell_type": "code",
   "execution_count": 24,
   "id": "63ec7de2",
   "metadata": {},
   "outputs": [],
   "source": [
    "def calculate_sum(a, b, c):\n",
    "    \n",
    "    result = a + b + c\n",
    "    \n",
    "    print(\"Sum of a, b, c is\", result)\n",
    "    \n",
    "    if result < 10:\n",
    "        print(\"The sum is less than 10\")\n",
    "    else:\n",
    "        print(\"The sum is greater than 10\")"
   ]
  },
  {
   "cell_type": "code",
   "execution_count": 25,
   "id": "be28f423",
   "metadata": {},
   "outputs": [
    {
     "ename": "TypeError",
     "evalue": "calculate_sum() missing 2 required positional arguments: 'b' and 'c'",
     "output_type": "error",
     "traceback": [
      "\u001b[1;31m---------------------------------------------------------------------------\u001b[0m",
      "\u001b[1;31mTypeError\u001b[0m                                 Traceback (most recent call last)",
      "\u001b[1;32mC:\\Users\\KWADWO~1\\AppData\\Local\\Temp/ipykernel_17712/3747160759.py\u001b[0m in \u001b[0;36m<module>\u001b[1;34m\u001b[0m\n\u001b[1;32m----> 1\u001b[1;33m \u001b[0mcalculate_sum\u001b[0m\u001b[1;33m(\u001b[0m\u001b[1;36m2\u001b[0m\u001b[1;33m)\u001b[0m\u001b[1;33m\u001b[0m\u001b[1;33m\u001b[0m\u001b[0m\n\u001b[0m",
      "\u001b[1;31mTypeError\u001b[0m: calculate_sum() missing 2 required positional arguments: 'b' and 'c'"
     ]
    }
   ],
   "source": [
    "calculate_sum(2)"
   ]
  },
  {
   "cell_type": "code",
   "execution_count": 26,
   "id": "565afaa1",
   "metadata": {},
   "outputs": [
    {
     "name": "stdout",
     "output_type": "stream",
     "text": [
      "Sum of a, b, c is 9\n",
      "The sum is less than 10\n"
     ]
    }
   ],
   "source": [
    "calculate_sum(2, 3, 4)"
   ]
  },
  {
   "cell_type": "code",
   "execution_count": 27,
   "id": "b53b50db",
   "metadata": {},
   "outputs": [
    {
     "name": "stdout",
     "output_type": "stream",
     "text": [
      "Sum of a, b, c is 900\n",
      "The sum is greater than 10\n"
     ]
    }
   ],
   "source": [
    "calculate_sum(200, 300, 400)"
   ]
  },
  {
   "cell_type": "code",
   "execution_count": 28,
   "id": "cfd9584d",
   "metadata": {},
   "outputs": [
    {
     "name": "stdout",
     "output_type": "stream",
     "text": [
      "Sum of a, b, c is 90\n",
      "The sum is greater than 10\n"
     ]
    }
   ],
   "source": [
    "x = 20\n",
    "y = 30\n",
    "z = 40\n",
    "\n",
    "calculate_sum(x, y, z)"
   ]
  },
  {
   "cell_type": "code",
   "execution_count": 29,
   "id": "3bf4ac42",
   "metadata": {},
   "outputs": [],
   "source": [
    "def raise_to_the_power(num, exponent):\n",
    "    \n",
    "    power = num ** exponent\n",
    "    \n",
    "    print(power)"
   ]
  },
  {
   "cell_type": "code",
   "execution_count": 30,
   "id": "2dc27d68",
   "metadata": {},
   "outputs": [
    {
     "name": "stdout",
     "output_type": "stream",
     "text": [
      "16\n"
     ]
    }
   ],
   "source": [
    "raise_to_the_power(4, 2)"
   ]
  },
  {
   "cell_type": "code",
   "execution_count": 31,
   "id": "02abf412",
   "metadata": {},
   "outputs": [
    {
     "name": "stdout",
     "output_type": "stream",
     "text": [
      "27\n"
     ]
    }
   ],
   "source": [
    "raise_to_the_power(3, 3)"
   ]
  },
  {
   "cell_type": "code",
   "execution_count": 32,
   "id": "e8aee785",
   "metadata": {},
   "outputs": [
    {
     "name": "stdout",
     "output_type": "stream",
     "text": [
      "1000\n"
     ]
    }
   ],
   "source": [
    "raise_to_the_power(10, 3)"
   ]
  },
  {
   "cell_type": "code",
   "execution_count": 33,
   "id": "e556a526",
   "metadata": {},
   "outputs": [
    {
     "ename": "TypeError",
     "evalue": "raise_to_the_power() missing 1 required positional argument: 'exponent'",
     "output_type": "error",
     "traceback": [
      "\u001b[1;31m---------------------------------------------------------------------------\u001b[0m",
      "\u001b[1;31mTypeError\u001b[0m                                 Traceback (most recent call last)",
      "\u001b[1;32mC:\\Users\\KWADWO~1\\AppData\\Local\\Temp/ipykernel_17712/3803398724.py\u001b[0m in \u001b[0;36m<module>\u001b[1;34m\u001b[0m\n\u001b[1;32m----> 1\u001b[1;33m \u001b[0mraise_to_the_power\u001b[0m\u001b[1;33m(\u001b[0m\u001b[1;36m10\u001b[0m\u001b[1;33m)\u001b[0m\u001b[1;33m\u001b[0m\u001b[1;33m\u001b[0m\u001b[0m\n\u001b[0m",
      "\u001b[1;31mTypeError\u001b[0m: raise_to_the_power() missing 1 required positional argument: 'exponent'"
     ]
    }
   ],
   "source": [
    "raise_to_the_power(10)"
   ]
  },
  {
   "cell_type": "code",
   "execution_count": 34,
   "id": "f41cdf7c",
   "metadata": {},
   "outputs": [
    {
     "name": "stdout",
     "output_type": "stream",
     "text": [
      "16\n"
     ]
    }
   ],
   "source": [
    "result = raise_to_the_power(4, 2)"
   ]
  },
  {
   "cell_type": "code",
   "execution_count": 35,
   "id": "84eac1c3",
   "metadata": {},
   "outputs": [],
   "source": [
    "result"
   ]
  },
  {
   "cell_type": "code",
   "execution_count": 36,
   "id": "9e69a285",
   "metadata": {},
   "outputs": [
    {
     "name": "stdout",
     "output_type": "stream",
     "text": [
      "None\n"
     ]
    }
   ],
   "source": [
    "print(result)"
   ]
  },
  {
   "cell_type": "code",
   "execution_count": 37,
   "id": "9a43539e",
   "metadata": {},
   "outputs": [
    {
     "data": {
      "text/plain": [
       "NoneType"
      ]
     },
     "execution_count": 37,
     "metadata": {},
     "output_type": "execute_result"
    }
   ],
   "source": [
    "type(result)"
   ]
  },
  {
   "cell_type": "code",
   "execution_count": 38,
   "id": "c66576e3",
   "metadata": {},
   "outputs": [],
   "source": [
    "def raise_to_the_power(num, exponent):\n",
    "    \n",
    "    power = num ** exponent\n",
    "    \n",
    "    return power"
   ]
  },
  {
   "cell_type": "code",
   "execution_count": 39,
   "id": "330026ca",
   "metadata": {},
   "outputs": [
    {
     "data": {
      "text/plain": [
       "25"
      ]
     },
     "execution_count": 39,
     "metadata": {},
     "output_type": "execute_result"
    }
   ],
   "source": [
    "raise_to_the_power(5, 2)"
   ]
  },
  {
   "cell_type": "code",
   "execution_count": 40,
   "id": "740cafce",
   "metadata": {},
   "outputs": [],
   "source": [
    "def square_and_cube(num):\n",
    "    \n",
    "    square = num ** 2\n",
    "    cube = num ** 3\n",
    "    \n",
    "    return square, cube"
   ]
  },
  {
   "cell_type": "code",
   "execution_count": 41,
   "id": "1a145bb0",
   "metadata": {},
   "outputs": [
    {
     "data": {
      "text/plain": [
       "(144, 1728)"
      ]
     },
     "execution_count": 41,
     "metadata": {},
     "output_type": "execute_result"
    }
   ],
   "source": [
    "square_and_cube(12)"
   ]
  },
  {
   "cell_type": "code",
   "execution_count": 42,
   "id": "8580cb0e",
   "metadata": {},
   "outputs": [],
   "source": [
    "square, cube = square_and_cube(4)"
   ]
  },
  {
   "cell_type": "code",
   "execution_count": 43,
   "id": "52735fe5",
   "metadata": {},
   "outputs": [
    {
     "data": {
      "text/plain": [
       "16"
      ]
     },
     "execution_count": 43,
     "metadata": {},
     "output_type": "execute_result"
    }
   ],
   "source": [
    "square"
   ]
  },
  {
   "cell_type": "code",
   "execution_count": 44,
   "id": "0c67079b",
   "metadata": {},
   "outputs": [
    {
     "data": {
      "text/plain": [
       "64"
      ]
     },
     "execution_count": 44,
     "metadata": {},
     "output_type": "execute_result"
    }
   ],
   "source": [
    "cube"
   ]
  },
  {
   "cell_type": "code",
   "execution_count": 45,
   "id": "ecd52aa1",
   "metadata": {},
   "outputs": [],
   "source": [
    "def divisible_by_5(num):\n",
    "    \n",
    "    if num % 5 == 0:\n",
    "        return \"This number is divisible by 5\"\n",
    "    else:\n",
    "        return \"This number is not divisible 5\""
   ]
  },
  {
   "cell_type": "code",
   "execution_count": 46,
   "id": "b29359b8",
   "metadata": {},
   "outputs": [
    {
     "data": {
      "text/plain": [
       "'This number is not divisible 5'"
      ]
     },
     "execution_count": 46,
     "metadata": {},
     "output_type": "execute_result"
    }
   ],
   "source": [
    "divisible_by_5(56)"
   ]
  },
  {
   "cell_type": "code",
   "execution_count": 47,
   "id": "8ef2df7f",
   "metadata": {},
   "outputs": [],
   "source": [
    "def returns_recipe_dict(sugar, cream, butter, flour):\n",
    "    \n",
    "    recipe = {\"Sugar\" : sugar,\n",
    "              \"Cream\" : cream,\n",
    "              \"Butter\" : butter,\n",
    "              \"Flour\" : flour}\n",
    "    return recipe"
   ]
  },
  {
   "cell_type": "code",
   "execution_count": 48,
   "id": "1f0ee461",
   "metadata": {},
   "outputs": [],
   "source": [
    "list_of_numbers = [2, 4, 6, 8, 10]"
   ]
  },
  {
   "cell_type": "code",
   "execution_count": 49,
   "id": "368a9e35",
   "metadata": {},
   "outputs": [],
   "source": [
    "def returns_recipe_list(sugar, cream, butter, flour):\n",
    "    \n",
    "    recipe_dictionary = returns_recipe_dict(sugar, cream, butter, flour)\n",
    "    \n",
    "    return list(recipe_dictionary.items())"
   ]
  },
  {
   "cell_type": "code",
   "execution_count": 50,
   "id": "181d51f7",
   "metadata": {},
   "outputs": [
    {
     "data": {
      "text/plain": [
       "[('Sugar', '100 grams'),\n",
       " ('Cream', '2 scoops'),\n",
       " ('Butter', '1 scoop'),\n",
       " ('Flour', '1.5 cups')]"
      ]
     },
     "execution_count": 50,
     "metadata": {},
     "output_type": "execute_result"
    }
   ],
   "source": [
    "returns_recipe_list('100 grams', '2 scoops', '1 scoop', '1.5 cups')"
   ]
  },
  {
   "cell_type": "code",
   "execution_count": null,
   "id": "e120a73a",
   "metadata": {},
   "outputs": [],
   "source": []
  }
 ],
 "metadata": {
  "kernelspec": {
   "display_name": "Python 3 (ipykernel)",
   "language": "python",
   "name": "python3"
  },
  "language_info": {
   "codemirror_mode": {
    "name": "ipython",
    "version": 3
   },
   "file_extension": ".py",
   "mimetype": "text/x-python",
   "name": "python",
   "nbconvert_exporter": "python",
   "pygments_lexer": "ipython3",
   "version": "3.9.7"
  }
 },
 "nbformat": 4,
 "nbformat_minor": 5
}
