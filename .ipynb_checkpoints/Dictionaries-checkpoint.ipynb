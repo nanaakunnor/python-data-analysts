{
 "cells": [
  {
   "cell_type": "code",
   "execution_count": 1,
   "id": "c2e56fb5",
   "metadata": {},
   "outputs": [],
   "source": [
    "empty_dict = {}"
   ]
  },
  {
   "cell_type": "code",
   "execution_count": 2,
   "id": "82b0be25",
   "metadata": {},
   "outputs": [
    {
     "name": "stdout",
     "output_type": "stream",
     "text": [
      "{}\n"
     ]
    }
   ],
   "source": [
    "print(empty_dict)"
   ]
  },
  {
   "cell_type": "code",
   "execution_count": 3,
   "id": "f4e6bd2b",
   "metadata": {},
   "outputs": [
    {
     "data": {
      "text/plain": [
       "dict"
      ]
     },
     "execution_count": 3,
     "metadata": {},
     "output_type": "execute_result"
    }
   ],
   "source": [
    "type(empty_dict)"
   ]
  },
  {
   "cell_type": "code",
   "execution_count": 4,
   "id": "98dfa02a",
   "metadata": {},
   "outputs": [],
   "source": [
    "names_and_ages = {\n",
    "    \"Suzie\" : 6,\n",
    "    \"Calvin\" : 5,\n",
    "    \"Hobbes\" : 4\n",
    "}"
   ]
  },
  {
   "cell_type": "code",
   "execution_count": 5,
   "id": "2af8728a",
   "metadata": {},
   "outputs": [
    {
     "data": {
      "text/plain": [
       "{'Suzie': 6, 'Calvin': 5, 'Hobbes': 4}"
      ]
     },
     "execution_count": 5,
     "metadata": {},
     "output_type": "execute_result"
    }
   ],
   "source": [
    "names_and_ages "
   ]
  },
  {
   "cell_type": "code",
   "execution_count": 6,
   "id": "6a657743",
   "metadata": {},
   "outputs": [
    {
     "data": {
      "text/plain": [
       "5"
      ]
     },
     "execution_count": 6,
     "metadata": {},
     "output_type": "execute_result"
    }
   ],
   "source": [
    "names_and_ages['Calvin']"
   ]
  },
  {
   "cell_type": "code",
   "execution_count": 7,
   "id": "b3c9048f",
   "metadata": {},
   "outputs": [
    {
     "data": {
      "text/plain": [
       "4"
      ]
     },
     "execution_count": 7,
     "metadata": {},
     "output_type": "execute_result"
    }
   ],
   "source": [
    "names_and_ages['Hobbes']"
   ]
  },
  {
   "cell_type": "code",
   "execution_count": 8,
   "id": "b4eb2f4d",
   "metadata": {},
   "outputs": [
    {
     "data": {
      "text/plain": [
       "6"
      ]
     },
     "execution_count": 8,
     "metadata": {},
     "output_type": "execute_result"
    }
   ],
   "source": [
    "names_and_ages[\"Suzie\"]"
   ]
  },
  {
   "cell_type": "code",
   "execution_count": 9,
   "id": "cd50736e",
   "metadata": {},
   "outputs": [
    {
     "data": {
      "text/plain": [
       "dict_keys(['Suzie', 'Calvin', 'Hobbes'])"
      ]
     },
     "execution_count": 9,
     "metadata": {},
     "output_type": "execute_result"
    }
   ],
   "source": [
    "names_and_ages.keys()"
   ]
  },
  {
   "cell_type": "code",
   "execution_count": 10,
   "id": "5f7dea58",
   "metadata": {},
   "outputs": [
    {
     "data": {
      "text/plain": [
       "dict_values([6, 5, 4])"
      ]
     },
     "execution_count": 10,
     "metadata": {},
     "output_type": "execute_result"
    }
   ],
   "source": [
    "names_and_ages.values()"
   ]
  },
  {
   "cell_type": "code",
   "execution_count": 11,
   "id": "c7020faa",
   "metadata": {},
   "outputs": [
    {
     "data": {
      "text/plain": [
       "dict_items([('Suzie', 6), ('Calvin', 5), ('Hobbes', 4)])"
      ]
     },
     "execution_count": 11,
     "metadata": {},
     "output_type": "execute_result"
    }
   ],
   "source": [
    "names_and_ages.items()"
   ]
  },
  {
   "cell_type": "code",
   "execution_count": 12,
   "id": "f4f3b921",
   "metadata": {},
   "outputs": [],
   "source": [
    "names_and_ages[\"Rowley\"] = 15"
   ]
  },
  {
   "cell_type": "code",
   "execution_count": 13,
   "id": "2fea621c",
   "metadata": {},
   "outputs": [
    {
     "data": {
      "text/plain": [
       "{'Suzie': 6, 'Calvin': 5, 'Hobbes': 4, 'Rowley': 15}"
      ]
     },
     "execution_count": 13,
     "metadata": {},
     "output_type": "execute_result"
    }
   ],
   "source": [
    "names_and_ages"
   ]
  },
  {
   "cell_type": "code",
   "execution_count": 14,
   "id": "95cfa8b9",
   "metadata": {},
   "outputs": [],
   "source": [
    "names_and_ages['Hobbes'] = 25"
   ]
  },
  {
   "cell_type": "code",
   "execution_count": 15,
   "id": "a51fd048",
   "metadata": {},
   "outputs": [
    {
     "data": {
      "text/plain": [
       "{'Suzie': 6, 'Hobbes': 25, 'Rowley': 15}"
      ]
     },
     "execution_count": 15,
     "metadata": {},
     "output_type": "execute_result"
    }
   ],
   "source": [
    "names_and_ages.pop('Calvin')\n",
    "\n",
    "names_and_ages"
   ]
  },
  {
   "cell_type": "code",
   "execution_count": 16,
   "id": "f595d401",
   "metadata": {},
   "outputs": [
    {
     "data": {
      "text/plain": [
       "{'Suzie': 6, 'Hobbes': 25}"
      ]
     },
     "execution_count": 16,
     "metadata": {},
     "output_type": "execute_result"
    }
   ],
   "source": [
    "del names_and_ages['Rowley']\n",
    "\n",
    "names_and_ages"
   ]
  },
  {
   "cell_type": "code",
   "execution_count": 17,
   "id": "4f2f8c04",
   "metadata": {},
   "outputs": [],
   "source": [
    "occupations_and_names = {\"Doctors\" : [\"John\", \"Nina\", \"Steve\"],\n",
    "                         \"Engineers\" : [\"Bill\", \"Emily\", \"Jane\"],\n",
    "                         \"Pilots\" : [\"Sally\", \"Richard\", \"Bob\"]}"
   ]
  },
  {
   "cell_type": "code",
   "execution_count": 18,
   "id": "b9adeb9a",
   "metadata": {},
   "outputs": [
    {
     "data": {
      "text/plain": [
       "{'Doctors': ['John', 'Nina', 'Steve'],\n",
       " 'Engineers': ['Bill', 'Emily', 'Jane'],\n",
       " 'Pilots': ['Sally', 'Richard', 'Bob']}"
      ]
     },
     "execution_count": 18,
     "metadata": {},
     "output_type": "execute_result"
    }
   ],
   "source": [
    "occupations_and_names"
   ]
  },
  {
   "cell_type": "code",
   "execution_count": 19,
   "id": "96f44232",
   "metadata": {},
   "outputs": [
    {
     "data": {
      "text/plain": [
       "['Bill', 'Emily', 'Jane']"
      ]
     },
     "execution_count": 19,
     "metadata": {},
     "output_type": "execute_result"
    }
   ],
   "source": [
    "occupations_and_names['Engineers']"
   ]
  },
  {
   "cell_type": "code",
   "execution_count": 20,
   "id": "405bce26",
   "metadata": {},
   "outputs": [
    {
     "data": {
      "text/plain": [
       "dict_keys(['Doctors', 'Engineers', 'Pilots'])"
      ]
     },
     "execution_count": 20,
     "metadata": {},
     "output_type": "execute_result"
    }
   ],
   "source": [
    "occupations_and_names.keys()"
   ]
  },
  {
   "cell_type": "code",
   "execution_count": 21,
   "id": "8735b9e0",
   "metadata": {},
   "outputs": [
    {
     "data": {
      "text/plain": [
       "dict_values([['John', 'Nina', 'Steve'], ['Bill', 'Emily', 'Jane'], ['Sally', 'Richard', 'Bob']])"
      ]
     },
     "execution_count": 21,
     "metadata": {},
     "output_type": "execute_result"
    }
   ],
   "source": [
    "occupations_and_names.values()"
   ]
  },
  {
   "cell_type": "code",
   "execution_count": 22,
   "id": "d7bedabd",
   "metadata": {},
   "outputs": [
    {
     "data": {
      "text/plain": [
       "dict_items([('Doctors', ['John', 'Nina', 'Steve']), ('Engineers', ['Bill', 'Emily', 'Jane']), ('Pilots', ['Sally', 'Richard', 'Bob'])])"
      ]
     },
     "execution_count": 22,
     "metadata": {},
     "output_type": "execute_result"
    }
   ],
   "source": [
    "occupations_and_names.items()"
   ]
  },
  {
   "cell_type": "code",
   "execution_count": 24,
   "id": "6dd8001c",
   "metadata": {},
   "outputs": [],
   "source": [
    "int_key_dict = {\n",
    "    1 : \"Susie\",\n",
    "    2 : \"Calvin\",\n",
    "    3 : \"Hobbes\"\n",
    "}"
   ]
  },
  {
   "cell_type": "code",
   "execution_count": 25,
   "id": "421f57e4",
   "metadata": {},
   "outputs": [
    {
     "data": {
      "text/plain": [
       "'Susie'"
      ]
     },
     "execution_count": 25,
     "metadata": {},
     "output_type": "execute_result"
    }
   ],
   "source": [
    "int_key_dict[1]"
   ]
  },
  {
   "cell_type": "code",
   "execution_count": 26,
   "id": "7ea1f058",
   "metadata": {},
   "outputs": [
    {
     "ename": "KeyError",
     "evalue": "9",
     "output_type": "error",
     "traceback": [
      "\u001b[1;31m---------------------------------------------------------------------------\u001b[0m",
      "\u001b[1;31mKeyError\u001b[0m                                  Traceback (most recent call last)",
      "\u001b[1;32mC:\\Users\\KWADWO~1\\AppData\\Local\\Temp/ipykernel_3968/2468831188.py\u001b[0m in \u001b[0;36m<module>\u001b[1;34m\u001b[0m\n\u001b[1;32m----> 1\u001b[1;33m \u001b[0mint_key_dict\u001b[0m\u001b[1;33m[\u001b[0m\u001b[1;36m9\u001b[0m\u001b[1;33m]\u001b[0m\u001b[1;33m\u001b[0m\u001b[1;33m\u001b[0m\u001b[0m\n\u001b[0m",
      "\u001b[1;31mKeyError\u001b[0m: 9"
     ]
    }
   ],
   "source": [
    "int_key_dict[9]"
   ]
  },
  {
   "cell_type": "code",
   "execution_count": null,
   "id": "74572768",
   "metadata": {},
   "outputs": [],
   "source": []
  }
 ],
 "metadata": {
  "kernelspec": {
   "display_name": "Python 3 (ipykernel)",
   "language": "python",
   "name": "python3"
  },
  "language_info": {
   "codemirror_mode": {
    "name": "ipython",
    "version": 3
   },
   "file_extension": ".py",
   "mimetype": "text/x-python",
   "name": "python",
   "nbconvert_exporter": "python",
   "pygments_lexer": "ipython3",
   "version": "3.9.7"
  }
 },
 "nbformat": 4,
 "nbformat_minor": 5
}
