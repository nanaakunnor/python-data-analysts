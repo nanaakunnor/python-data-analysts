{
 "cells": [
  {
   "cell_type": "code",
   "execution_count": 1,
   "id": "121b9839",
   "metadata": {},
   "outputs": [],
   "source": [
    "empty_tuple = ()"
   ]
  },
  {
   "cell_type": "code",
   "execution_count": 2,
   "id": "c91e80a3",
   "metadata": {},
   "outputs": [
    {
     "name": "stdout",
     "output_type": "stream",
     "text": [
      "()\n"
     ]
    }
   ],
   "source": [
    "print(empty_tuple)"
   ]
  },
  {
   "cell_type": "code",
   "execution_count": 3,
   "id": "ceea5800",
   "metadata": {},
   "outputs": [
    {
     "data": {
      "text/plain": [
       "tuple"
      ]
     },
     "execution_count": 3,
     "metadata": {},
     "output_type": "execute_result"
    }
   ],
   "source": [
    "type(empty_tuple)"
   ]
  },
  {
   "cell_type": "code",
   "execution_count": 4,
   "id": "7a273725",
   "metadata": {},
   "outputs": [
    {
     "data": {
      "text/plain": [
       "tuple"
      ]
     },
     "execution_count": 4,
     "metadata": {},
     "output_type": "execute_result"
    }
   ],
   "source": [
    "childrens_books = (\"Timmy Failure\", \"Diary of a Wimpy kid\", \"Calvin and Hobbes\")\n",
    "\n",
    "type(childrens_books)"
   ]
  },
  {
   "cell_type": "code",
   "execution_count": 5,
   "id": "4f53ef1c",
   "metadata": {},
   "outputs": [
    {
     "ename": "AttributeError",
     "evalue": "'tuple' object has no attribute 'append'",
     "output_type": "error",
     "traceback": [
      "\u001b[1;31m---------------------------------------------------------------------------\u001b[0m",
      "\u001b[1;31mAttributeError\u001b[0m                            Traceback (most recent call last)",
      "\u001b[1;32mC:\\Users\\KWADWO~1\\AppData\\Local\\Temp/ipykernel_7676/1072427945.py\u001b[0m in \u001b[0;36m<module>\u001b[1;34m\u001b[0m\n\u001b[1;32m----> 1\u001b[1;33m \u001b[0mchildrens_books\u001b[0m\u001b[1;33m.\u001b[0m\u001b[0mappend\u001b[0m\u001b[1;33m(\u001b[0m\u001b[1;34m\"Geronimo Stilton\"\u001b[0m\u001b[1;33m)\u001b[0m\u001b[1;33m\u001b[0m\u001b[1;33m\u001b[0m\u001b[0m\n\u001b[0m",
      "\u001b[1;31mAttributeError\u001b[0m: 'tuple' object has no attribute 'append'"
     ]
    }
   ],
   "source": [
    "childrens_books.append(\"Geronimo Stilton\")"
   ]
  },
  {
   "cell_type": "code",
   "execution_count": 6,
   "id": "70feb9fe",
   "metadata": {},
   "outputs": [
    {
     "data": {
      "text/plain": [
       "('Timmy Failure', 'Diary of a Wimpy kid', 'Calvin and Hobbes')"
      ]
     },
     "execution_count": 6,
     "metadata": {},
     "output_type": "execute_result"
    }
   ],
   "source": [
    "childrens_books"
   ]
  },
  {
   "cell_type": "code",
   "execution_count": 7,
   "id": "a50a225a",
   "metadata": {},
   "outputs": [
    {
     "data": {
      "text/plain": [
       "'Timmy Failure'"
      ]
     },
     "execution_count": 7,
     "metadata": {},
     "output_type": "execute_result"
    }
   ],
   "source": [
    "childrens_books[0]"
   ]
  },
  {
   "cell_type": "code",
   "execution_count": 8,
   "id": "3ca34b09",
   "metadata": {},
   "outputs": [
    {
     "ename": "IndexError",
     "evalue": "tuple index out of range",
     "output_type": "error",
     "traceback": [
      "\u001b[1;31m---------------------------------------------------------------------------\u001b[0m",
      "\u001b[1;31mIndexError\u001b[0m                                Traceback (most recent call last)",
      "\u001b[1;32mC:\\Users\\KWADWO~1\\AppData\\Local\\Temp/ipykernel_7676/1993530589.py\u001b[0m in \u001b[0;36m<module>\u001b[1;34m\u001b[0m\n\u001b[1;32m----> 1\u001b[1;33m \u001b[0mchildrens_books\u001b[0m\u001b[1;33m[\u001b[0m\u001b[1;36m5\u001b[0m\u001b[1;33m]\u001b[0m\u001b[1;33m\u001b[0m\u001b[1;33m\u001b[0m\u001b[0m\n\u001b[0m",
      "\u001b[1;31mIndexError\u001b[0m: tuple index out of range"
     ]
    }
   ],
   "source": [
    "childrens_books[5]"
   ]
  },
  {
   "cell_type": "code",
   "execution_count": 9,
   "id": "f6005263",
   "metadata": {},
   "outputs": [
    {
     "ename": "TypeError",
     "evalue": "'tuple' object does not support item assignment",
     "output_type": "error",
     "traceback": [
      "\u001b[1;31m---------------------------------------------------------------------------\u001b[0m",
      "\u001b[1;31mTypeError\u001b[0m                                 Traceback (most recent call last)",
      "\u001b[1;32mC:\\Users\\KWADWO~1\\AppData\\Local\\Temp/ipykernel_7676/1223546862.py\u001b[0m in \u001b[0;36m<module>\u001b[1;34m\u001b[0m\n\u001b[1;32m----> 1\u001b[1;33m \u001b[0mchildrens_books\u001b[0m\u001b[1;33m[\u001b[0m\u001b[1;36m0\u001b[0m\u001b[1;33m]\u001b[0m \u001b[1;33m=\u001b[0m \u001b[1;34m\"Geronimo Stilton\"\u001b[0m\u001b[1;33m\u001b[0m\u001b[1;33m\u001b[0m\u001b[0m\n\u001b[0m",
      "\u001b[1;31mTypeError\u001b[0m: 'tuple' object does not support item assignment"
     ]
    }
   ],
   "source": [
    "childrens_books[0] = \"Geronimo Stilton\""
   ]
  },
  {
   "cell_type": "code",
   "execution_count": 10,
   "id": "54a0cbfa",
   "metadata": {},
   "outputs": [
    {
     "data": {
      "text/plain": [
       "('Timmy Failure', 'Diary of a Wimpy kid')"
      ]
     },
     "execution_count": 10,
     "metadata": {},
     "output_type": "execute_result"
    }
   ],
   "source": [
    "childrens_books[0:2]"
   ]
  },
  {
   "cell_type": "code",
   "execution_count": 11,
   "id": "d2d6f470",
   "metadata": {},
   "outputs": [
    {
     "data": {
      "text/plain": [
       "('b', 'e', 'd', 's', 'h', 'e', 'e', 't')"
      ]
     },
     "execution_count": 11,
     "metadata": {},
     "output_type": "execute_result"
    }
   ],
   "source": [
    "childrens_tuple = tuple('bedsheet')\n",
    "\n",
    "childrens_tuple"
   ]
  },
  {
   "cell_type": "code",
   "execution_count": 12,
   "id": "95b2ed47",
   "metadata": {},
   "outputs": [],
   "source": [
    "fruits_list  = [\"Apple\", \"Banana\", \"Orange\", \"Watermelon\"]\n",
    "\n",
    "fruits_tuple = tuple(fruits_list)"
   ]
  },
  {
   "cell_type": "code",
   "execution_count": 13,
   "id": "29d4e212",
   "metadata": {},
   "outputs": [
    {
     "data": {
      "text/plain": [
       "('Apple', 'Banana', 'Orange', 'Watermelon')"
      ]
     },
     "execution_count": 13,
     "metadata": {},
     "output_type": "execute_result"
    }
   ],
   "source": [
    "fruits_tuple"
   ]
  },
  {
   "cell_type": "code",
   "execution_count": 14,
   "id": "a09b3fdc",
   "metadata": {},
   "outputs": [
    {
     "data": {
      "text/plain": [
       "True"
      ]
     },
     "execution_count": 14,
     "metadata": {},
     "output_type": "execute_result"
    }
   ],
   "source": [
    "\"Apple\" in fruits_tuple"
   ]
  },
  {
   "cell_type": "code",
   "execution_count": 15,
   "id": "92118a60",
   "metadata": {},
   "outputs": [
    {
     "data": {
      "text/plain": [
       "False"
      ]
     },
     "execution_count": 15,
     "metadata": {},
     "output_type": "execute_result"
    }
   ],
   "source": [
    "\"Grapes\" in fruits_tuple"
   ]
  },
  {
   "cell_type": "code",
   "execution_count": 16,
   "id": "6f8b4833",
   "metadata": {},
   "outputs": [
    {
     "data": {
      "text/plain": [
       "True"
      ]
     },
     "execution_count": 16,
     "metadata": {},
     "output_type": "execute_result"
    }
   ],
   "source": [
    "\"Grapes\" not in fruits_tuple"
   ]
  },
  {
   "cell_type": "code",
   "execution_count": null,
   "id": "ca124b6b",
   "metadata": {},
   "outputs": [],
   "source": []
  }
 ],
 "metadata": {
  "kernelspec": {
   "display_name": "Python 3 (ipykernel)",
   "language": "python",
   "name": "python3"
  },
  "language_info": {
   "codemirror_mode": {
    "name": "ipython",
    "version": 3
   },
   "file_extension": ".py",
   "mimetype": "text/x-python",
   "name": "python",
   "nbconvert_exporter": "python",
   "pygments_lexer": "ipython3",
   "version": "3.9.7"
  }
 },
 "nbformat": 4,
 "nbformat_minor": 5
}
