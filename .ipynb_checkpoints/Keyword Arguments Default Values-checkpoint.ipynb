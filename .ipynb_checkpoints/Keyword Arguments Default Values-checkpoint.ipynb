{
 "cells": [
  {
   "cell_type": "code",
   "execution_count": 1,
   "id": "fbbc9959",
   "metadata": {},
   "outputs": [],
   "source": [
    "def car_parts(name, brand, hp, engine, zero_to_sixty, top_speed, price):\n",
    "    \n",
    "    other_details = hp, engine, top_speed, price\n",
    "    \n",
    "    print(\"Name of the car :\", name)\n",
    "    print(\"Brand :\", brand,\"\\n0 to 60:\", zero_to_sixty)\n",
    "    print(\"Price :\", price)\n",
    "    print(\"Remaining details (hp, engine, top_speed, price):\", other_details)"
   ]
  },
  {
   "cell_type": "code",
   "execution_count": 2,
   "id": "cf036a2c",
   "metadata": {},
   "outputs": [
    {
     "name": "stdout",
     "output_type": "stream",
     "text": [
      "Name of the car : Aventador\n",
      "Brand : Lamborghini \n",
      "0 to 60: 2.9\n",
      "Price : 261000\n",
      "Remaining details (hp, engine, top_speed, price): (544, 7.0, 220, 261000)\n"
     ]
    }
   ],
   "source": [
    "car_parts(\"Aventador\",\n",
    "          \"Lamborghini\",\n",
    "          544,\n",
    "          7.0,\n",
    "          2.9,\n",
    "          220,\n",
    "          261000)"
   ]
  },
  {
   "cell_type": "code",
   "execution_count": 3,
   "id": "8ad37bb6",
   "metadata": {},
   "outputs": [
    {
     "ename": "TypeError",
     "evalue": "car_parts() missing 2 required positional arguments: 'top_speed' and 'price'",
     "output_type": "error",
     "traceback": [
      "\u001b[1;31m---------------------------------------------------------------------------\u001b[0m",
      "\u001b[1;31mTypeError\u001b[0m                                 Traceback (most recent call last)",
      "\u001b[1;32mC:\\Users\\KWADWO~1\\AppData\\Local\\Temp/ipykernel_26156/1059936608.py\u001b[0m in \u001b[0;36m<module>\u001b[1;34m\u001b[0m\n\u001b[1;32m----> 1\u001b[1;33m car_parts(\"Aventador\",\n\u001b[0m\u001b[0;32m      2\u001b[0m          \u001b[1;34m\"Lamborghini\"\u001b[0m\u001b[1;33m,\u001b[0m\u001b[1;33m\u001b[0m\u001b[1;33m\u001b[0m\u001b[0m\n\u001b[0;32m      3\u001b[0m          \u001b[1;36m544\u001b[0m\u001b[1;33m,\u001b[0m\u001b[1;33m\u001b[0m\u001b[1;33m\u001b[0m\u001b[0m\n\u001b[0;32m      4\u001b[0m          \u001b[1;36m7.0\u001b[0m\u001b[1;33m,\u001b[0m\u001b[1;33m\u001b[0m\u001b[1;33m\u001b[0m\u001b[0m\n\u001b[0;32m      5\u001b[0m          261000)\n",
      "\u001b[1;31mTypeError\u001b[0m: car_parts() missing 2 required positional arguments: 'top_speed' and 'price'"
     ]
    }
   ],
   "source": [
    "car_parts(\"Aventador\",\n",
    "         \"Lamborghini\",\n",
    "         544,\n",
    "         7.0,\n",
    "         261000)"
   ]
  },
  {
   "cell_type": "code",
   "execution_count": 4,
   "id": "8fe6033e",
   "metadata": {},
   "outputs": [
    {
     "name": "stdout",
     "output_type": "stream",
     "text": [
      "Name of the car : Aventador\n",
      "Brand : Lamborghini \n",
      "0 to 60: 7.0\n",
      "Price : 220\n",
      "Remaining details (hp, engine, top_speed, price): (261000, 544, 2.9, 220)\n"
     ]
    }
   ],
   "source": [
    "car_parts(\"Aventador\",\n",
    "         \"Lamborghini\",\n",
    "         261000,\n",
    "         544,\n",
    "         7.0,\n",
    "         2.9,\n",
    "         220)"
   ]
  },
  {
   "cell_type": "code",
   "execution_count": 5,
   "id": "804ef8f4",
   "metadata": {},
   "outputs": [
    {
     "name": "stdout",
     "output_type": "stream",
     "text": [
      "Name of the car : Aventador\n",
      "Brand : Lamborghini \n",
      "0 to 60: 2.9\n",
      "Price : 261000\n",
      "Remaining details (hp, engine, top_speed, price): (544, 7.0, 220, 261000)\n"
     ]
    }
   ],
   "source": [
    "car_parts(\"Aventador\",\n",
    "         \"Lamborghini\",\n",
    "         544,\n",
    "         7.0,\n",
    "         2.9,\n",
    "         220,\n",
    "         price=261000)"
   ]
  },
  {
   "cell_type": "code",
   "execution_count": 6,
   "id": "af1ddc88",
   "metadata": {},
   "outputs": [
    {
     "name": "stdout",
     "output_type": "stream",
     "text": [
      "Name of the car : Aventador\n",
      "Brand : Lamborghini \n",
      "0 to 60: 2.9\n",
      "Price : 261000\n",
      "Remaining details (hp, engine, top_speed, price): (544, 7.0, 220, 261000)\n"
     ]
    }
   ],
   "source": [
    "car_parts(\"Aventador\",\n",
    "         \"Lamborghini\",\n",
    "          hp=544,\n",
    "          engine=7.0,\n",
    "          zero_to_sixty=2.9,\n",
    "          top_speed=220,\n",
    "          price= 261000)"
   ]
  },
  {
   "cell_type": "code",
   "execution_count": 8,
   "id": "e5cfcd34",
   "metadata": {},
   "outputs": [
    {
     "ename": "TypeError",
     "evalue": "car_parts() got an unexpected keyword argument 'zerotosixty'",
     "output_type": "error",
     "traceback": [
      "\u001b[1;31m---------------------------------------------------------------------------\u001b[0m",
      "\u001b[1;31mTypeError\u001b[0m                                 Traceback (most recent call last)",
      "\u001b[1;32mC:\\Users\\KWADWO~1\\AppData\\Local\\Temp/ipykernel_26156/1222669584.py\u001b[0m in \u001b[0;36m<module>\u001b[1;34m\u001b[0m\n\u001b[1;32m----> 1\u001b[1;33m car_parts(\"Aventador\",\n\u001b[0m\u001b[0;32m      2\u001b[0m           \u001b[1;34m\"Lamborghini\"\u001b[0m\u001b[1;33m,\u001b[0m\u001b[1;33m\u001b[0m\u001b[1;33m\u001b[0m\u001b[0m\n\u001b[0;32m      3\u001b[0m           \u001b[0mhp\u001b[0m\u001b[1;33m=\u001b[0m\u001b[1;36m544\u001b[0m\u001b[1;33m,\u001b[0m\u001b[1;33m\u001b[0m\u001b[1;33m\u001b[0m\u001b[0m\n\u001b[0;32m      4\u001b[0m           \u001b[0mengine\u001b[0m\u001b[1;33m=\u001b[0m\u001b[1;36m7.0\u001b[0m\u001b[1;33m,\u001b[0m\u001b[1;33m\u001b[0m\u001b[1;33m\u001b[0m\u001b[0m\n\u001b[0;32m      5\u001b[0m           \u001b[0mzerotosixty\u001b[0m\u001b[1;33m=\u001b[0m\u001b[1;36m2.9\u001b[0m\u001b[1;33m,\u001b[0m\u001b[1;33m\u001b[0m\u001b[1;33m\u001b[0m\u001b[0m\n",
      "\u001b[1;31mTypeError\u001b[0m: car_parts() got an unexpected keyword argument 'zerotosixty'"
     ]
    }
   ],
   "source": [
    "car_parts(\"Aventador\",\n",
    "          \"Lamborghini\",\n",
    "          hp=544,\n",
    "          engine=7.0,\n",
    "          zerotosixty=2.9,\n",
    "          top_speed=220,\n",
    "          price=261000)"
   ]
  },
  {
   "cell_type": "code",
   "execution_count": 9,
   "id": "a13cab57",
   "metadata": {},
   "outputs": [
    {
     "ename": "SyntaxError",
     "evalue": "positional argument follows keyword argument (Temp/ipykernel_26156/1707682585.py, line 7)",
     "output_type": "error",
     "traceback": [
      "\u001b[1;36m  File \u001b[1;32m\"C:\\Users\\KWADWO~1\\AppData\\Local\\Temp/ipykernel_26156/1707682585.py\"\u001b[1;36m, line \u001b[1;32m7\u001b[0m\n\u001b[1;33m    price=261000)\u001b[0m\n\u001b[1;37m                ^\u001b[0m\n\u001b[1;31mSyntaxError\u001b[0m\u001b[1;31m:\u001b[0m positional argument follows keyword argument\n"
     ]
    }
   ],
   "source": [
    "car_parts(\"Aventador\",\n",
    "          \"Lamborghini\",\n",
    "          hp=544,\n",
    "          7.0,\n",
    "          zero_to_sixty=2.9,\n",
    "          top_speed=220,\n",
    "          price=261000)"
   ]
  },
  {
   "cell_type": "code",
   "execution_count": 10,
   "id": "10fbc489",
   "metadata": {},
   "outputs": [
    {
     "ename": "SyntaxError",
     "evalue": "positional argument follows keyword argument (Temp/ipykernel_26156/2994337178.py, line 7)",
     "output_type": "error",
     "traceback": [
      "\u001b[1;36m  File \u001b[1;32m\"C:\\Users\\KWADWO~1\\AppData\\Local\\Temp/ipykernel_26156/2994337178.py\"\u001b[1;36m, line \u001b[1;32m7\u001b[0m\n\u001b[1;33m    261000)\u001b[0m\n\u001b[1;37m          ^\u001b[0m\n\u001b[1;31mSyntaxError\u001b[0m\u001b[1;31m:\u001b[0m positional argument follows keyword argument\n"
     ]
    }
   ],
   "source": [
    "car_parts(\"Aventador\",\n",
    "          \"Lamborghini\",\n",
    "          hp=544,\n",
    "          engine=7.0,\n",
    "          zero_to_sixty=2.9,\n",
    "          top_speed=220,\n",
    "          261000)"
   ]
  },
  {
   "cell_type": "code",
   "execution_count": 11,
   "id": "68881d99",
   "metadata": {},
   "outputs": [
    {
     "name": "stdout",
     "output_type": "stream",
     "text": [
      "Name of the car : Lamborghini\n",
      "Brand : Aventador \n",
      "0 to 60: 2.9\n",
      "Price : 261000\n",
      "Remaining details (hp, engine, top_speed, price): (544, 7.0, 220, 261000)\n"
     ]
    }
   ],
   "source": [
    "car_parts(brand=\"Aventador\",\n",
    "          name=\"Lamborghini\",\n",
    "          hp=544,\n",
    "          engine=7.0,\n",
    "          zero_to_sixty=2.9,\n",
    "          top_speed=220,\n",
    "          price=261000)"
   ]
  },
  {
   "cell_type": "code",
   "execution_count": 12,
   "id": "5476c22c",
   "metadata": {},
   "outputs": [],
   "source": [
    "def car_parts(name, brand, hp, engine, zero_to_sixty, top_speed, price=35000):\n",
    "    \n",
    "    other_details = hp, engine, top_speed, price\n",
    "    \n",
    "    print(\"Name of the car :\", name)\n",
    "    print(\"Brand :\", brand,\"\\n0 to 60:\", zero_to_sixty)\n",
    "    print(\"Price :\", price)\n",
    "    print(\"Remaining details (hp, engine, top_speed, price):\", other_details)"
   ]
  },
  {
   "cell_type": "code",
   "execution_count": 13,
   "id": "510656d1",
   "metadata": {},
   "outputs": [
    {
     "name": "stdout",
     "output_type": "stream",
     "text": [
      "Name of the car : Mustang\n",
      "Brand : Ford \n",
      "0 to 60: 7.0\n",
      "Price : 35000\n",
      "Remaining details (hp, engine, top_speed, price): (295, 5.0, 150, 35000)\n"
     ]
    }
   ],
   "source": [
    "car_parts(\"Mustang\",\n",
    "          \"Ford\",\n",
    "          hp=295,\n",
    "          engine=5.0,\n",
    "          zero_to_sixty=7.0,\n",
    "          top_speed=150)"
   ]
  },
  {
   "cell_type": "code",
   "execution_count": 14,
   "id": "b992dc33",
   "metadata": {},
   "outputs": [
    {
     "ename": "SyntaxError",
     "evalue": "invalid syntax (Temp/ipykernel_26156/1051613437.py, line 6)",
     "output_type": "error",
     "traceback": [
      "\u001b[1;36m  File \u001b[1;32m\"C:\\Users\\KWADWO~1\\AppData\\Local\\Temp/ipykernel_26156/1051613437.py\"\u001b[1;36m, line \u001b[1;32m6\u001b[0m\n\u001b[1;33m    top_speed = 150\u001b[0m\n\u001b[1;37m    ^\u001b[0m\n\u001b[1;31mSyntaxError\u001b[0m\u001b[1;31m:\u001b[0m invalid syntax\n"
     ]
    }
   ],
   "source": [
    "car_parts(\n",
    "    \"Mustang\",\n",
    "    \"Ford\",\n",
    "    hp=295,\n",
    "    engine=5.0\n",
    "    top_speed = 150\n",
    ")"
   ]
  },
  {
   "cell_type": "code",
   "execution_count": 15,
   "id": "18a785cc",
   "metadata": {},
   "outputs": [
    {
     "name": "stdout",
     "output_type": "stream",
     "text": [
      "Name of the car : Mustang\n",
      "Brand : Ford \n",
      "0 to 60: 7.0\n",
      "Price : 30000\n",
      "Remaining details (hp, engine, top_speed, price): (295, 5.0, 150, 30000)\n"
     ]
    }
   ],
   "source": [
    "car_parts(\"Mustang\",\n",
    "          \"Ford\",\n",
    "          hp=295,\n",
    "          engine=5.0,\n",
    "          zero_to_sixty=7.0,\n",
    "          top_speed=150,\n",
    "          price=30000)"
   ]
  },
  {
   "cell_type": "code",
   "execution_count": 16,
   "id": "a14b3882",
   "metadata": {},
   "outputs": [],
   "source": [
    "def car_parts(name=\"Mustang\", brand=\"Ford\", \n",
    "              hp=295, engine=5.0, \n",
    "              zero_to_sixty=8.0, \n",
    "              top_speed=200, price=35000):\n",
    "    \n",
    "    other_details = hp, engine, top_speed, price\n",
    "    \n",
    "    print(\"Name of the car :\", name)\n",
    "    print(\"Brand :\", brand,\"\\n0 to 60:\", zero_to_sixty)\n",
    "    print(\"Price :\", price)\n",
    "    print(\"Remaining details (hp, engine, top_speed, price):\", other_details)"
   ]
  },
  {
   "cell_type": "code",
   "execution_count": 17,
   "id": "531a2e46",
   "metadata": {},
   "outputs": [
    {
     "name": "stdout",
     "output_type": "stream",
     "text": [
      "Name of the car : Mustang\n",
      "Brand : Ford \n",
      "0 to 60: 8.0\n",
      "Price : 35000\n",
      "Remaining details (hp, engine, top_speed, price): (295, 5.0, 200, 35000)\n"
     ]
    }
   ],
   "source": [
    "car_parts()"
   ]
  },
  {
   "cell_type": "code",
   "execution_count": 18,
   "id": "2f0e78cf",
   "metadata": {},
   "outputs": [
    {
     "name": "stdout",
     "output_type": "stream",
     "text": [
      "Name of the car : Viper\n",
      "Brand : Dodge \n",
      "0 to 60: 8.0\n",
      "Price : 35000\n",
      "Remaining details (hp, engine, top_speed, price): (295, 5.0, 200, 35000)\n"
     ]
    }
   ],
   "source": [
    "car_parts(name=\"Viper\", brand=\"Dodge\")"
   ]
  },
  {
   "cell_type": "code",
   "execution_count": null,
   "id": "3895b82f",
   "metadata": {},
   "outputs": [],
   "source": []
  }
 ],
 "metadata": {
  "kernelspec": {
   "display_name": "Python 3 (ipykernel)",
   "language": "python",
   "name": "python3"
  },
  "language_info": {
   "codemirror_mode": {
    "name": "ipython",
    "version": 3
   },
   "file_extension": ".py",
   "mimetype": "text/x-python",
   "name": "python",
   "nbconvert_exporter": "python",
   "pygments_lexer": "ipython3",
   "version": "3.9.7"
  }
 },
 "nbformat": 4,
 "nbformat_minor": 5
}
