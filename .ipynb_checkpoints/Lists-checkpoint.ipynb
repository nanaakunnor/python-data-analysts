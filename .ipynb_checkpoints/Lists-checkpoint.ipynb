{
 "cells": [
  {
   "cell_type": "code",
   "execution_count": 1,
   "id": "dbac6441",
   "metadata": {},
   "outputs": [],
   "source": [
    "empty_list = []"
   ]
  },
  {
   "cell_type": "code",
   "execution_count": 2,
   "id": "e8615d33",
   "metadata": {},
   "outputs": [
    {
     "data": {
      "text/plain": [
       "list"
      ]
     },
     "execution_count": 2,
     "metadata": {},
     "output_type": "execute_result"
    }
   ],
   "source": [
    "type(empty_list)"
   ]
  },
  {
   "cell_type": "code",
   "execution_count": 3,
   "id": "8248d27e",
   "metadata": {},
   "outputs": [
    {
     "data": {
      "text/plain": [
       "[]"
      ]
     },
     "execution_count": 3,
     "metadata": {},
     "output_type": "execute_result"
    }
   ],
   "source": [
    "empty_list"
   ]
  },
  {
   "cell_type": "code",
   "execution_count": 4,
   "id": "728173f3",
   "metadata": {},
   "outputs": [
    {
     "name": "stdout",
     "output_type": "stream",
     "text": [
      "[]\n"
     ]
    }
   ],
   "source": [
    "print(empty_list)"
   ]
  },
  {
   "cell_type": "code",
   "execution_count": 5,
   "id": "0baf66cb",
   "metadata": {},
   "outputs": [
    {
     "data": {
      "text/plain": [
       "[1, 2, 3, 4, 5]"
      ]
     },
     "execution_count": 5,
     "metadata": {},
     "output_type": "execute_result"
    }
   ],
   "source": [
    "int_list = [1,2,3, 4,5]\n",
    "\n",
    "int_list"
   ]
  },
  {
   "cell_type": "code",
   "execution_count": 6,
   "id": "67ac44ae",
   "metadata": {},
   "outputs": [
    {
     "data": {
      "text/plain": [
       "['Hello', 'Python', 'World']"
      ]
     },
     "execution_count": 6,
     "metadata": {},
     "output_type": "execute_result"
    }
   ],
   "source": [
    "string_list = ['Hello', 'Python', 'World']\n",
    "\n",
    "string_list"
   ]
  },
  {
   "cell_type": "code",
   "execution_count": 7,
   "id": "6a64ede4",
   "metadata": {},
   "outputs": [
    {
     "data": {
      "text/plain": [
       "[5, 'Hello', True, 2.555]"
      ]
     },
     "execution_count": 7,
     "metadata": {},
     "output_type": "execute_result"
    }
   ],
   "source": [
    "mixed_list = [5, \"Hello\", True, 2.555]\n",
    "\n",
    "mixed_list"
   ]
  },
  {
   "cell_type": "code",
   "execution_count": 8,
   "id": "8ecbcb54",
   "metadata": {},
   "outputs": [],
   "source": [
    "airbus_planes = [\"Airbus A380\", \"Airbus A350\", \"Prototype Airbus A390\"]"
   ]
  },
  {
   "cell_type": "code",
   "execution_count": 9,
   "id": "a5db2900",
   "metadata": {},
   "outputs": [
    {
     "data": {
      "text/plain": [
       "'Airbus A380'"
      ]
     },
     "execution_count": 9,
     "metadata": {},
     "output_type": "execute_result"
    }
   ],
   "source": [
    "airbus_planes[0]"
   ]
  },
  {
   "cell_type": "code",
   "execution_count": 10,
   "id": "4e5725f3",
   "metadata": {},
   "outputs": [
    {
     "data": {
      "text/plain": [
       "'Airbus A350'"
      ]
     },
     "execution_count": 10,
     "metadata": {},
     "output_type": "execute_result"
    }
   ],
   "source": [
    "airbus_planes[1]"
   ]
  },
  {
   "cell_type": "code",
   "execution_count": 11,
   "id": "28c64fb4",
   "metadata": {},
   "outputs": [
    {
     "ename": "IndexError",
     "evalue": "list index out of range",
     "output_type": "error",
     "traceback": [
      "\u001b[1;31m---------------------------------------------------------------------------\u001b[0m",
      "\u001b[1;31mIndexError\u001b[0m                                Traceback (most recent call last)",
      "\u001b[1;32mC:\\Users\\KWADWO~1\\AppData\\Local\\Temp/ipykernel_12784/684233042.py\u001b[0m in \u001b[0;36m<module>\u001b[1;34m\u001b[0m\n\u001b[1;32m----> 1\u001b[1;33m \u001b[0mairbus_planes\u001b[0m\u001b[1;33m[\u001b[0m\u001b[1;36m3\u001b[0m\u001b[1;33m]\u001b[0m\u001b[1;33m\u001b[0m\u001b[1;33m\u001b[0m\u001b[0m\n\u001b[0m",
      "\u001b[1;31mIndexError\u001b[0m: list index out of range"
     ]
    }
   ],
   "source": [
    "airbus_planes[3]"
   ]
  },
  {
   "cell_type": "code",
   "execution_count": 12,
   "id": "dc550674",
   "metadata": {},
   "outputs": [
    {
     "data": {
      "text/plain": [
       "3"
      ]
     },
     "execution_count": 12,
     "metadata": {},
     "output_type": "execute_result"
    }
   ],
   "source": [
    "len(airbus_planes)"
   ]
  },
  {
   "cell_type": "code",
   "execution_count": 13,
   "id": "adbf42e2",
   "metadata": {},
   "outputs": [
    {
     "data": {
      "text/plain": [
       "['Airbus A350', 'Airbus A380', 'Prototype Airbus A390']"
      ]
     },
     "execution_count": 13,
     "metadata": {},
     "output_type": "execute_result"
    }
   ],
   "source": [
    "sorted(airbus_planes)"
   ]
  },
  {
   "cell_type": "code",
   "execution_count": 14,
   "id": "38af51fa",
   "metadata": {},
   "outputs": [],
   "source": [
    "boeing_planes = [\"Boeing 707\",\n",
    "                 \"Boeing 717\",\n",
    "                 \"Boeing 727\",\n",
    "                 \"Boeing 737\"]"
   ]
  },
  {
   "cell_type": "code",
   "execution_count": 15,
   "id": "3da69f3b",
   "metadata": {},
   "outputs": [
    {
     "data": {
      "text/plain": [
       "'Boeing 737'"
      ]
     },
     "execution_count": 15,
     "metadata": {},
     "output_type": "execute_result"
    }
   ],
   "source": [
    "boeing_planes[3]"
   ]
  },
  {
   "cell_type": "code",
   "execution_count": 16,
   "id": "43ae24c3",
   "metadata": {},
   "outputs": [],
   "source": [
    "boeing_planes[3] = \"Boeing 737 Original\""
   ]
  },
  {
   "cell_type": "code",
   "execution_count": 17,
   "id": "d2f476f5",
   "metadata": {},
   "outputs": [
    {
     "data": {
      "text/plain": [
       "['Boeing 707', 'Boeing 717', 'Boeing 727', 'Boeing 737 Original']"
      ]
     },
     "execution_count": 17,
     "metadata": {},
     "output_type": "execute_result"
    }
   ],
   "source": [
    "boeing_planes"
   ]
  },
  {
   "cell_type": "code",
   "execution_count": 18,
   "id": "dbb7193b",
   "metadata": {},
   "outputs": [
    {
     "data": {
      "text/plain": [
       "'Boeing 737 Original'"
      ]
     },
     "execution_count": 18,
     "metadata": {},
     "output_type": "execute_result"
    }
   ],
   "source": [
    "last_index = len(boeing_planes) - 1\n",
    "\n",
    "boeing_planes[last_index]"
   ]
  },
  {
   "cell_type": "code",
   "execution_count": 19,
   "id": "2a0d5999",
   "metadata": {},
   "outputs": [
    {
     "data": {
      "text/plain": [
       "'Boeing 737 Original'"
      ]
     },
     "execution_count": 19,
     "metadata": {},
     "output_type": "execute_result"
    }
   ],
   "source": [
    "boeing_planes[-1]"
   ]
  },
  {
   "cell_type": "code",
   "execution_count": 20,
   "id": "84ce5060",
   "metadata": {},
   "outputs": [
    {
     "data": {
      "text/plain": [
       "'Boeing 727'"
      ]
     },
     "execution_count": 20,
     "metadata": {},
     "output_type": "execute_result"
    }
   ],
   "source": [
    "boeing_planes[-2]"
   ]
  },
  {
   "cell_type": "code",
   "execution_count": 21,
   "id": "1f87f6cb",
   "metadata": {},
   "outputs": [
    {
     "data": {
      "text/plain": [
       "['Boeing 707', 'Boeing 717', 'Boeing 727']"
      ]
     },
     "execution_count": 21,
     "metadata": {},
     "output_type": "execute_result"
    }
   ],
   "source": [
    "boeing_planes[0:3]"
   ]
  },
  {
   "cell_type": "code",
   "execution_count": 22,
   "id": "041a1ed4",
   "metadata": {},
   "outputs": [
    {
     "data": {
      "text/plain": [
       "['Boeing 727', 'Boeing 737 Original']"
      ]
     },
     "execution_count": 22,
     "metadata": {},
     "output_type": "execute_result"
    }
   ],
   "source": [
    "boeing_planes[2:4]"
   ]
  },
  {
   "cell_type": "code",
   "execution_count": 23,
   "id": "0fa7cca5",
   "metadata": {},
   "outputs": [
    {
     "data": {
      "text/plain": [
       "['Boeing 707', 'Boeing 717', 'Boeing 727']"
      ]
     },
     "execution_count": 23,
     "metadata": {},
     "output_type": "execute_result"
    }
   ],
   "source": [
    "boeing_planes[0: -1]"
   ]
  },
  {
   "cell_type": "code",
   "execution_count": 24,
   "id": "40c98015",
   "metadata": {},
   "outputs": [
    {
     "data": {
      "text/plain": [
       "['Boeing 707', 'Boeing 717', 'Boeing 727', 'Boeing 737 Original', 'Boeing 747']"
      ]
     },
     "execution_count": 24,
     "metadata": {},
     "output_type": "execute_result"
    }
   ],
   "source": [
    "boeing_planes.append(\"Boeing 747\")\n",
    "\n",
    "boeing_planes"
   ]
  },
  {
   "cell_type": "code",
   "execution_count": 25,
   "id": "e0d4750a",
   "metadata": {},
   "outputs": [
    {
     "data": {
      "text/plain": [
       "['Boeing 707',\n",
       " 'Boeing 717',\n",
       " 'Boeing 727',\n",
       " 'Boeing 737 Original',\n",
       " 'Boeing 767',\n",
       " 'Boeing 747']"
      ]
     },
     "execution_count": 25,
     "metadata": {},
     "output_type": "execute_result"
    }
   ],
   "source": [
    "boeing_planes.insert(4, \"Boeing 767\")\n",
    "\n",
    "boeing_planes"
   ]
  },
  {
   "cell_type": "code",
   "execution_count": 26,
   "id": "15673259",
   "metadata": {},
   "outputs": [
    {
     "data": {
      "text/plain": [
       "['Boeing 707',\n",
       " 'Boeing 717',\n",
       " 'Boeing 727',\n",
       " 'Boeing 737 Original',\n",
       " 'Boeing 737 Classic',\n",
       " 'Boeing 767',\n",
       " 'Boeing 747']"
      ]
     },
     "execution_count": 26,
     "metadata": {},
     "output_type": "execute_result"
    }
   ],
   "source": [
    "boeing_planes.insert(4, \"Boeing 737 Classic\")\n",
    "\n",
    "boeing_planes"
   ]
  },
  {
   "cell_type": "code",
   "execution_count": 27,
   "id": "75ee2c58",
   "metadata": {},
   "outputs": [
    {
     "data": {
      "text/plain": [
       "0"
      ]
     },
     "execution_count": 27,
     "metadata": {},
     "output_type": "execute_result"
    }
   ],
   "source": [
    "boeing_planes.index(\"Boeing 707\")"
   ]
  },
  {
   "cell_type": "code",
   "execution_count": 28,
   "id": "4426c36f",
   "metadata": {},
   "outputs": [
    {
     "data": {
      "text/plain": [
       "6"
      ]
     },
     "execution_count": 28,
     "metadata": {},
     "output_type": "execute_result"
    }
   ],
   "source": [
    "boeing_planes.index(\"Boeing 747\")"
   ]
  },
  {
   "cell_type": "code",
   "execution_count": 29,
   "id": "7ae1cdf8",
   "metadata": {},
   "outputs": [
    {
     "data": {
      "text/plain": [
       "['Hurricane', 'Tiger Moth']"
      ]
     },
     "execution_count": 29,
     "metadata": {},
     "output_type": "execute_result"
    }
   ],
   "source": [
    "fighter_jets = [\"Hurricane\", \"Tiger Moth\"]\n",
    "\n",
    "fighter_jets"
   ]
  },
  {
   "cell_type": "code",
   "execution_count": 31,
   "id": "390b56ee",
   "metadata": {},
   "outputs": [
    {
     "data": {
      "text/plain": [
       "['Hurricane', 'Tiger Moth', 'F - 16']"
      ]
     },
     "execution_count": 31,
     "metadata": {},
     "output_type": "execute_result"
    }
   ],
   "source": [
    "fighter_jets.insert(5, \"F - 16\")\n",
    "\n",
    "fighter_jets"
   ]
  },
  {
   "cell_type": "code",
   "execution_count": 32,
   "id": "bf1221e0",
   "metadata": {},
   "outputs": [
    {
     "data": {
      "text/plain": [
       "['Tiger Moth', 'F - 16']"
      ]
     },
     "execution_count": 32,
     "metadata": {},
     "output_type": "execute_result"
    }
   ],
   "source": [
    "fighter_jets.remove(\"Hurricane\")\n",
    "\n",
    "fighter_jets"
   ]
  },
  {
   "cell_type": "code",
   "execution_count": 33,
   "id": "966dce31",
   "metadata": {},
   "outputs": [
    {
     "data": {
      "text/plain": [
       "'F - 16'"
      ]
     },
     "execution_count": 33,
     "metadata": {},
     "output_type": "execute_result"
    }
   ],
   "source": [
    "last_jet = fighter_jets.pop()\n",
    "\n",
    "last_jet"
   ]
  },
  {
   "cell_type": "code",
   "execution_count": 34,
   "id": "f8cf3013",
   "metadata": {},
   "outputs": [
    {
     "data": {
      "text/plain": [
       "['Tiger Moth']"
      ]
     },
     "execution_count": 34,
     "metadata": {},
     "output_type": "execute_result"
    }
   ],
   "source": [
    "fighter_jets"
   ]
  },
  {
   "cell_type": "code",
   "execution_count": 35,
   "id": "a3168613",
   "metadata": {},
   "outputs": [],
   "source": [
    "fighter_jets = [\"Hurricane\", \"Tiger Moth\", \"F - 14\", \"F - 16\", \"Tiger Moth\"]"
   ]
  },
  {
   "cell_type": "code",
   "execution_count": 36,
   "id": "713d34a2",
   "metadata": {},
   "outputs": [
    {
     "data": {
      "text/plain": [
       "['F - 14', 'F - 16', 'Hurricane', 'Tiger Moth', 'Tiger Moth']"
      ]
     },
     "execution_count": 36,
     "metadata": {},
     "output_type": "execute_result"
    }
   ],
   "source": [
    "fighter_jets.sort()\n",
    "\n",
    "fighter_jets"
   ]
  },
  {
   "cell_type": "code",
   "execution_count": 37,
   "id": "0c8cdc4a",
   "metadata": {},
   "outputs": [
    {
     "data": {
      "text/plain": [
       "['Tiger Moth', 'Tiger Moth', 'Hurricane', 'F - 16', 'F - 14']"
      ]
     },
     "execution_count": 37,
     "metadata": {},
     "output_type": "execute_result"
    }
   ],
   "source": [
    "fighter_jets.reverse()\n",
    "\n",
    "fighter_jets"
   ]
  },
  {
   "cell_type": "code",
   "execution_count": 38,
   "id": "a02a21c3",
   "metadata": {},
   "outputs": [
    {
     "data": {
      "text/plain": [
       "['Airbus A380',\n",
       " 'Airbus A350',\n",
       " 'Prototype Airbus A390',\n",
       " 'Boeing 707',\n",
       " 'Boeing 717',\n",
       " 'Boeing 727',\n",
       " 'Boeing 737 Original',\n",
       " 'Boeing 737 Classic',\n",
       " 'Boeing 767',\n",
       " 'Boeing 747',\n",
       " 'Tiger Moth',\n",
       " 'Tiger Moth',\n",
       " 'Hurricane',\n",
       " 'F - 16',\n",
       " 'F - 14']"
      ]
     },
     "execution_count": 38,
     "metadata": {},
     "output_type": "execute_result"
    }
   ],
   "source": [
    "all_plane = airbus_planes + boeing_planes + fighter_jets\n",
    "\n",
    "all_plane"
   ]
  },
  {
   "cell_type": "code",
   "execution_count": 39,
   "id": "216087f7",
   "metadata": {},
   "outputs": [],
   "source": [
    "airbus_planes.clear()"
   ]
  },
  {
   "cell_type": "code",
   "execution_count": 40,
   "id": "3a7b4d90",
   "metadata": {},
   "outputs": [
    {
     "data": {
      "text/plain": [
       "[]"
      ]
     },
     "execution_count": 40,
     "metadata": {},
     "output_type": "execute_result"
    }
   ],
   "source": [
    "airbus_planes"
   ]
  },
  {
   "cell_type": "code",
   "execution_count": 41,
   "id": "3e9e4bd2",
   "metadata": {},
   "outputs": [
    {
     "data": {
      "text/plain": [
       "['Boeing 707',\n",
       " 'Boeing 717',\n",
       " 'Boeing 727',\n",
       " 'Boeing 737 Original',\n",
       " 'Boeing 737 Classic',\n",
       " 'Boeing 767',\n",
       " 'Boeing 747']"
      ]
     },
     "execution_count": 41,
     "metadata": {},
     "output_type": "execute_result"
    }
   ],
   "source": [
    "boeing_planes_copy = boeing_planes.copy()\n",
    "\n",
    "boeing_planes_copy"
   ]
  },
  {
   "cell_type": "code",
   "execution_count": 42,
   "id": "1f4b77a0",
   "metadata": {},
   "outputs": [],
   "source": [
    "del boeing_planes"
   ]
  },
  {
   "cell_type": "code",
   "execution_count": 43,
   "id": "2437112f",
   "metadata": {},
   "outputs": [
    {
     "ename": "NameError",
     "evalue": "name 'boeing_planes' is not defined",
     "output_type": "error",
     "traceback": [
      "\u001b[1;31m---------------------------------------------------------------------------\u001b[0m",
      "\u001b[1;31mNameError\u001b[0m                                 Traceback (most recent call last)",
      "\u001b[1;32mC:\\Users\\KWADWO~1\\AppData\\Local\\Temp/ipykernel_12784/1330978110.py\u001b[0m in \u001b[0;36m<module>\u001b[1;34m\u001b[0m\n\u001b[1;32m----> 1\u001b[1;33m \u001b[0mboeing_planes\u001b[0m\u001b[1;33m\u001b[0m\u001b[1;33m\u001b[0m\u001b[0m\n\u001b[0m",
      "\u001b[1;31mNameError\u001b[0m: name 'boeing_planes' is not defined"
     ]
    }
   ],
   "source": [
    "boeing_planes"
   ]
  },
  {
   "cell_type": "code",
   "execution_count": 44,
   "id": "d17fcde3",
   "metadata": {},
   "outputs": [
    {
     "data": {
      "text/plain": [
       "['Boeing 707',\n",
       " 'Boeing 717',\n",
       " 'Boeing 727',\n",
       " 'Boeing 737 Original',\n",
       " 'Boeing 737 Classic',\n",
       " 'Boeing 767',\n",
       " 'Boeing 747']"
      ]
     },
     "execution_count": 44,
     "metadata": {},
     "output_type": "execute_result"
    }
   ],
   "source": [
    "boeing_planes_copy"
   ]
  },
  {
   "cell_type": "code",
   "execution_count": 45,
   "id": "dde098c4",
   "metadata": {},
   "outputs": [],
   "source": [
    "boeing_planes_shallow_copy = boeing_planes_copy"
   ]
  },
  {
   "cell_type": "code",
   "execution_count": 46,
   "id": "f36cbf37",
   "metadata": {},
   "outputs": [],
   "source": [
    "boeing_planes_shallow_copy.remove(\"Boeing 727\")"
   ]
  },
  {
   "cell_type": "code",
   "execution_count": 47,
   "id": "29589504",
   "metadata": {},
   "outputs": [
    {
     "data": {
      "text/plain": [
       "['Boeing 707',\n",
       " 'Boeing 717',\n",
       " 'Boeing 737 Original',\n",
       " 'Boeing 737 Classic',\n",
       " 'Boeing 767',\n",
       " 'Boeing 747']"
      ]
     },
     "execution_count": 47,
     "metadata": {},
     "output_type": "execute_result"
    }
   ],
   "source": [
    "boeing_planes_shallow_copy"
   ]
  },
  {
   "cell_type": "code",
   "execution_count": 48,
   "id": "1f39ce20",
   "metadata": {},
   "outputs": [
    {
     "data": {
      "text/plain": [
       "['Boeing 707',\n",
       " 'Boeing 717',\n",
       " 'Boeing 737 Original',\n",
       " 'Boeing 737 Classic',\n",
       " 'Boeing 767',\n",
       " 'Boeing 747']"
      ]
     },
     "execution_count": 48,
     "metadata": {},
     "output_type": "execute_result"
    }
   ],
   "source": [
    "boeing_planes_copy"
   ]
  },
  {
   "cell_type": "code",
   "execution_count": null,
   "id": "ec298259",
   "metadata": {},
   "outputs": [],
   "source": []
  }
 ],
 "metadata": {
  "kernelspec": {
   "display_name": "Python 3 (ipykernel)",
   "language": "python",
   "name": "python3"
  },
  "language_info": {
   "codemirror_mode": {
    "name": "ipython",
    "version": 3
   },
   "file_extension": ".py",
   "mimetype": "text/x-python",
   "name": "python",
   "nbconvert_exporter": "python",
   "pygments_lexer": "ipython3",
   "version": "3.9.7"
  }
 },
 "nbformat": 4,
 "nbformat_minor": 5
}
