{
 "cells": [
  {
   "cell_type": "code",
   "execution_count": 1,
   "id": "b0a406c8",
   "metadata": {},
   "outputs": [],
   "source": [
    "int_var = 3\n",
    "float_var = 3.3\n",
    "string_var = \"Hello\"\n",
    "bool_var = True"
   ]
  },
  {
   "cell_type": "code",
   "execution_count": 2,
   "id": "a6f7cbd4",
   "metadata": {},
   "outputs": [],
   "source": [
    "def reassign_argument_basictypes(int_var, float_var, string_var, bool_var):\n",
    "    int_var = 30\n",
    "    float_var = 30.3\n",
    "    string_var = \"Goodbye!\"\n",
    "    bool_var = False\n",
    "    \n",
    "    print(\"Inside the function: \", int_var, float_var, string_var, bool_var)"
   ]
  },
  {
   "cell_type": "code",
   "execution_count": 3,
   "id": "c196bb78",
   "metadata": {},
   "outputs": [
    {
     "name": "stdout",
     "output_type": "stream",
     "text": [
      "Outside the function:  3 3.3 Hello True\n"
     ]
    }
   ],
   "source": [
    "print(\"Outside the function: \", int_var, float_var, string_var, bool_var)"
   ]
  },
  {
   "cell_type": "code",
   "execution_count": 4,
   "id": "2c4aa989",
   "metadata": {},
   "outputs": [
    {
     "name": "stdout",
     "output_type": "stream",
     "text": [
      "Inside the function:  30 30.3 Goodbye! False\n"
     ]
    }
   ],
   "source": [
    "reassign_argument_basictypes(int_var, float_var, string_var, bool_var)"
   ]
  },
  {
   "cell_type": "code",
   "execution_count": 5,
   "id": "a6de4dc7",
   "metadata": {},
   "outputs": [
    {
     "name": "stdout",
     "output_type": "stream",
     "text": [
      "Outside the function:  3 3.3 Hello True\n"
     ]
    }
   ],
   "source": [
    "print(\"Outside the function: \", int_var, float_var, string_var, bool_var)"
   ]
  },
  {
   "cell_type": "code",
   "execution_count": 6,
   "id": "8c8db9b3",
   "metadata": {},
   "outputs": [],
   "source": [
    "some_list = [\"John\", \"Mary\"]\n",
    "some_tuple = (\"John\", \"Mary\")\n",
    "some_dictionary = {\"John\": 50, \"Mary\": 55}"
   ]
  },
  {
   "cell_type": "code",
   "execution_count": 7,
   "id": "cd9b2eea",
   "metadata": {},
   "outputs": [],
   "source": [
    "def reassign_arguments_complextypes(some_list, some_tuple, some_dictionary):\n",
    "    \n",
    "    some_list = [\"Alice\"]\n",
    "    some_tuple = (\"Alice\")\n",
    "    some_dictionary = {\"Alice\": 25}\n",
    "    \n",
    "    print(\"Inside the function: \", some_list, some_tuple, some_dictionary)"
   ]
  },
  {
   "cell_type": "code",
   "execution_count": 8,
   "id": "a3d5423d",
   "metadata": {},
   "outputs": [
    {
     "name": "stdout",
     "output_type": "stream",
     "text": [
      "Outside the function:  ['John', 'Mary'] ('John', 'Mary') {'John': 50, 'Mary': 55}\n"
     ]
    }
   ],
   "source": [
    "print(\"Outside the function: \", some_list, some_tuple, some_dictionary)"
   ]
  },
  {
   "cell_type": "code",
   "execution_count": 9,
   "id": "d623af72",
   "metadata": {},
   "outputs": [
    {
     "name": "stdout",
     "output_type": "stream",
     "text": [
      "Inside the function:  ['Alice'] Alice {'Alice': 25}\n"
     ]
    }
   ],
   "source": [
    "reassign_arguments_complextypes(some_list, some_tuple, some_dictionary)"
   ]
  },
  {
   "cell_type": "code",
   "execution_count": 10,
   "id": "04da7531",
   "metadata": {},
   "outputs": [
    {
     "name": "stdout",
     "output_type": "stream",
     "text": [
      "Outside the function:  ['John', 'Mary'] ('John', 'Mary') {'John': 50, 'Mary': 55}\n"
     ]
    }
   ],
   "source": [
    "print(\"Outside the function: \", some_list, some_tuple, some_dictionary)"
   ]
  },
  {
   "cell_type": "code",
   "execution_count": 11,
   "id": "91087759",
   "metadata": {},
   "outputs": [],
   "source": [
    "popular_story_books = [\"Geronimo Stilton\",\n",
    "                       \"Thea Stilton\",\n",
    "                       \"Timmy Failure\",\n",
    "                       \"Asterix\",\n",
    "                       \"Tintin\"]"
   ]
  },
  {
   "cell_type": "code",
   "execution_count": 14,
   "id": "ec160389",
   "metadata": {},
   "outputs": [],
   "source": [
    "def modify_list(popular_story_books):\n",
    "    popular_story_books.append(\"Dr.Seuss\")"
   ]
  },
  {
   "cell_type": "code",
   "execution_count": 15,
   "id": "46a9f9f8",
   "metadata": {},
   "outputs": [],
   "source": [
    "modify_list(popular_story_books)"
   ]
  },
  {
   "cell_type": "code",
   "execution_count": 16,
   "id": "68c65eae",
   "metadata": {},
   "outputs": [
    {
     "data": {
      "text/plain": [
       "['Geronimo Stilton',\n",
       " 'Thea Stilton',\n",
       " 'Timmy Failure',\n",
       " 'Asterix',\n",
       " 'Tintin',\n",
       " 'Dr.Seuss']"
      ]
     },
     "execution_count": 16,
     "metadata": {},
     "output_type": "execute_result"
    }
   ],
   "source": [
    "popular_story_books"
   ]
  },
  {
   "cell_type": "code",
   "execution_count": 17,
   "id": "08759361",
   "metadata": {},
   "outputs": [],
   "source": [
    "def modify_list(story_books):\n",
    "    story_books[1] = \"Junie B Jones\"\n",
    "    story_books.pop()"
   ]
  },
  {
   "cell_type": "code",
   "execution_count": 18,
   "id": "5efabc46",
   "metadata": {},
   "outputs": [
    {
     "data": {
      "text/plain": [
       "['Geronimo Stilton', 'Junie B Jones', 'Timmy Failure', 'Asterix', 'Tintin']"
      ]
     },
     "execution_count": 18,
     "metadata": {},
     "output_type": "execute_result"
    }
   ],
   "source": [
    "modify_list(popular_story_books)\n",
    "\n",
    "popular_story_books"
   ]
  },
  {
   "cell_type": "code",
   "execution_count": 19,
   "id": "2cd5c180",
   "metadata": {},
   "outputs": [],
   "source": [
    "popular_story_books_dict = {\"Geronimo Stilton\": 4,\n",
    "                            \"Thea Stilton\": 5,\n",
    "                            \"Timmy Failure\": 2,\n",
    "                            \"Asterix\": 12,\n",
    "                            \"Tintin\": 8}"
   ]
  },
  {
   "cell_type": "code",
   "execution_count": 20,
   "id": "8e5ccecd",
   "metadata": {},
   "outputs": [],
   "source": [
    "def modify_dict(story_books_dict):\n",
    "    del story_books_dict[\"Tintin\"]\n",
    "    \n",
    "    story_books_dict['Famous Five'] = 3"
   ]
  },
  {
   "cell_type": "code",
   "execution_count": 22,
   "id": "66dc5df0",
   "metadata": {},
   "outputs": [],
   "source": [
    "modify_dict(popular_story_books_dict)"
   ]
  },
  {
   "cell_type": "code",
   "execution_count": 23,
   "id": "71c8aeb8",
   "metadata": {},
   "outputs": [
    {
     "data": {
      "text/plain": [
       "{'Geronimo Stilton': 4,\n",
       " 'Thea Stilton': 5,\n",
       " 'Timmy Failure': 2,\n",
       " 'Asterix': 12,\n",
       " 'Famous Five': 3}"
      ]
     },
     "execution_count": 23,
     "metadata": {},
     "output_type": "execute_result"
    }
   ],
   "source": [
    "popular_story_books_dict"
   ]
  },
  {
   "cell_type": "code",
   "execution_count": null,
   "id": "ac68d084",
   "metadata": {},
   "outputs": [],
   "source": []
  }
 ],
 "metadata": {
  "kernelspec": {
   "display_name": "Python 3 (ipykernel)",
   "language": "python",
   "name": "python3"
  },
  "language_info": {
   "codemirror_mode": {
    "name": "ipython",
    "version": 3
   },
   "file_extension": ".py",
   "mimetype": "text/x-python",
   "name": "python",
   "nbconvert_exporter": "python",
   "pygments_lexer": "ipython3",
   "version": "3.9.7"
  }
 },
 "nbformat": 4,
 "nbformat_minor": 5
}
