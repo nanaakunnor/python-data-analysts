{
 "cells": [
  {
   "cell_type": "code",
   "execution_count": 1,
   "id": "db9da14a",
   "metadata": {},
   "outputs": [],
   "source": [
    "classic_cars = [\"Pierce Arrow\", \"Oldsmobile\", \"Mustang\", \"Corvette\", \"Alfa Romeo Spider\"]"
   ]
  },
  {
   "cell_type": "code",
   "execution_count": 2,
   "id": "ffc34d7e",
   "metadata": {},
   "outputs": [
    {
     "name": "stdout",
     "output_type": "stream",
     "text": [
      "Pierce Arrow\n"
     ]
    }
   ],
   "source": [
    "for car in classic_cars:\n",
    "    print(car)\n",
    "    break"
   ]
  },
  {
   "cell_type": "code",
   "execution_count": 3,
   "id": "ca7b109b",
   "metadata": {},
   "outputs": [
    {
     "data": {
      "text/plain": [
       "'Pierce Arrow'"
      ]
     },
     "execution_count": 3,
     "metadata": {},
     "output_type": "execute_result"
    }
   ],
   "source": [
    "car"
   ]
  },
  {
   "cell_type": "code",
   "execution_count": 4,
   "id": "70572198",
   "metadata": {},
   "outputs": [
    {
     "name": "stdout",
     "output_type": "stream",
     "text": [
      "Pierce Arrow\n",
      "Oldsmobile\n",
      "Mustang\n",
      "Corvette\n",
      "This is my favorite!  Corvette\n"
     ]
    }
   ],
   "source": [
    "for car in classic_cars:\n",
    "    print (car)\n",
    "    \n",
    "    if car == \"Corvette\":\n",
    "        print(\"This is my favorite! \", car)\n",
    "        break"
   ]
  },
  {
   "cell_type": "code",
   "execution_count": 5,
   "id": "99a9fe99",
   "metadata": {},
   "outputs": [
    {
     "data": {
      "text/plain": [
       "'Corvette'"
      ]
     },
     "execution_count": 5,
     "metadata": {},
     "output_type": "execute_result"
    }
   ],
   "source": [
    "car"
   ]
  },
  {
   "cell_type": "code",
   "execution_count": 7,
   "id": "ec90ebfb",
   "metadata": {},
   "outputs": [
    {
     "name": "stdout",
     "output_type": "stream",
     "text": [
      "Still within the for loop: Pierce Arrow\n",
      "Still within the for loop: Oldsmobile\n",
      "Still within the for loop: Mustang\n",
      "This is my favorite ! Corvette\n"
     ]
    }
   ],
   "source": [
    "for car in classic_cars:\n",
    "    if car == 'Corvette':\n",
    "        print(\"This is my favorite !\", car)\n",
    "        break\n",
    "        \n",
    "    print(\"Still within the for loop:\",car)"
   ]
  },
  {
   "cell_type": "code",
   "execution_count": 9,
   "id": "4269a840",
   "metadata": {},
   "outputs": [
    {
     "name": "stdout",
     "output_type": "stream",
     "text": [
      "What day is it? Tuesday\n",
      "Checking:  Sunday\n",
      "This is not a valid day of the week\n",
      "Checking:  Monday\n",
      "This is not a valid day of the week\n",
      "Checking:  Tuesday\n",
      "This is a valid day of the week!\n",
      "This is a valid day of the week!\n"
     ]
    }
   ],
   "source": [
    "days = [\"Sunday\", \"Monday\", \"Tuesday\", \"Wednesday\", \"Thursday\", \"Friday\", \"Saturday\"]\n",
    "\n",
    "day_input = input(\"What day is it? \")\n",
    "\n",
    "for day in days:\n",
    "    print(\"Checking: \", day)\n",
    "    \n",
    "    if day == day_input:\n",
    "        print(\"This is a valid day of the week!\")\n",
    "\n",
    "        print(\"This is a valid day of the week!\")\n",
    "        break\n",
    "    else:\n",
    "        print(\"This is not a valid day of the week\")"
   ]
  },
  {
   "cell_type": "code",
   "execution_count": 10,
   "id": "5c2f8af1",
   "metadata": {},
   "outputs": [
    {
     "name": "stdout",
     "output_type": "stream",
     "text": [
      "Checking .... 100\n",
      "Not a multiple of 3:-(\n",
      "Checking .... 34\n",
      "Not a multiple of 3:-(\n",
      "Checking .... 67\n",
      "Not a multiple of 3:-(\n",
      "Checking .... 89\n",
      "Not a multiple of 3:-(\n",
      "Checking .... 78\n",
      "Multiple of 3 - yipee\n"
     ]
    }
   ],
   "source": [
    "number_list = [100, 34, 67, 89, 78, 21, 36]\n",
    "\n",
    "for num in number_list:\n",
    "    print(\"Checking ....\", num)\n",
    "    \n",
    "    if num % 3 == 0:\n",
    "        print(\"Multiple of 3 - yipee\")\n",
    "        break\n",
    "        \n",
    "    print(\"Not a multiple of 3:-(\")"
   ]
  },
  {
   "cell_type": "code",
   "execution_count": 11,
   "id": "9ea36a8e",
   "metadata": {},
   "outputs": [],
   "source": [
    "classic_cars = [\"Pierce Arrow\", \"Oldsmobile\", \"Mustang\", \"Corvette\", \"Alfa Romeo Spider\"]"
   ]
  },
  {
   "cell_type": "code",
   "execution_count": 13,
   "id": "2eabec40",
   "metadata": {},
   "outputs": [
    {
     "name": "stdout",
     "output_type": "stream",
     "text": [
      "Pierce Arrow\n",
      "Oldsmobile\n",
      "Corvette\n",
      "Alfa Romeo Spider\n"
     ]
    }
   ],
   "source": [
    "for car in classic_cars:\n",
    "    if car == \"Mustang\":\n",
    "        continue\n",
    "        \n",
    "    print(car)"
   ]
  },
  {
   "cell_type": "code",
   "execution_count": 14,
   "id": "b1856921",
   "metadata": {},
   "outputs": [
    {
     "name": "stdout",
     "output_type": "stream",
     "text": [
      "1\n",
      "3\n",
      "5\n",
      "7\n",
      "9\n"
     ]
    }
   ],
   "source": [
    "for i in range(10):\n",
    "    \n",
    "    if i % 2 == 0:\n",
    "        continue\n",
    "        \n",
    "    print(i)"
   ]
  },
  {
   "cell_type": "code",
   "execution_count": 15,
   "id": "feec0156",
   "metadata": {},
   "outputs": [
    {
     "name": "stdout",
     "output_type": "stream",
     "text": [
      "10\n",
      "11\n",
      "12\n",
      "17\n",
      "18\n",
      "19\n",
      "20\n"
     ]
    }
   ],
   "source": [
    "for i in range(10, 21):\n",
    "    \n",
    "    if i >= 13 and i <= 16:\n",
    "        continue\n",
    "        \n",
    "    else:\n",
    "        print(i)"
   ]
  },
  {
   "cell_type": "code",
   "execution_count": 16,
   "id": "1941df4b",
   "metadata": {},
   "outputs": [
    {
     "name": "stdout",
     "output_type": "stream",
     "text": [
      "10\n",
      "11\n",
      "12\n"
     ]
    }
   ],
   "source": [
    "for i in range(10, 21):\n",
    "    if i >=13 and i <=16:\n",
    "        break\n",
    "    else:\n",
    "        print(i)"
   ]
  },
  {
   "cell_type": "code",
   "execution_count": 17,
   "id": "945226b1",
   "metadata": {},
   "outputs": [],
   "source": [
    "for i in range(10, 21):\n",
    "    pass"
   ]
  },
  {
   "cell_type": "code",
   "execution_count": 18,
   "id": "8971f1d4",
   "metadata": {},
   "outputs": [],
   "source": [
    "for i in range(10, 21):\n",
    "    break\n",
    "    \n",
    "    print(i)"
   ]
  },
  {
   "cell_type": "code",
   "execution_count": 19,
   "id": "c500aaa6",
   "metadata": {},
   "outputs": [],
   "source": [
    "for i in range(10, 21):\n",
    "    continue\n",
    "    \n",
    "    print(i)"
   ]
  },
  {
   "cell_type": "code",
   "execution_count": 20,
   "id": "e8d38ace",
   "metadata": {},
   "outputs": [
    {
     "name": "stdout",
     "output_type": "stream",
     "text": [
      "10\n",
      "11\n",
      "12\n",
      "13\n",
      "14\n",
      "15\n",
      "16\n",
      "17\n",
      "18\n",
      "19\n",
      "20\n"
     ]
    }
   ],
   "source": [
    "for i in range(10, 21):\n",
    "    pass\n",
    "\n",
    "    print(i)"
   ]
  },
  {
   "cell_type": "code",
   "execution_count": 21,
   "id": "f96d2b91",
   "metadata": {},
   "outputs": [
    {
     "name": "stdout",
     "output_type": "stream",
     "text": [
      "10\n",
      "11\n",
      "12\n",
      "17\n",
      "18\n",
      "19\n",
      "20\n"
     ]
    }
   ],
   "source": [
    "for i in range(10, 21):\n",
    "    if i >= 13 and i <= 16:\n",
    "        pass\n",
    "    else:\n",
    "        print(i)"
   ]
  },
  {
   "cell_type": "code",
   "execution_count": 23,
   "id": "cae2b119",
   "metadata": {},
   "outputs": [],
   "source": [
    "colors = [\"Red\", \"Green\", \"Blue\", \"Yellow\", \"Purple\", \"Orange\"]"
   ]
  },
  {
   "cell_type": "code",
   "execution_count": 24,
   "id": "d657240c",
   "metadata": {},
   "outputs": [
    {
     "name": "stdout",
     "output_type": "stream",
     "text": [
      "Red\n",
      "Green\n",
      "Blue\n",
      "Do nothing\n",
      "Yellow\n",
      "About to break!\n"
     ]
    }
   ],
   "source": [
    "for color in colors:\n",
    "    print(color)\n",
    "    \n",
    "    if color == \"Blue\":\n",
    "        print(\"Do nothing\")\n",
    "        pass\n",
    "    \n",
    "    if color == \"Red\":\n",
    "        continue\n",
    "        \n",
    "    if color == \"Yellow\":\n",
    "        print(\"About to break!\")\n",
    "        break"
   ]
  },
  {
   "cell_type": "code",
   "execution_count": null,
   "id": "fb1b06f0",
   "metadata": {},
   "outputs": [],
   "source": []
  }
 ],
 "metadata": {
  "kernelspec": {
   "display_name": "Python 3 (ipykernel)",
   "language": "python",
   "name": "python3"
  },
  "language_info": {
   "codemirror_mode": {
    "name": "ipython",
    "version": 3
   },
   "file_extension": ".py",
   "mimetype": "text/x-python",
   "name": "python",
   "nbconvert_exporter": "python",
   "pygments_lexer": "ipython3",
   "version": "3.9.7"
  }
 },
 "nbformat": 4,
 "nbformat_minor": 5
}
