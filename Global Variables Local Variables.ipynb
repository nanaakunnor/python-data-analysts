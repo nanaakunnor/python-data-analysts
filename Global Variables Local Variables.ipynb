{
 "cells": [
  {
   "cell_type": "code",
   "execution_count": 1,
   "id": "bf58f2cc",
   "metadata": {},
   "outputs": [],
   "source": [
    "make = \"Volkswagon\"\n",
    "\n",
    "model = \"GT\""
   ]
  },
  {
   "cell_type": "code",
   "execution_count": 2,
   "id": "b159ee58",
   "metadata": {},
   "outputs": [],
   "source": [
    "def print_car():\n",
    "    \n",
    "    print(\"Make: \", make)\n",
    "    print(\"Model: \", model)"
   ]
  },
  {
   "cell_type": "code",
   "execution_count": 3,
   "id": "184cf4fa",
   "metadata": {},
   "outputs": [
    {
     "name": "stdout",
     "output_type": "stream",
     "text": [
      "Make:  Volkswagon\n",
      "Model:  GT\n"
     ]
    }
   ],
   "source": [
    "print_car()"
   ]
  },
  {
   "cell_type": "code",
   "execution_count": 4,
   "id": "07c25ffe",
   "metadata": {},
   "outputs": [],
   "source": [
    "def print_car():\n",
    "    \n",
    "    model = \"GTI\"\n",
    "    \n",
    "    print(\"Make: \", make)\n",
    "    print(\"Model: \", model)"
   ]
  },
  {
   "cell_type": "code",
   "execution_count": 5,
   "id": "c9862d84",
   "metadata": {},
   "outputs": [
    {
     "name": "stdout",
     "output_type": "stream",
     "text": [
      "Make:  Volkswagon\n",
      "Model:  GTI\n"
     ]
    }
   ],
   "source": [
    "print_car()"
   ]
  },
  {
   "cell_type": "code",
   "execution_count": 6,
   "id": "0d8d9c71",
   "metadata": {},
   "outputs": [
    {
     "data": {
      "text/plain": [
       "('Volkswagon', 'GT')"
      ]
     },
     "execution_count": 6,
     "metadata": {},
     "output_type": "execute_result"
    }
   ],
   "source": [
    "make, model"
   ]
  },
  {
   "cell_type": "code",
   "execution_count": 7,
   "id": "fd196150",
   "metadata": {},
   "outputs": [],
   "source": [
    "def print_car():\n",
    "    \n",
    "    make = \"Toyota\"\n",
    "    \n",
    "    print(\"Make:\", make)\n",
    "    print(\"Model:\", model)"
   ]
  },
  {
   "cell_type": "code",
   "execution_count": 8,
   "id": "8f654a94",
   "metadata": {},
   "outputs": [
    {
     "name": "stdout",
     "output_type": "stream",
     "text": [
      "Make: Toyota\n",
      "Model: GT\n"
     ]
    }
   ],
   "source": [
    "print_car()"
   ]
  },
  {
   "cell_type": "code",
   "execution_count": 9,
   "id": "9815209a",
   "metadata": {},
   "outputs": [
    {
     "data": {
      "text/plain": [
       "('Volkswagon', 'GT')"
      ]
     },
     "execution_count": 9,
     "metadata": {},
     "output_type": "execute_result"
    }
   ],
   "source": [
    "make, model"
   ]
  },
  {
   "cell_type": "code",
   "execution_count": 10,
   "id": "c6f474d2",
   "metadata": {},
   "outputs": [],
   "source": [
    "def print_car(make, model):\n",
    "    \n",
    "    print(\"Make:\", make)\n",
    "    print(\"Model:\", model)"
   ]
  },
  {
   "cell_type": "code",
   "execution_count": 11,
   "id": "a3a7c610",
   "metadata": {},
   "outputs": [
    {
     "name": "stdout",
     "output_type": "stream",
     "text": [
      "Make: Porsche\n",
      "Model: 911\n"
     ]
    }
   ],
   "source": [
    "print_car(\"Porsche\", \"911\")"
   ]
  },
  {
   "cell_type": "code",
   "execution_count": 12,
   "id": "6db326f1",
   "metadata": {},
   "outputs": [
    {
     "data": {
      "text/plain": [
       "('Volkswagon', 'GT')"
      ]
     },
     "execution_count": 12,
     "metadata": {},
     "output_type": "execute_result"
    }
   ],
   "source": [
    "make, model"
   ]
  },
  {
   "cell_type": "code",
   "execution_count": 13,
   "id": "eac3686d",
   "metadata": {},
   "outputs": [],
   "source": [
    "def print_car():\n",
    "    model = model + \"I\"\n",
    "    \n",
    "    print(\"Make:\", make)\n",
    "    print(\"Madel:\", model)"
   ]
  },
  {
   "cell_type": "code",
   "execution_count": 14,
   "id": "bb6d7fd6",
   "metadata": {},
   "outputs": [
    {
     "ename": "UnboundLocalError",
     "evalue": "local variable 'model' referenced before assignment",
     "output_type": "error",
     "traceback": [
      "\u001b[1;31m---------------------------------------------------------------------------\u001b[0m",
      "\u001b[1;31mUnboundLocalError\u001b[0m                         Traceback (most recent call last)",
      "\u001b[1;32mC:\\Users\\KWADWO~1\\AppData\\Local\\Temp/ipykernel_27652/3878788142.py\u001b[0m in \u001b[0;36m<module>\u001b[1;34m\u001b[0m\n\u001b[1;32m----> 1\u001b[1;33m \u001b[0mprint_car\u001b[0m\u001b[1;33m(\u001b[0m\u001b[1;33m)\u001b[0m\u001b[1;33m\u001b[0m\u001b[1;33m\u001b[0m\u001b[0m\n\u001b[0m",
      "\u001b[1;32mC:\\Users\\KWADWO~1\\AppData\\Local\\Temp/ipykernel_27652/2244415398.py\u001b[0m in \u001b[0;36mprint_car\u001b[1;34m()\u001b[0m\n\u001b[0;32m      1\u001b[0m \u001b[1;32mdef\u001b[0m \u001b[0mprint_car\u001b[0m\u001b[1;33m(\u001b[0m\u001b[1;33m)\u001b[0m\u001b[1;33m:\u001b[0m\u001b[1;33m\u001b[0m\u001b[1;33m\u001b[0m\u001b[0m\n\u001b[1;32m----> 2\u001b[1;33m     \u001b[0mmodel\u001b[0m \u001b[1;33m=\u001b[0m \u001b[0mmodel\u001b[0m \u001b[1;33m+\u001b[0m \u001b[1;34m\"I\"\u001b[0m\u001b[1;33m\u001b[0m\u001b[1;33m\u001b[0m\u001b[0m\n\u001b[0m\u001b[0;32m      3\u001b[0m \u001b[1;33m\u001b[0m\u001b[0m\n\u001b[0;32m      4\u001b[0m     \u001b[0mprint\u001b[0m\u001b[1;33m(\u001b[0m\u001b[1;34m\"Make:\"\u001b[0m\u001b[1;33m,\u001b[0m \u001b[0mmake\u001b[0m\u001b[1;33m)\u001b[0m\u001b[1;33m\u001b[0m\u001b[1;33m\u001b[0m\u001b[0m\n\u001b[0;32m      5\u001b[0m     \u001b[0mprint\u001b[0m\u001b[1;33m(\u001b[0m\u001b[1;34m\"Madel:\"\u001b[0m\u001b[1;33m,\u001b[0m \u001b[0mmodel\u001b[0m\u001b[1;33m)\u001b[0m\u001b[1;33m\u001b[0m\u001b[1;33m\u001b[0m\u001b[0m\n",
      "\u001b[1;31mUnboundLocalError\u001b[0m: local variable 'model' referenced before assignment"
     ]
    }
   ],
   "source": [
    "print_car()"
   ]
  },
  {
   "cell_type": "code",
   "execution_count": 15,
   "id": "ca57671e",
   "metadata": {},
   "outputs": [],
   "source": [
    "def print_car():\n",
    "    model = \"GT\"\n",
    "    model = model + \"I\"\n",
    "    \n",
    "    print(\"Make: \", make)\n",
    "    print(\"Model: \", model)"
   ]
  },
  {
   "cell_type": "code",
   "execution_count": 16,
   "id": "6d5657cd",
   "metadata": {},
   "outputs": [
    {
     "name": "stdout",
     "output_type": "stream",
     "text": [
      "Make:  Volkswagon\n",
      "Model:  GTI\n"
     ]
    }
   ],
   "source": [
    "print_car()"
   ]
  },
  {
   "cell_type": "code",
   "execution_count": 17,
   "id": "c29d5731",
   "metadata": {},
   "outputs": [
    {
     "data": {
      "text/plain": [
       "('Volkswagon', 'GT')"
      ]
     },
     "execution_count": 17,
     "metadata": {},
     "output_type": "execute_result"
    }
   ],
   "source": [
    "make, model"
   ]
  },
  {
   "cell_type": "code",
   "execution_count": 18,
   "id": "ceaa9b10",
   "metadata": {},
   "outputs": [],
   "source": [
    "def print_car():\n",
    "    \n",
    "    global model\n",
    "    \n",
    "    model = model + \"I\"\n",
    "    \n",
    "    print(\"Make: \", make)\n",
    "    print(\"Model: \", model)"
   ]
  },
  {
   "cell_type": "code",
   "execution_count": 19,
   "id": "8d47e242",
   "metadata": {},
   "outputs": [
    {
     "name": "stdout",
     "output_type": "stream",
     "text": [
      "Make:  Volkswagon\n",
      "Model:  GTI\n"
     ]
    }
   ],
   "source": [
    "print_car()"
   ]
  },
  {
   "cell_type": "code",
   "execution_count": 20,
   "id": "7d2095a9",
   "metadata": {},
   "outputs": [
    {
     "data": {
      "text/plain": [
       "('Volkswagon', 'GTI')"
      ]
     },
     "execution_count": 20,
     "metadata": {},
     "output_type": "execute_result"
    }
   ],
   "source": [
    "make, model"
   ]
  },
  {
   "cell_type": "code",
   "execution_count": 21,
   "id": "fc2ca1dd",
   "metadata": {},
   "outputs": [
    {
     "data": {
      "text/plain": [
       "('Volkswagon', 'GT')"
      ]
     },
     "execution_count": 21,
     "metadata": {},
     "output_type": "execute_result"
    }
   ],
   "source": [
    "model = \"GT\"\n",
    "\n",
    "make, model"
   ]
  },
  {
   "cell_type": "code",
   "execution_count": 22,
   "id": "dfea50ff",
   "metadata": {},
   "outputs": [],
   "source": [
    "def print_car():\n",
    "    \n",
    "    global make, model\n",
    "    \n",
    "    make = \"Ferrari\"\n",
    "    model = \"F-XXK Evo\"\n",
    "    \n",
    "    print(\"Make: \", make)\n",
    "    print(\"Model: \", model)"
   ]
  },
  {
   "cell_type": "code",
   "execution_count": 23,
   "id": "957acbbe",
   "metadata": {},
   "outputs": [
    {
     "name": "stdout",
     "output_type": "stream",
     "text": [
      "Make:  Ferrari\n",
      "Model:  F-XXK Evo\n"
     ]
    }
   ],
   "source": [
    "print_car()"
   ]
  },
  {
   "cell_type": "code",
   "execution_count": 24,
   "id": "0db123e2",
   "metadata": {},
   "outputs": [
    {
     "data": {
      "text/plain": [
       "('Ferrari', 'F-XXK Evo')"
      ]
     },
     "execution_count": 24,
     "metadata": {},
     "output_type": "execute_result"
    }
   ],
   "source": [
    "make, model"
   ]
  },
  {
   "cell_type": "code",
   "execution_count": 25,
   "id": "bf3fed50",
   "metadata": {},
   "outputs": [],
   "source": [
    "i = 55"
   ]
  },
  {
   "cell_type": "code",
   "execution_count": 26,
   "id": "97618f49",
   "metadata": {},
   "outputs": [],
   "source": [
    "def function_with_local_variable():\n",
    "    \n",
    "    for i in range(11):\n",
    "        print(i)"
   ]
  },
  {
   "cell_type": "code",
   "execution_count": 27,
   "id": "fe3f2f5b",
   "metadata": {},
   "outputs": [
    {
     "name": "stdout",
     "output_type": "stream",
     "text": [
      "0\n",
      "1\n",
      "2\n",
      "3\n",
      "4\n",
      "5\n",
      "6\n",
      "7\n",
      "8\n",
      "9\n",
      "10\n"
     ]
    }
   ],
   "source": [
    "function_with_local_variable()"
   ]
  },
  {
   "cell_type": "code",
   "execution_count": 28,
   "id": "39647d8c",
   "metadata": {},
   "outputs": [
    {
     "data": {
      "text/plain": [
       "55"
      ]
     },
     "execution_count": 28,
     "metadata": {},
     "output_type": "execute_result"
    }
   ],
   "source": [
    "i"
   ]
  },
  {
   "cell_type": "code",
   "execution_count": 29,
   "id": "0eff64eb",
   "metadata": {},
   "outputs": [],
   "source": [
    "popular_story_books = [\"Geronimo Stilton\",\"Thea Stilton\",\"Timmy Failure\",\"Asterix\",\"Tintin\"]"
   ]
  },
  {
   "cell_type": "code",
   "execution_count": 30,
   "id": "2f90661c",
   "metadata": {},
   "outputs": [],
   "source": [
    "def modify_list():\n",
    "    \n",
    "    popular_story_books.append(\"Dr.Seuss\")\n",
    "    \n",
    "    print(popular_story_books)"
   ]
  },
  {
   "cell_type": "code",
   "execution_count": 31,
   "id": "b3d428b1",
   "metadata": {},
   "outputs": [
    {
     "name": "stdout",
     "output_type": "stream",
     "text": [
      "['Geronimo Stilton', 'Thea Stilton', 'Timmy Failure', 'Asterix', 'Tintin', 'Dr.Seuss']\n"
     ]
    }
   ],
   "source": [
    "modify_list()"
   ]
  },
  {
   "cell_type": "code",
   "execution_count": 32,
   "id": "9c667805",
   "metadata": {},
   "outputs": [],
   "source": [
    "def reinitialise_list():\n",
    "    \n",
    "    popular_story_books = [\"Famous Five\",\"Secret Seven\",\"Treehouse Series\"]\n",
    "    \n",
    "    print(popular_story_books)"
   ]
  },
  {
   "cell_type": "code",
   "execution_count": 33,
   "id": "46251412",
   "metadata": {},
   "outputs": [
    {
     "name": "stdout",
     "output_type": "stream",
     "text": [
      "['Famous Five', 'Secret Seven', 'Treehouse Series']\n"
     ]
    }
   ],
   "source": [
    "reinitialise_list()"
   ]
  },
  {
   "cell_type": "code",
   "execution_count": 34,
   "id": "70bb5993",
   "metadata": {},
   "outputs": [
    {
     "data": {
      "text/plain": [
       "['Geronimo Stilton',\n",
       " 'Thea Stilton',\n",
       " 'Timmy Failure',\n",
       " 'Asterix',\n",
       " 'Tintin',\n",
       " 'Dr.Seuss']"
      ]
     },
     "execution_count": 34,
     "metadata": {},
     "output_type": "execute_result"
    }
   ],
   "source": [
    "popular_story_books"
   ]
  },
  {
   "cell_type": "code",
   "execution_count": null,
   "id": "04be966c",
   "metadata": {},
   "outputs": [],
   "source": []
  }
 ],
 "metadata": {
  "kernelspec": {
   "display_name": "Python 3 (ipykernel)",
   "language": "python",
   "name": "python3"
  },
  "language_info": {
   "codemirror_mode": {
    "name": "ipython",
    "version": 3
   },
   "file_extension": ".py",
   "mimetype": "text/x-python",
   "name": "python",
   "nbconvert_exporter": "python",
   "pygments_lexer": "ipython3",
   "version": "3.9.7"
  }
 },
 "nbformat": 4,
 "nbformat_minor": 5
}
