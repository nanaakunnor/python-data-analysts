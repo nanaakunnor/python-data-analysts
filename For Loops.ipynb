{
 "cells": [
  {
   "cell_type": "code",
   "execution_count": 1,
   "id": "8a1b850a",
   "metadata": {},
   "outputs": [],
   "source": [
    "classic_cars = [\"Pierce Arrow\", \"Oldsmobile\", \"Mustang\"]"
   ]
  },
  {
   "cell_type": "code",
   "execution_count": 2,
   "id": "8b891e07",
   "metadata": {},
   "outputs": [
    {
     "name": "stdout",
     "output_type": "stream",
     "text": [
      "Pierce Arrow\n",
      "Oldsmobile\n",
      "Mustang\n"
     ]
    }
   ],
   "source": [
    "for car in classic_cars:\n",
    "    print(car)"
   ]
  },
  {
   "cell_type": "code",
   "execution_count": 3,
   "id": "19c48745",
   "metadata": {},
   "outputs": [
    {
     "data": {
      "text/plain": [
       "'Mustang'"
      ]
     },
     "execution_count": 3,
     "metadata": {},
     "output_type": "execute_result"
    }
   ],
   "source": [
    "car"
   ]
  },
  {
   "cell_type": "code",
   "execution_count": 4,
   "id": "1f1667c4",
   "metadata": {},
   "outputs": [],
   "source": [
    "sports_cars = [\"Agera\", \"Regera\", \"Chiron\", \"Veyron\"]"
   ]
  },
  {
   "cell_type": "code",
   "execution_count": 5,
   "id": "8dfc29a2",
   "metadata": {},
   "outputs": [
    {
     "name": "stdout",
     "output_type": "stream",
     "text": [
      "Agera\n",
      "Regera\n",
      "Chiron\n",
      "Veyron\n"
     ]
    }
   ],
   "source": [
    "for car in sports_cars:\n",
    "    print(car)"
   ]
  },
  {
   "cell_type": "code",
   "execution_count": 6,
   "id": "5624c6c2",
   "metadata": {},
   "outputs": [
    {
     "data": {
      "text/plain": [
       "'Veyron'"
      ]
     },
     "execution_count": 6,
     "metadata": {},
     "output_type": "execute_result"
    }
   ],
   "source": [
    "car"
   ]
  },
  {
   "cell_type": "code",
   "execution_count": 7,
   "id": "6989f4f4",
   "metadata": {},
   "outputs": [
    {
     "name": "stdout",
     "output_type": "stream",
     "text": [
      "P\n",
      "h\n",
      "a\n",
      "n\n",
      "t\n",
      "o\n",
      "m\n"
     ]
    }
   ],
   "source": [
    "for character in [\"P\", \"h\", \"a\", \"n\", \"t\", \"o\", \"m\"]:\n",
    "    print(character)"
   ]
  },
  {
   "cell_type": "code",
   "execution_count": 8,
   "id": "418208b1",
   "metadata": {},
   "outputs": [
    {
     "name": "stdout",
     "output_type": "stream",
     "text": [
      "P\n",
      "h\n",
      "a\n",
      "n\n",
      "t\n",
      "o\n",
      "m\n"
     ]
    }
   ],
   "source": [
    "for character in \"Phantom\":\n",
    "    print(character)"
   ]
  },
  {
   "cell_type": "code",
   "execution_count": 9,
   "id": "68e35b55",
   "metadata": {},
   "outputs": [
    {
     "ename": "TypeError",
     "evalue": "'int' object is not iterable",
     "output_type": "error",
     "traceback": [
      "\u001b[1;31m---------------------------------------------------------------------------\u001b[0m",
      "\u001b[1;31mTypeError\u001b[0m                                 Traceback (most recent call last)",
      "\u001b[1;32mC:\\Users\\KWADWO~1\\AppData\\Local\\Temp/ipykernel_11748/2237244544.py\u001b[0m in \u001b[0;36m<module>\u001b[1;34m\u001b[0m\n\u001b[1;32m----> 1\u001b[1;33m \u001b[1;32mfor\u001b[0m \u001b[0minteger\u001b[0m \u001b[1;32min\u001b[0m \u001b[1;36m56565936\u001b[0m\u001b[1;33m:\u001b[0m\u001b[1;33m\u001b[0m\u001b[1;33m\u001b[0m\u001b[0m\n\u001b[0m\u001b[0;32m      2\u001b[0m     \u001b[0mprint\u001b[0m\u001b[1;33m(\u001b[0m\u001b[0minteger\u001b[0m\u001b[1;33m)\u001b[0m\u001b[1;33m\u001b[0m\u001b[1;33m\u001b[0m\u001b[0m\n",
      "\u001b[1;31mTypeError\u001b[0m: 'int' object is not iterable"
     ]
    }
   ],
   "source": [
    "for integer in 56565936:\n",
    "    print(integer)"
   ]
  },
  {
   "cell_type": "code",
   "execution_count": 10,
   "id": "bb1eec3a",
   "metadata": {},
   "outputs": [
    {
     "name": "stdout",
     "output_type": "stream",
     "text": [
      "Porsche\n",
      "Lambhorghini\n",
      "Ford\n",
      "Ferrari\n",
      "General Motors\n"
     ]
    }
   ],
   "source": [
    "for car in \"Porsche\", \"Lambhorghini\", \"Ford\", \"Ferrari\", \"General Motors\":\n",
    "    print(car)"
   ]
  },
  {
   "cell_type": "code",
   "execution_count": 11,
   "id": "2f2c6800",
   "metadata": {},
   "outputs": [],
   "source": [
    "cameras = (\"Canon EOS 500D\",\n",
    "           \"Nikon D90\",\n",
    "           \"Canon EOS 50D\",\n",
    "           \"Canon EOS 450D\")"
   ]
  },
  {
   "cell_type": "code",
   "execution_count": 12,
   "id": "95e3710c",
   "metadata": {},
   "outputs": [
    {
     "name": "stdout",
     "output_type": "stream",
     "text": [
      "Canon EOS 500D\n",
      "Nikon D90\n",
      "Canon EOS 50D\n",
      "Canon EOS 450D\n"
     ]
    }
   ],
   "source": [
    "for cameras in cameras:\n",
    "    print(cameras)"
   ]
  },
  {
   "cell_type": "code",
   "execution_count": 13,
   "id": "ba770518",
   "metadata": {},
   "outputs": [],
   "source": [
    "num_list = [100, 800, 330, 220, 400, 900, 1100]"
   ]
  },
  {
   "cell_type": "code",
   "execution_count": 14,
   "id": "706ac8fb",
   "metadata": {},
   "outputs": [
    {
     "name": "stdout",
     "output_type": "stream",
     "text": [
      "<500: 100\n",
      ">=500: 800\n",
      "<500: 330\n",
      "<500: 220\n",
      "<500: 400\n",
      ">=500: 900\n",
      ">=500: 1100\n"
     ]
    }
   ],
   "source": [
    "for num in num_list:\n",
    "    if num < 500:\n",
    "        print(\"<500:\", num)\n",
    "    else:\n",
    "        print(\">=500:\", num)"
   ]
  },
  {
   "cell_type": "code",
   "execution_count": 15,
   "id": "0611ddb9",
   "metadata": {},
   "outputs": [
    {
     "data": {
      "text/plain": [
       "range(0, 10)"
      ]
     },
     "execution_count": 15,
     "metadata": {},
     "output_type": "execute_result"
    }
   ],
   "source": [
    "r = range(10)\n",
    "\n",
    "r"
   ]
  },
  {
   "cell_type": "code",
   "execution_count": 16,
   "id": "2dea9826",
   "metadata": {},
   "outputs": [
    {
     "data": {
      "text/plain": [
       "(0, 1, 2, 3, 4, 5, 6, 7, 8, 9)"
      ]
     },
     "execution_count": 16,
     "metadata": {},
     "output_type": "execute_result"
    }
   ],
   "source": [
    "tuple(r)"
   ]
  },
  {
   "cell_type": "code",
   "execution_count": 17,
   "id": "f44942b3",
   "metadata": {},
   "outputs": [
    {
     "data": {
      "text/plain": [
       "[0, 1, 2, 3, 4, 5, 6, 7, 8, 9]"
      ]
     },
     "execution_count": 17,
     "metadata": {},
     "output_type": "execute_result"
    }
   ],
   "source": [
    "list(r)"
   ]
  },
  {
   "cell_type": "code",
   "execution_count": 18,
   "id": "9297ecb4",
   "metadata": {},
   "outputs": [
    {
     "data": {
      "text/plain": [
       "[2, 3, 4, 5, 6, 7, 8, 9]"
      ]
     },
     "execution_count": 18,
     "metadata": {},
     "output_type": "execute_result"
    }
   ],
   "source": [
    "list(range(2, 10))"
   ]
  },
  {
   "cell_type": "code",
   "execution_count": 19,
   "id": "d5dd8231",
   "metadata": {},
   "outputs": [
    {
     "data": {
      "text/plain": [
       "[-4, -3, -2, -1, 0, 1, 2, 3, 4, 5, 6, 7]"
      ]
     },
     "execution_count": 19,
     "metadata": {},
     "output_type": "execute_result"
    }
   ],
   "source": [
    "list(range(-4, 8))"
   ]
  },
  {
   "cell_type": "code",
   "execution_count": 20,
   "id": "5881a699",
   "metadata": {},
   "outputs": [
    {
     "name": "stdout",
     "output_type": "stream",
     "text": [
      "0\n",
      "1\n",
      "2\n",
      "3\n",
      "4\n",
      "5\n"
     ]
    }
   ],
   "source": [
    "for i in range(6):\n",
    "    print(i)"
   ]
  },
  {
   "cell_type": "code",
   "execution_count": 21,
   "id": "95f699c9",
   "metadata": {},
   "outputs": [
    {
     "name": "stdout",
     "output_type": "stream",
     "text": [
      "2\n",
      "3\n",
      "4\n",
      "5\n",
      "6\n",
      "7\n"
     ]
    }
   ],
   "source": [
    "for i in range(2, 8):\n",
    "    print(i)"
   ]
  },
  {
   "cell_type": "code",
   "execution_count": 22,
   "id": "2b0d3ad5",
   "metadata": {},
   "outputs": [
    {
     "name": "stdout",
     "output_type": "stream",
     "text": [
      "2\n",
      "4\n",
      "6\n",
      "8\n",
      "10\n"
     ]
    }
   ],
   "source": [
    "for i in range(2, 11, 2):\n",
    "    print(i)"
   ]
  },
  {
   "cell_type": "code",
   "execution_count": 24,
   "id": "f8888a16",
   "metadata": {},
   "outputs": [
    {
     "name": "stdout",
     "output_type": "stream",
     "text": [
      "2\n",
      "5\n",
      "8\n"
     ]
    }
   ],
   "source": [
    "for i in range(2, 11, 3):\n",
    "    print(i)"
   ]
  },
  {
   "cell_type": "code",
   "execution_count": 25,
   "id": "ac1f04fc",
   "metadata": {},
   "outputs": [
    {
     "ename": "TypeError",
     "evalue": "'float' object cannot be interpreted as an integer",
     "output_type": "error",
     "traceback": [
      "\u001b[1;31m---------------------------------------------------------------------------\u001b[0m",
      "\u001b[1;31mTypeError\u001b[0m                                 Traceback (most recent call last)",
      "\u001b[1;32mC:\\Users\\KWADWO~1\\AppData\\Local\\Temp/ipykernel_11748/1377318978.py\u001b[0m in \u001b[0;36m<module>\u001b[1;34m\u001b[0m\n\u001b[1;32m----> 1\u001b[1;33m \u001b[1;32mfor\u001b[0m \u001b[0mi\u001b[0m \u001b[1;32min\u001b[0m \u001b[0mrange\u001b[0m\u001b[1;33m(\u001b[0m\u001b[1;36m3.141\u001b[0m\u001b[1;33m)\u001b[0m\u001b[1;33m:\u001b[0m\u001b[1;33m\u001b[0m\u001b[1;33m\u001b[0m\u001b[0m\n\u001b[0m\u001b[0;32m      2\u001b[0m     \u001b[0mprint\u001b[0m\u001b[1;33m(\u001b[0m\u001b[0mi\u001b[0m\u001b[1;33m)\u001b[0m\u001b[1;33m\u001b[0m\u001b[1;33m\u001b[0m\u001b[0m\n",
      "\u001b[1;31mTypeError\u001b[0m: 'float' object cannot be interpreted as an integer"
     ]
    }
   ],
   "source": [
    "for i in range(3.141):\n",
    "    print(i)"
   ]
  },
  {
   "cell_type": "code",
   "execution_count": 26,
   "id": "127efa09",
   "metadata": {},
   "outputs": [
    {
     "name": "stdout",
     "output_type": "stream",
     "text": [
      "Python is great\n",
      "Python is great\n",
      "Python is great\n",
      "Python is great\n",
      "Python is great\n",
      "Python is great\n",
      "Python is great\n"
     ]
    }
   ],
   "source": [
    "for _ in range(7):\n",
    "    print(\"Python is great\")"
   ]
  },
  {
   "cell_type": "code",
   "execution_count": 27,
   "id": "18ebf30d",
   "metadata": {},
   "outputs": [],
   "source": [
    "names_and_ages = {\"John\" : 53,\n",
    "                  \"Alice\" : 57,\n",
    "                  \"Bill\" : 14,\n",
    "                  \"Dave\" : 25}"
   ]
  },
  {
   "cell_type": "code",
   "execution_count": 28,
   "id": "d761e8bb",
   "metadata": {},
   "outputs": [
    {
     "name": "stdout",
     "output_type": "stream",
     "text": [
      "John\n",
      "Alice\n",
      "Bill\n",
      "Dave\n"
     ]
    }
   ],
   "source": [
    "for key in names_and_ages:\n",
    "    print(key)"
   ]
  },
  {
   "cell_type": "code",
   "execution_count": 29,
   "id": "9ab2a309",
   "metadata": {},
   "outputs": [
    {
     "name": "stdout",
     "output_type": "stream",
     "text": [
      "Name:  John Age:  53\n",
      "Name:  Alice Age:  57\n",
      "Name:  Bill Age:  14\n",
      "Name:  Dave Age:  25\n"
     ]
    }
   ],
   "source": [
    "for key in names_and_ages:\n",
    "    print(\"Name: \", key, \"Age: \", names_and_ages[key])"
   ]
  },
  {
   "cell_type": "code",
   "execution_count": 30,
   "id": "d56a4730",
   "metadata": {},
   "outputs": [
    {
     "data": {
      "text/plain": [
       "dict_keys(['John', 'Alice', 'Bill', 'Dave'])"
      ]
     },
     "execution_count": 30,
     "metadata": {},
     "output_type": "execute_result"
    }
   ],
   "source": [
    "names_and_ages.keys()"
   ]
  },
  {
   "cell_type": "code",
   "execution_count": 31,
   "id": "e7b73c27",
   "metadata": {},
   "outputs": [
    {
     "name": "stdout",
     "output_type": "stream",
     "text": [
      "John\n",
      "Alice\n",
      "Bill\n",
      "Dave\n"
     ]
    }
   ],
   "source": [
    "for key in names_and_ages.keys():\n",
    "    print(key)"
   ]
  },
  {
   "cell_type": "code",
   "execution_count": 32,
   "id": "0a947dad",
   "metadata": {},
   "outputs": [
    {
     "data": {
      "text/plain": [
       "dict_values([53, 57, 14, 25])"
      ]
     },
     "execution_count": 32,
     "metadata": {},
     "output_type": "execute_result"
    }
   ],
   "source": [
    "names_and_ages.values()"
   ]
  },
  {
   "cell_type": "code",
   "execution_count": 33,
   "id": "6593a936",
   "metadata": {},
   "outputs": [
    {
     "name": "stdout",
     "output_type": "stream",
     "text": [
      "53\n",
      "57\n",
      "14\n",
      "25\n"
     ]
    }
   ],
   "source": [
    "for val in names_and_ages.values():\n",
    "    print(val)"
   ]
  },
  {
   "cell_type": "code",
   "execution_count": 34,
   "id": "0b9ebf88",
   "metadata": {},
   "outputs": [
    {
     "data": {
      "text/plain": [
       "dict_items([('John', 53), ('Alice', 57), ('Bill', 14), ('Dave', 25)])"
      ]
     },
     "execution_count": 34,
     "metadata": {},
     "output_type": "execute_result"
    }
   ],
   "source": [
    "names_and_ages.items()"
   ]
  },
  {
   "cell_type": "code",
   "execution_count": 35,
   "id": "566de3c8",
   "metadata": {},
   "outputs": [
    {
     "name": "stdout",
     "output_type": "stream",
     "text": [
      "John 53\n",
      "Alice 57\n",
      "Bill 14\n",
      "Dave 25\n"
     ]
    }
   ],
   "source": [
    "for key, val in names_and_ages.items():\n",
    "    print(key, val)"
   ]
  },
  {
   "cell_type": "code",
   "execution_count": 36,
   "id": "82ecc80f",
   "metadata": {},
   "outputs": [],
   "source": [
    "materials = {\"Leather\", \"Polyester\", \"Nylon\", \"Cotton\", \"Silk\"}"
   ]
  },
  {
   "cell_type": "code",
   "execution_count": 37,
   "id": "12a2c7ac",
   "metadata": {},
   "outputs": [
    {
     "name": "stdout",
     "output_type": "stream",
     "text": [
      "Cotton\n",
      "Silk\n",
      "Polyester\n",
      "Leather\n",
      "Nylon\n",
      "We've run out of material\n"
     ]
    }
   ],
   "source": [
    "for m in materials:\n",
    "    print(m)\n",
    "else:\n",
    "    print(\"We've run out of material\")"
   ]
  },
  {
   "cell_type": "code",
   "execution_count": 38,
   "id": "867e9006",
   "metadata": {},
   "outputs": [
    {
     "name": "stdout",
     "output_type": "stream",
     "text": [
      "2  *  1  =  2\n",
      "2  *  2  =  4\n",
      "2  *  3  =  6\n",
      "2  *  4  =  8\n",
      "2  *  5  =  10\n",
      "2  *  6  =  12\n",
      "2  *  7  =  14\n",
      "2  *  8  =  16\n",
      "2  *  9  =  18\n",
      "2  *  10  =  20\n"
     ]
    }
   ],
   "source": [
    "num = 2\n",
    "\n",
    "for multiplier in range(1, 11):\n",
    "    print(num, \" * \", multiplier, \" = \", num * multiplier)"
   ]
  },
  {
   "cell_type": "code",
   "execution_count": 39,
   "id": "0be76945",
   "metadata": {},
   "outputs": [],
   "source": [
    "mixed_list = [5544,\n",
    "              \"Hello\",\n",
    "              3j,\n",
    "              [\"Hello\",\"Python\",\"World\"],\n",
    "              {545, 4542}]"
   ]
  },
  {
   "cell_type": "code",
   "execution_count": 40,
   "id": "93bfe5d4",
   "metadata": {},
   "outputs": [
    {
     "name": "stdout",
     "output_type": "stream",
     "text": [
      "This is a mixed list,so we can expect multiple datatypes, one of them is :  <class 'int'>\n",
      "This is a mixed list,so we can expect multiple datatypes, one of them is :  <class 'str'>\n",
      "This is a mixed list,so we can expect multiple datatypes, one of them is :  <class 'complex'>\n",
      "This is a mixed list,so we can expect multiple datatypes, one of them is :  <class 'list'>\n",
      "This is a mixed list,so we can expect multiple datatypes, one of them is :  <class 'set'>\n"
     ]
    }
   ],
   "source": [
    "for i in mixed_list:\n",
    "    print(\"This is a mixed list,so we can expect multiple datatypes, one of them is : \", type(i))"
   ]
  },
  {
   "cell_type": "code",
   "execution_count": 41,
   "id": "76e428cd",
   "metadata": {},
   "outputs": [
    {
     "data": {
      "text/plain": [
       "{'Cotton', 'Leather', 'Nylon', 'Polyester', 'Silk'}"
      ]
     },
     "execution_count": 41,
     "metadata": {},
     "output_type": "execute_result"
    }
   ],
   "source": [
    "materials"
   ]
  },
  {
   "cell_type": "code",
   "execution_count": 42,
   "id": "1668569e",
   "metadata": {},
   "outputs": [],
   "source": [
    "colors = [\"Red\",\"Yellow\",\"Blue\"]"
   ]
  },
  {
   "cell_type": "code",
   "execution_count": 43,
   "id": "f9b87159",
   "metadata": {},
   "outputs": [
    {
     "name": "stdout",
     "output_type": "stream",
     "text": [
      "Red <---> Cotton\n",
      "Red <---> Silk\n",
      "Red <---> Polyester\n",
      "Red <---> Leather\n",
      "Red <---> Nylon\n",
      "Yellow <---> Cotton\n",
      "Yellow <---> Silk\n",
      "Yellow <---> Polyester\n",
      "Yellow <---> Leather\n",
      "Yellow <---> Nylon\n",
      "Blue <---> Cotton\n",
      "Blue <---> Silk\n",
      "Blue <---> Polyester\n",
      "Blue <---> Leather\n",
      "Blue <---> Nylon\n"
     ]
    }
   ],
   "source": [
    "for c in colors:\n",
    "    \n",
    "    for m in materials:\n",
    "        \n",
    "        print(c, \"<--->\", m)"
   ]
  },
  {
   "cell_type": "code",
   "execution_count": 45,
   "id": "0cae2626",
   "metadata": {},
   "outputs": [
    {
     "name": "stdout",
     "output_type": "stream",
     "text": [
      "n\n",
      "o\n",
      "h\n",
      "t\n",
      "y\n",
      "P\n"
     ]
    }
   ],
   "source": [
    "for i in reversed(\"Python\"):\n",
    "    print(i)"
   ]
  },
  {
   "cell_type": "code",
   "execution_count": null,
   "id": "fb0623f0",
   "metadata": {},
   "outputs": [],
   "source": []
  }
 ],
 "metadata": {
  "kernelspec": {
   "display_name": "Python 3 (ipykernel)",
   "language": "python",
   "name": "python3"
  },
  "language_info": {
   "codemirror_mode": {
    "name": "ipython",
    "version": 3
   },
   "file_extension": ".py",
   "mimetype": "text/x-python",
   "name": "python",
   "nbconvert_exporter": "python",
   "pygments_lexer": "ipython3",
   "version": "3.9.7"
  }
 },
 "nbformat": 4,
 "nbformat_minor": 5
}
