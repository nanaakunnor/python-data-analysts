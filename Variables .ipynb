{
 "cells": [
  {
   "cell_type": "code",
   "execution_count": 1,
   "id": "ff27f740",
   "metadata": {},
   "outputs": [
    {
     "data": {
      "text/plain": [
       "65"
      ]
     },
     "execution_count": 1,
     "metadata": {},
     "output_type": "execute_result"
    }
   ],
   "source": [
    "15 + 30 + 20"
   ]
  },
  {
   "cell_type": "code",
   "execution_count": 2,
   "id": "f7e8af31",
   "metadata": {},
   "outputs": [],
   "source": [
    "apples = 15"
   ]
  },
  {
   "cell_type": "code",
   "execution_count": 3,
   "id": "3123a86c",
   "metadata": {},
   "outputs": [],
   "source": [
    "bananas = 30"
   ]
  },
  {
   "cell_type": "code",
   "execution_count": 4,
   "id": "76496d97",
   "metadata": {},
   "outputs": [],
   "source": [
    "oranges = 20"
   ]
  },
  {
   "cell_type": "code",
   "execution_count": 5,
   "id": "bdaf2ca3",
   "metadata": {},
   "outputs": [
    {
     "ename": "NameError",
     "evalue": "name 'apple' is not defined",
     "output_type": "error",
     "traceback": [
      "\u001b[1;31m---------------------------------------------------------------------------\u001b[0m",
      "\u001b[1;31mNameError\u001b[0m                                 Traceback (most recent call last)",
      "\u001b[1;32mC:\\Users\\KWADWO~1\\AppData\\Local\\Temp/ipykernel_18496/4124008460.py\u001b[0m in \u001b[0;36m<module>\u001b[1;34m\u001b[0m\n\u001b[1;32m----> 1\u001b[1;33m \u001b[0mtotal_fruits\u001b[0m \u001b[1;33m=\u001b[0m \u001b[0mapple\u001b[0m \u001b[1;33m+\u001b[0m \u001b[0moranges\u001b[0m \u001b[1;33m+\u001b[0m \u001b[0mbananas\u001b[0m\u001b[1;33m\u001b[0m\u001b[1;33m\u001b[0m\u001b[0m\n\u001b[0m\u001b[0;32m      2\u001b[0m \u001b[1;33m\u001b[0m\u001b[0m\n\u001b[0;32m      3\u001b[0m \u001b[0mtotal_fruits\u001b[0m\u001b[1;33m\u001b[0m\u001b[1;33m\u001b[0m\u001b[0m\n",
      "\u001b[1;31mNameError\u001b[0m: name 'apple' is not defined"
     ]
    }
   ],
   "source": [
    "total_fruits = apple + oranges + bananas\n",
    "\n",
    "total_fruits"
   ]
  },
  {
   "cell_type": "code",
   "execution_count": 6,
   "id": "c5f0052b",
   "metadata": {},
   "outputs": [],
   "source": [
    "salary = 1000\n",
    "\n",
    "expenses = 500"
   ]
  },
  {
   "cell_type": "code",
   "execution_count": 7,
   "id": "7d99c777",
   "metadata": {},
   "outputs": [
    {
     "data": {
      "text/plain": [
       "500"
      ]
     },
     "execution_count": 7,
     "metadata": {},
     "output_type": "execute_result"
    }
   ],
   "source": [
    "savings = salary - expenses\n",
    "\n",
    "savings"
   ]
  },
  {
   "cell_type": "code",
   "execution_count": 8,
   "id": "faf5cc1d",
   "metadata": {},
   "outputs": [],
   "source": [
    "length = 10.5\n",
    "\n",
    "width = 20"
   ]
  },
  {
   "cell_type": "code",
   "execution_count": 9,
   "id": "3013b0d6",
   "metadata": {},
   "outputs": [
    {
     "data": {
      "text/plain": [
       "210.0"
      ]
     },
     "execution_count": 9,
     "metadata": {},
     "output_type": "execute_result"
    }
   ],
   "source": [
    "area = length * width\n",
    "\n",
    "area"
   ]
  },
  {
   "cell_type": "code",
   "execution_count": 10,
   "id": "ad870271",
   "metadata": {},
   "outputs": [
    {
     "data": {
      "text/plain": [
       "61.0"
      ]
     },
     "execution_count": 10,
     "metadata": {},
     "output_type": "execute_result"
    }
   ],
   "source": [
    "perimeter = 2 * (length + width)\n",
    "\n",
    "perimeter"
   ]
  },
  {
   "cell_type": "code",
   "execution_count": 11,
   "id": "c4f28c66",
   "metadata": {},
   "outputs": [],
   "source": [
    "name = \"Suzie\"\n",
    "\n",
    "lastname = \"Derkins\""
   ]
  },
  {
   "cell_type": "code",
   "execution_count": 12,
   "id": "d6a54766",
   "metadata": {},
   "outputs": [
    {
     "data": {
      "text/plain": [
       "'SuzieDerkins'"
      ]
     },
     "execution_count": 12,
     "metadata": {},
     "output_type": "execute_result"
    }
   ],
   "source": [
    "fullname = name + \"\" + lastname\n",
    "\n",
    "fullname"
   ]
  },
  {
   "cell_type": "code",
   "execution_count": 13,
   "id": "bdd2d8e3",
   "metadata": {},
   "outputs": [
    {
     "data": {
      "text/plain": [
       "1000"
      ]
     },
     "execution_count": 13,
     "metadata": {},
     "output_type": "execute_result"
    }
   ],
   "source": [
    "salary"
   ]
  },
  {
   "cell_type": "code",
   "execution_count": 14,
   "id": "b03d3b67",
   "metadata": {},
   "outputs": [
    {
     "data": {
      "text/plain": [
       "1100"
      ]
     },
     "execution_count": 14,
     "metadata": {},
     "output_type": "execute_result"
    }
   ],
   "source": [
    "salary = salary + 100\n",
    "\n",
    "salary"
   ]
  },
  {
   "cell_type": "code",
   "execution_count": 15,
   "id": "83944e5c",
   "metadata": {},
   "outputs": [
    {
     "data": {
      "text/plain": [
       "250.0"
      ]
     },
     "execution_count": 15,
     "metadata": {},
     "output_type": "execute_result"
    }
   ],
   "source": [
    "expenses = expenses / 2\n",
    "\n",
    "expenses"
   ]
  },
  {
   "cell_type": "code",
   "execution_count": 16,
   "id": "bca7e6fc",
   "metadata": {},
   "outputs": [
    {
     "data": {
      "text/plain": [
       "850.0"
      ]
     },
     "execution_count": 16,
     "metadata": {},
     "output_type": "execute_result"
    }
   ],
   "source": [
    "savings = salary - expenses\n",
    "\n",
    "savings"
   ]
  },
  {
   "cell_type": "code",
   "execution_count": 17,
   "id": "dae5f2d4",
   "metadata": {},
   "outputs": [
    {
     "data": {
      "text/plain": [
       "1020.0"
      ]
     },
     "execution_count": 17,
     "metadata": {},
     "output_type": "execute_result"
    }
   ],
   "source": [
    "savings *= 1.2\n",
    "\n",
    "savings"
   ]
  },
  {
   "cell_type": "code",
   "execution_count": 18,
   "id": "721caef9",
   "metadata": {},
   "outputs": [],
   "source": [
    "pencils = 15\n",
    "\n",
    "erasers = 7"
   ]
  },
  {
   "cell_type": "code",
   "execution_count": 19,
   "id": "a154b56f",
   "metadata": {},
   "outputs": [
    {
     "data": {
      "text/plain": [
       "22"
      ]
     },
     "execution_count": 19,
     "metadata": {},
     "output_type": "execute_result"
    }
   ],
   "source": [
    "writing_instrument = pencils + erasers\n",
    "\n",
    "writing_instrument"
   ]
  },
  {
   "cell_type": "code",
   "execution_count": 20,
   "id": "2876dcaa",
   "metadata": {},
   "outputs": [
    {
     "data": {
      "text/plain": [
       "24"
      ]
     },
     "execution_count": 20,
     "metadata": {},
     "output_type": "execute_result"
    }
   ],
   "source": [
    "writing_instrument += 2\n",
    "\n",
    "writing_instrument"
   ]
  },
  {
   "cell_type": "code",
   "execution_count": 21,
   "id": "334acd7c",
   "metadata": {},
   "outputs": [],
   "source": [
    "weekdays = 7\n",
    "\n",
    "weekends = 2"
   ]
  },
  {
   "cell_type": "code",
   "execution_count": 22,
   "id": "adb09a25",
   "metadata": {},
   "outputs": [
    {
     "data": {
      "text/plain": [
       "5"
      ]
     },
     "execution_count": 22,
     "metadata": {},
     "output_type": "execute_result"
    }
   ],
   "source": [
    "weekdays -= weekends\n",
    "\n",
    "weekdays"
   ]
  },
  {
   "cell_type": "code",
   "execution_count": 23,
   "id": "e0314f34",
   "metadata": {},
   "outputs": [],
   "source": [
    "number = 2"
   ]
  },
  {
   "cell_type": "code",
   "execution_count": 24,
   "id": "abebc0f6",
   "metadata": {},
   "outputs": [
    {
     "data": {
      "text/plain": [
       "4"
      ]
     },
     "execution_count": 24,
     "metadata": {},
     "output_type": "execute_result"
    }
   ],
   "source": [
    "number = number * 2\n",
    "\n",
    "number"
   ]
  },
  {
   "cell_type": "code",
   "execution_count": 25,
   "id": "e0f9a28b",
   "metadata": {},
   "outputs": [
    {
     "data": {
      "text/plain": [
       "8"
      ]
     },
     "execution_count": 25,
     "metadata": {},
     "output_type": "execute_result"
    }
   ],
   "source": [
    "number *= 2\n",
    "\n",
    "number"
   ]
  },
  {
   "cell_type": "code",
   "execution_count": 26,
   "id": "b8487a37",
   "metadata": {},
   "outputs": [
    {
     "data": {
      "text/plain": [
       "16"
      ]
     },
     "execution_count": 26,
     "metadata": {},
     "output_type": "execute_result"
    }
   ],
   "source": [
    "number *= 2\n",
    "\n",
    "number"
   ]
  },
  {
   "cell_type": "code",
   "execution_count": 27,
   "id": "911f2e20",
   "metadata": {},
   "outputs": [
    {
     "data": {
      "text/plain": [
       "8.0"
      ]
     },
     "execution_count": 27,
     "metadata": {},
     "output_type": "execute_result"
    }
   ],
   "source": [
    "number /= 2\n",
    "\n",
    "number"
   ]
  },
  {
   "cell_type": "code",
   "execution_count": 28,
   "id": "b64b5be7",
   "metadata": {},
   "outputs": [
    {
     "data": {
      "text/plain": [
       "4.0"
      ]
     },
     "execution_count": 28,
     "metadata": {},
     "output_type": "execute_result"
    }
   ],
   "source": [
    "number /= 2\n",
    "\n",
    "number "
   ]
  },
  {
   "cell_type": "code",
   "execution_count": 29,
   "id": "726c793f",
   "metadata": {},
   "outputs": [
    {
     "data": {
      "text/plain": [
       "2.0"
      ]
     },
     "execution_count": 29,
     "metadata": {},
     "output_type": "execute_result"
    }
   ],
   "source": [
    "number /= 2\n",
    "\n",
    "number"
   ]
  },
  {
   "cell_type": "code",
   "execution_count": 30,
   "id": "a4ab3a7c",
   "metadata": {},
   "outputs": [],
   "source": [
    "string_1 = \"Hello\"\n",
    "\n",
    "string_2 = \"World\""
   ]
  },
  {
   "cell_type": "code",
   "execution_count": 31,
   "id": "217ac5f1",
   "metadata": {},
   "outputs": [],
   "source": [
    "string_1 += string_2"
   ]
  },
  {
   "cell_type": "code",
   "execution_count": 32,
   "id": "51deed3c",
   "metadata": {},
   "outputs": [
    {
     "data": {
      "text/plain": [
       "'HelloWorld'"
      ]
     },
     "execution_count": 32,
     "metadata": {},
     "output_type": "execute_result"
    }
   ],
   "source": [
    "string_1"
   ]
  },
  {
   "cell_type": "code",
   "execution_count": 33,
   "id": "4c41bc0b",
   "metadata": {},
   "outputs": [],
   "source": [
    "string_3 = \"Python\"\n",
    "\n",
    "string_3 *= 4"
   ]
  },
  {
   "cell_type": "code",
   "execution_count": 34,
   "id": "27afc591",
   "metadata": {},
   "outputs": [
    {
     "data": {
      "text/plain": [
       "'PythonPythonPythonPython'"
      ]
     },
     "execution_count": 34,
     "metadata": {},
     "output_type": "execute_result"
    }
   ],
   "source": [
    "string_3"
   ]
  },
  {
   "cell_type": "code",
   "execution_count": 35,
   "id": "c2b87498",
   "metadata": {},
   "outputs": [
    {
     "data": {
      "text/plain": [
       "0.5418468000134453"
      ]
     },
     "execution_count": 35,
     "metadata": {},
     "output_type": "execute_result"
    }
   ],
   "source": [
    "x = 222745.5418468\n",
    "\n",
    "x %=5\n",
    "\n",
    "x"
   ]
  },
  {
   "cell_type": "code",
   "execution_count": 36,
   "id": "602164e9",
   "metadata": {},
   "outputs": [
    {
     "data": {
      "text/plain": [
       "True"
      ]
     },
     "execution_count": 36,
     "metadata": {},
     "output_type": "execute_result"
    }
   ],
   "source": [
    "greater = 10 > 3\n",
    "\n",
    "greater"
   ]
  },
  {
   "cell_type": "code",
   "execution_count": 37,
   "id": "ba2853b1",
   "metadata": {},
   "outputs": [
    {
     "data": {
      "text/plain": [
       "False"
      ]
     },
     "execution_count": 37,
     "metadata": {},
     "output_type": "execute_result"
    }
   ],
   "source": [
    "both_true = 10 > 3 and 2 > 5\n",
    "\n",
    "both_true"
   ]
  },
  {
   "cell_type": "code",
   "execution_count": null,
   "id": "1ed12f4d",
   "metadata": {},
   "outputs": [],
   "source": []
  },
  {
   "cell_type": "code",
   "execution_count": null,
   "id": "cf3d279e",
   "metadata": {},
   "outputs": [],
   "source": []
  }
 ],
 "metadata": {
  "kernelspec": {
   "display_name": "Python 3 (ipykernel)",
   "language": "python",
   "name": "python3"
  },
  "language_info": {
   "codemirror_mode": {
    "name": "ipython",
    "version": 3
   },
   "file_extension": ".py",
   "mimetype": "text/x-python",
   "name": "python",
   "nbconvert_exporter": "python",
   "pygments_lexer": "ipython3",
   "version": "3.9.7"
  }
 },
 "nbformat": 4,
 "nbformat_minor": 5
}
