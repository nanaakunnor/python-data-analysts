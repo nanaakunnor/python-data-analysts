{
 "cells": [
  {
   "cell_type": "code",
   "execution_count": 1,
   "id": "41e23222",
   "metadata": {},
   "outputs": [
    {
     "data": {
      "text/plain": [
       "5"
      ]
     },
     "execution_count": 1,
     "metadata": {},
     "output_type": "execute_result"
    }
   ],
   "source": [
    "int_var = 5 \n",
    "\n",
    "int_var "
   ]
  },
  {
   "cell_type": "code",
   "execution_count": 2,
   "id": "0945e836",
   "metadata": {},
   "outputs": [
    {
     "data": {
      "text/plain": [
       "int"
      ]
     },
     "execution_count": 2,
     "metadata": {},
     "output_type": "execute_result"
    }
   ],
   "source": [
    "type(int_var)"
   ]
  },
  {
   "cell_type": "code",
   "execution_count": 3,
   "id": "e7a303ae",
   "metadata": {},
   "outputs": [
    {
     "data": {
      "text/plain": [
       "float"
      ]
     },
     "execution_count": 3,
     "metadata": {},
     "output_type": "execute_result"
    }
   ],
   "source": [
    "float_var = 2.5\n",
    "\n",
    "type(float_var)"
   ]
  },
  {
   "cell_type": "code",
   "execution_count": 4,
   "id": "588fa5ad",
   "metadata": {},
   "outputs": [
    {
     "data": {
      "text/plain": [
       "str"
      ]
     },
     "execution_count": 4,
     "metadata": {},
     "output_type": "execute_result"
    }
   ],
   "source": [
    "string_var = \"hello\"\n",
    "\n",
    "type(string_var)"
   ]
  },
  {
   "cell_type": "code",
   "execution_count": 5,
   "id": "1300d05f",
   "metadata": {},
   "outputs": [
    {
     "data": {
      "text/plain": [
       "bool"
      ]
     },
     "execution_count": 5,
     "metadata": {},
     "output_type": "execute_result"
    }
   ],
   "source": [
    "bool_var = True\n",
    "\n",
    "type(bool_var)"
   ]
  },
  {
   "cell_type": "code",
   "execution_count": 6,
   "id": "9eba9e4a",
   "metadata": {},
   "outputs": [
    {
     "name": "stdout",
     "output_type": "stream",
     "text": [
      "hello\n"
     ]
    }
   ],
   "source": [
    "print(string_var)"
   ]
  },
  {
   "cell_type": "code",
   "execution_count": 7,
   "id": "cd3fc6ba",
   "metadata": {},
   "outputs": [
    {
     "name": "stdout",
     "output_type": "stream",
     "text": [
      "5 2.5\n"
     ]
    }
   ],
   "source": [
    "print(int_var, float_var)"
   ]
  },
  {
   "cell_type": "code",
   "execution_count": 8,
   "id": "38d1524f",
   "metadata": {},
   "outputs": [
    {
     "name": "stdout",
     "output_type": "stream",
     "text": [
      "5 2.5 hello True\n"
     ]
    }
   ],
   "source": [
    "print(int_var, float_var, string_var, bool_var)"
   ]
  },
  {
   "cell_type": "code",
   "execution_count": 9,
   "id": "20d5b80f",
   "metadata": {},
   "outputs": [
    {
     "data": {
      "text/plain": [
       "'5'"
      ]
     },
     "execution_count": 9,
     "metadata": {},
     "output_type": "execute_result"
    }
   ],
   "source": [
    "str(int_var)"
   ]
  },
  {
   "cell_type": "code",
   "execution_count": 10,
   "id": "d113ce58",
   "metadata": {},
   "outputs": [
    {
     "data": {
      "text/plain": [
       "10"
      ]
     },
     "execution_count": 10,
     "metadata": {},
     "output_type": "execute_result"
    }
   ],
   "source": [
    "some_string_holding_an_int = \"10\"\n",
    "\n",
    "int(some_string_holding_an_int)"
   ]
  },
  {
   "cell_type": "code",
   "execution_count": 11,
   "id": "57abb510",
   "metadata": {},
   "outputs": [
    {
     "data": {
      "text/plain": [
       "2"
      ]
     },
     "execution_count": 11,
     "metadata": {},
     "output_type": "execute_result"
    }
   ],
   "source": [
    "int(float_var)"
   ]
  },
  {
   "cell_type": "code",
   "execution_count": 12,
   "id": "afe53fd3",
   "metadata": {},
   "outputs": [
    {
     "data": {
      "text/plain": [
       "'True'"
      ]
     },
     "execution_count": 12,
     "metadata": {},
     "output_type": "execute_result"
    }
   ],
   "source": [
    "str(bool_var)"
   ]
  },
  {
   "cell_type": "code",
   "execution_count": 13,
   "id": "85a49d59",
   "metadata": {},
   "outputs": [
    {
     "data": {
      "text/plain": [
       "5.0"
      ]
     },
     "execution_count": 13,
     "metadata": {},
     "output_type": "execute_result"
    }
   ],
   "source": [
    "float(int_var)"
   ]
  },
  {
   "cell_type": "code",
   "execution_count": 14,
   "id": "cda1f3f2",
   "metadata": {},
   "outputs": [],
   "source": [
    "boxes = 117\n",
    "\n",
    "loaded_boxes = 64"
   ]
  },
  {
   "cell_type": "code",
   "execution_count": 15,
   "id": "d0d43441",
   "metadata": {},
   "outputs": [
    {
     "ename": "TypeError",
     "evalue": "can only concatenate str (not \"int\") to str",
     "output_type": "error",
     "traceback": [
      "\u001b[1;31m---------------------------------------------------------------------------\u001b[0m",
      "\u001b[1;31mTypeError\u001b[0m                                 Traceback (most recent call last)",
      "\u001b[1;32mC:\\Users\\KWADWO~1\\AppData\\Local\\Temp/ipykernel_636/2977980263.py\u001b[0m in \u001b[0;36m<module>\u001b[1;34m\u001b[0m\n\u001b[1;32m----> 1\u001b[1;33m \u001b[0mnumber_of_empty_boxes\u001b[0m \u001b[1;33m=\u001b[0m \u001b[1;34m\"Number of empty boxes :\"\u001b[0m \u001b[1;33m+\u001b[0m \u001b[1;33m(\u001b[0m\u001b[0mboxes\u001b[0m \u001b[1;33m-\u001b[0m \u001b[0mloaded_boxes\u001b[0m\u001b[1;33m)\u001b[0m\u001b[1;33m\u001b[0m\u001b[1;33m\u001b[0m\u001b[0m\n\u001b[0m",
      "\u001b[1;31mTypeError\u001b[0m: can only concatenate str (not \"int\") to str"
     ]
    }
   ],
   "source": [
    "number_of_empty_boxes = \"Number of empty boxes :\" + (boxes - loaded_boxes)"
   ]
  },
  {
   "cell_type": "code",
   "execution_count": 16,
   "id": "2ace9179",
   "metadata": {
    "scrolled": true
   },
   "outputs": [
    {
     "data": {
      "text/plain": [
       "'Number of empty boxes :53'"
      ]
     },
     "execution_count": 16,
     "metadata": {},
     "output_type": "execute_result"
    }
   ],
   "source": [
    "number_of_empty_boxes = \"Number of empty boxes :\" + str(boxes - loaded_boxes)\n",
    "\n",
    "number_of_empty_boxes"
   ]
  },
  {
   "cell_type": "code",
   "execution_count": 17,
   "id": "696ba6d7",
   "metadata": {},
   "outputs": [
    {
     "data": {
      "text/plain": [
       "str"
      ]
     },
     "execution_count": 17,
     "metadata": {},
     "output_type": "execute_result"
    }
   ],
   "source": [
    "type(number_of_empty_boxes)"
   ]
  },
  {
   "cell_type": "code",
   "execution_count": 18,
   "id": "89a767f0",
   "metadata": {},
   "outputs": [
    {
     "name": "stdout",
     "output_type": "stream",
     "text": [
      "Total boxes:  117\n"
     ]
    }
   ],
   "source": [
    "print(\"Total boxes: \", boxes)"
   ]
  },
  {
   "cell_type": "code",
   "execution_count": 19,
   "id": "ad52631c",
   "metadata": {},
   "outputs": [
    {
     "name": "stdout",
     "output_type": "stream",
     "text": [
      "Loaded boxes:  64\n"
     ]
    }
   ],
   "source": [
    "print(\"Loaded boxes: \", loaded_boxes)"
   ]
  },
  {
   "cell_type": "code",
   "execution_count": 20,
   "id": "0ba527b5",
   "metadata": {},
   "outputs": [
    {
     "name": "stdout",
     "output_type": "stream",
     "text": [
      "Number of empty boxes:  53\n"
     ]
    }
   ],
   "source": [
    "print(\"Number of empty boxes: \", boxes - loaded_boxes)"
   ]
  },
  {
   "cell_type": "code",
   "execution_count": 21,
   "id": "e49fcc30",
   "metadata": {},
   "outputs": [],
   "source": [
    "a = 15\n",
    "\n",
    "b = 3"
   ]
  },
  {
   "cell_type": "code",
   "execution_count": 22,
   "id": "f479abc2",
   "metadata": {},
   "outputs": [
    {
     "data": {
      "text/plain": [
       "18"
      ]
     },
     "execution_count": 22,
     "metadata": {},
     "output_type": "execute_result"
    }
   ],
   "source": [
    "c = a + b \n",
    "\n",
    "c"
   ]
  },
  {
   "cell_type": "code",
   "execution_count": 23,
   "id": "60c51429",
   "metadata": {},
   "outputs": [],
   "source": [
    "d = '15'\n",
    "\n",
    "e = '3'"
   ]
  },
  {
   "cell_type": "code",
   "execution_count": 24,
   "id": "b7158533",
   "metadata": {},
   "outputs": [
    {
     "data": {
      "text/plain": [
       "'153'"
      ]
     },
     "execution_count": 24,
     "metadata": {},
     "output_type": "execute_result"
    }
   ],
   "source": [
    "f = d + e\n",
    "\n",
    "f"
   ]
  },
  {
   "cell_type": "code",
   "execution_count": 25,
   "id": "728a6ab6",
   "metadata": {},
   "outputs": [
    {
     "data": {
      "text/plain": [
       "False"
      ]
     },
     "execution_count": 25,
     "metadata": {},
     "output_type": "execute_result"
    }
   ],
   "source": [
    " 6 < 5"
   ]
  },
  {
   "cell_type": "code",
   "execution_count": 26,
   "id": "73f1a756",
   "metadata": {},
   "outputs": [
    {
     "data": {
      "text/plain": [
       "bool"
      ]
     },
     "execution_count": 26,
     "metadata": {},
     "output_type": "execute_result"
    }
   ],
   "source": [
    "type(6 < 5)"
   ]
  },
  {
   "cell_type": "code",
   "execution_count": null,
   "id": "762a8d7b",
   "metadata": {},
   "outputs": [],
   "source": []
  }
 ],
 "metadata": {
  "kernelspec": {
   "display_name": "Python 3 (ipykernel)",
   "language": "python",
   "name": "python3"
  },
  "language_info": {
   "codemirror_mode": {
    "name": "ipython",
    "version": 3
   },
   "file_extension": ".py",
   "mimetype": "text/x-python",
   "name": "python",
   "nbconvert_exporter": "python",
   "pygments_lexer": "ipython3",
   "version": "3.9.7"
  }
 },
 "nbformat": 4,
 "nbformat_minor": 5
}
