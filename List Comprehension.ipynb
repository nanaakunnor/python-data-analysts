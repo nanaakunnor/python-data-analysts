{
 "cells": [
  {
   "cell_type": "code",
   "execution_count": 3,
   "id": "e764b248",
   "metadata": {},
   "outputs": [
    {
     "name": "stdout",
     "output_type": "stream",
     "text": [
      "['p', 'y', 't', 'h', 'o', 'n']\n"
     ]
    }
   ],
   "source": [
    "characters = [ch for ch in \"python\"]\n",
    "\n",
    "print(characters)"
   ]
  },
  {
   "cell_type": "code",
   "execution_count": 4,
   "id": "7d636196",
   "metadata": {},
   "outputs": [
    {
     "name": "stdout",
     "output_type": "stream",
     "text": [
      "[0, 1, 2, 3, 4, 5, 6, 7, 8, 9, 10]\n"
     ]
    }
   ],
   "source": [
    "num_list = [number for number in range(11)]\n",
    "\n",
    "print(num_list)"
   ]
  },
  {
   "cell_type": "code",
   "execution_count": 5,
   "id": "b3ea45ba",
   "metadata": {},
   "outputs": [],
   "source": [
    "squares_list = [number**2 for number in num_list]"
   ]
  },
  {
   "cell_type": "code",
   "execution_count": 6,
   "id": "b40e3a1e",
   "metadata": {},
   "outputs": [
    {
     "data": {
      "text/plain": [
       "[0, 1, 4, 9, 16, 25, 36, 49, 64, 81, 100]"
      ]
     },
     "execution_count": 6,
     "metadata": {},
     "output_type": "execute_result"
    }
   ],
   "source": [
    "squares_list"
   ]
  },
  {
   "cell_type": "code",
   "execution_count": 7,
   "id": "dbbf782a",
   "metadata": {},
   "outputs": [
    {
     "name": "stdout",
     "output_type": "stream",
     "text": [
      "[0, 5, 10, 15, 20, 25, 30]\n"
     ]
    }
   ],
   "source": [
    "multiples_5_list = [number for number in range(31) if number % 5 == 0]\n",
    "\n",
    "print(multiples_5_list)"
   ]
  },
  {
   "cell_type": "code",
   "execution_count": 8,
   "id": "81e0dfb9",
   "metadata": {},
   "outputs": [
    {
     "data": {
      "text/plain": [
       "[1, 2, 4, 8, 16, 32, 64, 128, 256, 512, 1024]"
      ]
     },
     "execution_count": 8,
     "metadata": {},
     "output_type": "execute_result"
    }
   ],
   "source": [
    "powers_of_two = [2** number for number in range(11)]\n",
    "\n",
    "powers_of_two"
   ]
  },
  {
   "cell_type": "code",
   "execution_count": 9,
   "id": "b7d39824",
   "metadata": {},
   "outputs": [
    {
     "data": {
      "text/plain": [
       "['Phantom', 'Dawn']"
      ]
     },
     "execution_count": 9,
     "metadata": {},
     "output_type": "execute_result"
    }
   ],
   "source": [
    "[ car for car in [\"Phantom\",\"Dawn\",\"Wraith\"] \\\n",
    "        if car in [\"Phantom\",\"Maybach\",\"E-class\",\"Dawn\"]]"
   ]
  },
  {
   "cell_type": "code",
   "execution_count": 10,
   "id": "2a4604d9",
   "metadata": {},
   "outputs": [],
   "source": [
    "bags = [\"handbag\", \"pouch\", \"backpack\", \"duffel bag\"]\n",
    "\n",
    "pockets = [2, 1, 4, 5]"
   ]
  },
  {
   "cell_type": "code",
   "execution_count": 11,
   "id": "b03884cf",
   "metadata": {},
   "outputs": [
    {
     "data": {
      "text/plain": [
       "<zip at 0x2265a2bb1c0>"
      ]
     },
     "execution_count": 11,
     "metadata": {},
     "output_type": "execute_result"
    }
   ],
   "source": [
    "zip(bags, pockets)"
   ]
  },
  {
   "cell_type": "code",
   "execution_count": 12,
   "id": "949472d2",
   "metadata": {},
   "outputs": [
    {
     "data": {
      "text/plain": [
       "[('handbag', 2), ('pouch', 1), ('backpack', 4), ('duffel bag', 5)]"
      ]
     },
     "execution_count": 12,
     "metadata": {},
     "output_type": "execute_result"
    }
   ],
   "source": [
    "list(zip(bags,pockets))"
   ]
  },
  {
   "cell_type": "code",
   "execution_count": null,
   "id": "3e178d01",
   "metadata": {},
   "outputs": [],
   "source": []
  }
 ],
 "metadata": {
  "kernelspec": {
   "display_name": "Python 3 (ipykernel)",
   "language": "python",
   "name": "python3"
  },
  "language_info": {
   "codemirror_mode": {
    "name": "ipython",
    "version": 3
   },
   "file_extension": ".py",
   "mimetype": "text/x-python",
   "name": "python",
   "nbconvert_exporter": "python",
   "pygments_lexer": "ipython3",
   "version": "3.9.7"
  }
 },
 "nbformat": 4,
 "nbformat_minor": 5
}
